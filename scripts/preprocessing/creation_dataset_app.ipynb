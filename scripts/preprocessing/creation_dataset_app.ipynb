{
 "cells": [
  {
   "cell_type": "code",
   "execution_count": 1,
   "metadata": {},
   "outputs": [],
   "source": [
    "import os\n",
    "import polars as pl"
   ]
  },
  {
   "cell_type": "code",
   "execution_count": 2,
   "metadata": {},
   "outputs": [
    {
     "data": {
      "text/plain": [
       "'d:\\\\Cours_M2\\\\webscraping\\\\ml-webscrap-tennis'"
      ]
     },
     "execution_count": 2,
     "metadata": {},
     "output_type": "execute_result"
    }
   ],
   "source": [
    "current_dir = os.getcwd()\n",
    "scripts = os.path.dirname(current_dir)\n",
    "parent_dir = os.path.dirname(scripts)\n",
    "parent_dir"
   ]
  },
  {
   "cell_type": "code",
   "execution_count": 3,
   "metadata": {},
   "outputs": [],
   "source": [
    "dataset_path = os.path.join(parent_dir, \"data\", \"tennis_dataset_clean_essaie.csv\")\n",
    "df = pl.read_csv(dataset_path)"
   ]
  },
  {
   "cell_type": "code",
   "execution_count": 4,
   "metadata": {},
   "outputs": [
    {
     "data": {
      "text/plain": [
       "['index',\n",
       " 'player1_age',\n",
       " 'player1_ranking',\n",
       " 'player1_points',\n",
       " 'player1_win_rate',\n",
       " 'player1_win_rate_3_sets',\n",
       " 'player1_win_rate_tiebreak',\n",
       " 'player1_total_matches_dure',\n",
       " 'player1_win_rate_dure',\n",
       " 'player1_total_matches_terre battue',\n",
       " 'player1_win_rate_terre battue',\n",
       " 'player1_total_matches_gazon',\n",
       " 'player1_win_rate_gazon',\n",
       " 'player1_total_matches_salle',\n",
       " 'player1_win_rate_salle',\n",
       " 'player1_total_matches_carpet',\n",
       " 'player1_win_rate_carpet',\n",
       " 'player1_total_matches_acryl',\n",
       " 'player1_win_rate_acryl',\n",
       " 'player1_avg_first_serve_pct',\n",
       " 'player1_avg_first_serve_won_pct',\n",
       " 'player1_avg_second_serve_won_pct',\n",
       " 'player1_avg_return_points_won_pct',\n",
       " 'player1_avg_break_point_won_pct',\n",
       " 'player1_avg_double_fautes',\n",
       " 'player1_avg_aces',\n",
       " 'player2_age',\n",
       " 'player2_ranking',\n",
       " 'player2_points',\n",
       " 'player2_win_rate',\n",
       " 'player2_win_rate_3_sets',\n",
       " 'player2_win_rate_tiebreak',\n",
       " 'player2_total_matches_dure',\n",
       " 'player2_win_rate_dure',\n",
       " 'player2_total_matches_terre battue',\n",
       " 'player2_win_rate_terre battue',\n",
       " 'player2_total_matches_gazon',\n",
       " 'player2_win_rate_gazon',\n",
       " 'player2_total_matches_salle',\n",
       " 'player2_win_rate_salle',\n",
       " 'player2_total_matches_carpet',\n",
       " 'player2_win_rate_carpet',\n",
       " 'player2_total_matches_acryl',\n",
       " 'player2_win_rate_acryl',\n",
       " 'player2_avg_first_serve_pct',\n",
       " 'player2_avg_first_serve_won_pct',\n",
       " 'player2_avg_second_serve_won_pct',\n",
       " 'player2_avg_return_points_won_pct',\n",
       " 'player2_avg_break_point_won_pct',\n",
       " 'player2_avg_double_fautes',\n",
       " 'player2_avg_aces',\n",
       " 'tournament_category',\n",
       " 'target',\n",
       " 'surface_dure',\n",
       " 'surface_salle',\n",
       " 'surface_terre_batue',\n",
       " 'surface_gazon',\n",
       " 'ranking_diff',\n",
       " 'points_diff',\n",
       " 'win_rate_diff',\n",
       " 'win_rate_diff_3_sets',\n",
       " 'win_rate_tiebreak_diff',\n",
       " 'aces_diff',\n",
       " 'double_faults_diff',\n",
       " 'win_rate_dure_diff',\n",
       " 'win_rate_terre_diff',\n",
       " 'win_rate_gazon_diff',\n",
       " 'win_rate_salle_diff']"
      ]
     },
     "execution_count": 4,
     "metadata": {},
     "output_type": "execute_result"
    }
   ],
   "source": [
    "df.columns"
   ]
  }
 ],
 "metadata": {
  "kernelspec": {
   "display_name": ".venv",
   "language": "python",
   "name": "python3"
  },
  "language_info": {
   "codemirror_mode": {
    "name": "ipython",
    "version": 3
   },
   "file_extension": ".py",
   "mimetype": "text/x-python",
   "name": "python",
   "nbconvert_exporter": "python",
   "pygments_lexer": "ipython3",
   "version": "3.13.1"
  }
 },
 "nbformat": 4,
 "nbformat_minor": 2
}
