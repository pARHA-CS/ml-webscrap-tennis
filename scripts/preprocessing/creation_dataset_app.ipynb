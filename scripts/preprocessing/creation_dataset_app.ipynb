{
 "cells": [
  {
   "cell_type": "code",
   "execution_count": 4,
   "metadata": {},
   "outputs": [],
   "source": [
    "import os\n",
    "import polars as pl"
   ]
  },
  {
   "cell_type": "code",
   "execution_count": 5,
   "metadata": {},
   "outputs": [],
   "source": [
    "current_dir = os.getcwd()\n",
    "scripts = os.path.dirname(current_dir)\n",
    "parent_dir = os.path.dirname(scripts)\n",
    "output_path = os.path.join(parent_dir, \"data\", \"tennis_dataset_app.csv\")"
   ]
  },
  {
   "cell_type": "code",
   "execution_count": 6,
   "metadata": {},
   "outputs": [
    {
     "data": {
      "text/html": [
       "<div><style>\n",
       ".dataframe > thead > tr,\n",
       ".dataframe > tbody > tr {\n",
       "  text-align: right;\n",
       "  white-space: pre-wrap;\n",
       "}\n",
       "</style>\n",
       "<small>shape: (3_052, 71)</small><table border=\"1\" class=\"dataframe\"><thead><tr><th>index</th><th>player1_name</th><th>player1_age</th><th>player1_ranking</th><th>player1_points</th><th>player1_win_rate</th><th>player1_win_rate_3_sets</th><th>player1_win_rate_tiebreak</th><th>player1_total_matches_dure</th><th>player1_win_rate_dure</th><th>player1_total_matches_terre battue</th><th>player1_win_rate_terre battue</th><th>player1_total_matches_gazon</th><th>player1_win_rate_gazon</th><th>player1_total_matches_salle</th><th>player1_win_rate_salle</th><th>player1_total_matches_carpet</th><th>player1_win_rate_carpet</th><th>player1_total_matches_acryl</th><th>player1_win_rate_acryl</th><th>player1_avg_first_serve_pct</th><th>player1_avg_first_serve_won_pct</th><th>player1_avg_second_serve_won_pct</th><th>player1_avg_return_points_won_pct</th><th>player1_avg_break_point_won_pct</th><th>player1_avg_double_fautes</th><th>player1_avg_aces</th><th>player2_name</th><th>player2_age</th><th>player2_ranking</th><th>player2_points</th><th>player2_win_rate</th><th>player2_win_rate_3_sets</th><th>player2_win_rate_tiebreak</th><th>player2_total_matches_dure</th><th>player2_win_rate_dure</th><th>player2_total_matches_terre battue</th><th>player2_win_rate_terre battue</th><th>player2_total_matches_gazon</th><th>player2_win_rate_gazon</th><th>player2_total_matches_salle</th><th>player2_win_rate_salle</th><th>player2_total_matches_carpet</th><th>player2_win_rate_carpet</th><th>player2_total_matches_acryl</th><th>player2_win_rate_acryl</th><th>player2_avg_first_serve_pct</th><th>player2_avg_first_serve_won_pct</th><th>player2_avg_second_serve_won_pct</th><th>player2_avg_return_points_won_pct</th><th>player2_avg_break_point_won_pct</th><th>player2_avg_double_fautes</th><th>player2_avg_aces</th><th>tournament_category</th><th>target</th><th>date</th><th>surface_dure</th><th>surface_salle</th><th>surface_terre_batue</th><th>surface_gazon</th><th>ranking_diff</th><th>points_diff</th><th>win_rate_diff</th><th>win_rate_diff_3_sets</th><th>win_rate_tiebreak_diff</th><th>aces_diff</th><th>double_faults_diff</th><th>win_rate_dure_diff</th><th>win_rate_terre_diff</th><th>win_rate_gazon_diff</th><th>win_rate_salle_diff</th></tr><tr><td>i64</td><td>str</td><td>i64</td><td>i64</td><td>i64</td><td>f64</td><td>f64</td><td>f64</td><td>i64</td><td>f64</td><td>i64</td><td>f64</td><td>i64</td><td>f64</td><td>i64</td><td>f64</td><td>i64</td><td>i64</td><td>i64</td><td>i64</td><td>f64</td><td>f64</td><td>f64</td><td>f64</td><td>f64</td><td>f64</td><td>f64</td><td>str</td><td>i64</td><td>i64</td><td>i64</td><td>f64</td><td>f64</td><td>f64</td><td>i64</td><td>f64</td><td>i64</td><td>f64</td><td>i64</td><td>f64</td><td>i64</td><td>f64</td><td>i64</td><td>i64</td><td>i64</td><td>i64</td><td>f64</td><td>f64</td><td>f64</td><td>f64</td><td>f64</td><td>f64</td><td>f64</td><td>i64</td><td>i64</td><td>date</td><td>i64</td><td>i64</td><td>i64</td><td>i64</td><td>i64</td><td>i64</td><td>f64</td><td>f64</td><td>f64</td><td>f64</td><td>f64</td><td>f64</td><td>f64</td><td>f64</td><td>f64</td></tr></thead><tbody><tr><td>0</td><td>&quot;Lucas Pouille&quot;</td><td>30</td><td>101</td><td>616</td><td>0.675676</td><td>0.6</td><td>0.769231</td><td>12</td><td>0.75</td><td>13</td><td>0.615385</td><td>6</td><td>0.833333</td><td>6</td><td>0.5</td><td>0</td><td>0</td><td>0</td><td>0</td><td>0.569359</td><td>0.740458</td><td>0.53238</td><td>0.38835</td><td>0.405622</td><td>3.166667</td><td>6.833333</td><td>&quot;Gijs Brouwer&quot;</td><td>28</td><td>176</td><td>326</td><td>0.565217</td><td>0.666667</td><td>0.375</td><td>18</td><td>0.555556</td><td>11</td><td>0.545455</td><td>12</td><td>0.583333</td><td>5</td><td>0.6</td><td>0</td><td>0</td><td>0</td><td>0</td><td>0.684263</td><td>0.699219</td><td>0.512169</td><td>0.385107</td><td>0.382979</td><td>1.5</td><td>3.826087</td><td>2</td><td>0</td><td>2024-09-22</td><td>1</td><td>0</td><td>0</td><td>0</td><td>75</td><td>290</td><td>0.110458</td><td>0.066667</td><td>0.0</td><td>3.007246</td><td>1.666667</td><td>0.194444</td><td>0.06993</td><td>0.25</td><td>0.1</td></tr><tr><td>1</td><td>&quot;Taylor Harry Fritz&quot;</td><td>27</td><td>4</td><td>5100</td><td>0.75</td><td>0.727273</td><td>0.75</td><td>0</td><td>0.0</td><td>8</td><td>0.625</td><td>12</td><td>0.833333</td><td>0</td><td>0.0</td><td>0</td><td>0</td><td>0</td><td>0</td><td>0.634857</td><td>0.799842</td><td>0.559835</td><td>0.348439</td><td>0.4</td><td>1.590909</td><td>12.863636</td><td>&quot;Jack Draper&quot;</td><td>23</td><td>15</td><td>2685</td><td>0.56</td><td>0.466667</td><td>0.555556</td><td>4</td><td>0.25</td><td>11</td><td>0.454545</td><td>10</td><td>0.8</td><td>0</td><td>0.0</td><td>0</td><td>0</td><td>0</td><td>0</td><td>0.604895</td><td>0.792733</td><td>0.493047</td><td>0.360829</td><td>0.395833</td><td>3.24</td><td>9.08</td><td>3</td><td>1</td><td>2024-07-30</td><td>0</td><td>0</td><td>1</td><td>0</td><td>11</td><td>2415</td><td>0.19</td><td>0.260606</td><td>0.0</td><td>3.783636</td><td>1.649091</td><td>0.25</td><td>0.170455</td><td>0.033333</td><td>0.0</td></tr><tr><td>2</td><td>&quot;Tommy Paul&quot;</td><td>27</td><td>12</td><td>3145</td><td>0.711111</td><td>0.576923</td><td>0.916667</td><td>18</td><td>0.611111</td><td>14</td><td>0.714286</td><td>12</td><td>0.833333</td><td>1</td><td>1.0</td><td>0</td><td>0</td><td>0</td><td>0</td><td>0.616502</td><td>0.713651</td><td>0.555318</td><td>0.412325</td><td>0.397849</td><td>1.733333</td><td>5.177778</td><td>&quot;Miomir Kecmanovic&quot;</td><td>25</td><td>54</td><td>1021</td><td>0.45</td><td>0.444444</td><td>0.461538</td><td>17</td><td>0.294118</td><td>12</td><td>0.5</td><td>8</td><td>0.5</td><td>3</td><td>1.0</td><td>0</td><td>0</td><td>0</td><td>0</td><td>0.622523</td><td>0.710345</td><td>0.529309</td><td>0.359486</td><td>0.391667</td><td>2.102564</td><td>4.230769</td><td>1</td><td>1</td><td>2024-10-18</td><td>0</td><td>1</td><td>0</td><td>0</td><td>42</td><td>2124</td><td>0.261111</td><td>0.132479</td><td>0.0</td><td>0.947009</td><td>0.369231</td><td>0.316993</td><td>0.214286</td><td>0.333333</td><td>0.0</td></tr><tr><td>3</td><td>&quot;Holger Rune&quot;</td><td>21</td><td>13</td><td>3025</td><td>0.625</td><td>0.625</td><td>0.666667</td><td>18</td><td>0.611111</td><td>17</td><td>0.647059</td><td>5</td><td>0.6</td><td>0</td><td>0.0</td><td>0</td><td>0</td><td>0</td><td>0</td><td>0.596603</td><td>0.724453</td><td>0.542105</td><td>0.349387</td><td>0.396552</td><td>3.075</td><td>5.775</td><td>&quot;Nicolas Jarry&quot;</td><td>29</td><td>35</td><td>1370</td><td>0.454545</td><td>0.5</td><td>0.6</td><td>19</td><td>0.421053</td><td>18</td><td>0.5</td><td>1</td><td>0.0</td><td>6</td><td>0.5</td><td>0</td><td>0</td><td>0</td><td>0</td><td>0.632006</td><td>0.746787</td><td>0.507726</td><td>0.329688</td><td>0.334802</td><td>2.272727</td><td>9.022727</td><td>2</td><td>1</td><td>2024-10-22</td><td>0</td><td>1</td><td>0</td><td>0</td><td>22</td><td>1655</td><td>0.170455</td><td>0.125</td><td>0.0</td><td>3.247727</td><td>0.802273</td><td>0.190058</td><td>0.147059</td><td>0.6</td><td>0.5</td></tr><tr><td>5</td><td>&quot;Damir Dzumhur&quot;</td><td>32</td><td>83</td><td>679</td><td>0.678571</td><td>0.642857</td><td>0.5</td><td>5</td><td>0.6</td><td>18</td><td>0.777778</td><td>5</td><td>0.4</td><td>0</td><td>0.0</td><td>0</td><td>0</td><td>0</td><td>0</td><td>0.685901</td><td>0.639356</td><td>0.523962</td><td>0.432635</td><td>0.445344</td><td>2.285714</td><td>0.535714</td><td>&quot;Jesper De Jong&quot;</td><td>24</td><td>112</td><td>548</td><td>0.71875</td><td>0.571429</td><td>0.857143</td><td>6</td><td>0.833333</td><td>24</td><td>0.708333</td><td>2</td><td>0.5</td><td>0</td><td>0.0</td><td>0</td><td>0</td><td>0</td><td>0</td><td>0.564008</td><td>0.730239</td><td>0.513133</td><td>0.416467</td><td>0.442379</td><td>3.3125</td><td>5.53125</td><td>2</td><td>1</td><td>2024-09-07</td><td>1</td><td>0</td><td>0</td><td>0</td><td>29</td><td>131</td><td>0.040179</td><td>0.071429</td><td>0.0</td><td>4.995536</td><td>1.026786</td><td>0.233333</td><td>0.069444</td><td>0.1</td><td>0.0</td></tr><tr><td>&hellip;</td><td>&hellip;</td><td>&hellip;</td><td>&hellip;</td><td>&hellip;</td><td>&hellip;</td><td>&hellip;</td><td>&hellip;</td><td>&hellip;</td><td>&hellip;</td><td>&hellip;</td><td>&hellip;</td><td>&hellip;</td><td>&hellip;</td><td>&hellip;</td><td>&hellip;</td><td>&hellip;</td><td>&hellip;</td><td>&hellip;</td><td>&hellip;</td><td>&hellip;</td><td>&hellip;</td><td>&hellip;</td><td>&hellip;</td><td>&hellip;</td><td>&hellip;</td><td>&hellip;</td><td>&hellip;</td><td>&hellip;</td><td>&hellip;</td><td>&hellip;</td><td>&hellip;</td><td>&hellip;</td><td>&hellip;</td><td>&hellip;</td><td>&hellip;</td><td>&hellip;</td><td>&hellip;</td><td>&hellip;</td><td>&hellip;</td><td>&hellip;</td><td>&hellip;</td><td>&hellip;</td><td>&hellip;</td><td>&hellip;</td><td>&hellip;</td><td>&hellip;</td><td>&hellip;</td><td>&hellip;</td><td>&hellip;</td><td>&hellip;</td><td>&hellip;</td><td>&hellip;</td><td>&hellip;</td><td>&hellip;</td><td>&hellip;</td><td>&hellip;</td><td>&hellip;</td><td>&hellip;</td><td>&hellip;</td><td>&hellip;</td><td>&hellip;</td><td>&hellip;</td><td>&hellip;</td><td>&hellip;</td><td>&hellip;</td><td>&hellip;</td><td>&hellip;</td><td>&hellip;</td><td>&hellip;</td><td>&hellip;</td></tr><tr><td>2979</td><td>&quot;Camilo Ugo Carabelli&quot;</td><td>25</td><td>97</td><td>624</td><td>0.526316</td><td>0.5</td><td>0.0</td><td>0</td><td>0.0</td><td>18</td><td>0.555556</td><td>1</td><td>0.0</td><td>0</td><td>0.0</td><td>0</td><td>0</td><td>0</td><td>0</td><td>0.640149</td><td>0.663182</td><td>0.464876</td><td>0.416042</td><td>0.458333</td><td>1.789474</td><td>2.578947</td><td>&quot;David Goffin&quot;</td><td>34</td><td>52</td><td>1037</td><td>0.541667</td><td>0.333333</td><td>0.4</td><td>2</td><td>0.5</td><td>12</td><td>0.416667</td><td>10</td><td>0.7</td><td>0</td><td>0.0</td><td>0</td><td>0</td><td>0</td><td>0</td><td>0.581089</td><td>0.731315</td><td>0.498688</td><td>0.399793</td><td>0.412371</td><td>3.125</td><td>4.833333</td><td>1</td><td>0</td><td>2024-07-29</td><td>1</td><td>0</td><td>0</td><td>0</td><td>45</td><td>413</td><td>0.015351</td><td>0.166667</td><td>0.0</td><td>2.254386</td><td>1.335526</td><td>0.5</td><td>0.138889</td><td>0.7</td><td>0.0</td></tr><tr><td>2993</td><td>&quot;Casper Ruud&quot;</td><td>26</td><td>6</td><td>4255</td><td>0.6</td><td>0.65</td><td>0.916667</td><td>9</td><td>0.444444</td><td>25</td><td>0.76</td><td>2</td><td>0.5</td><td>9</td><td>0.333333</td><td>0</td><td>0</td><td>0</td><td>0</td><td>0.654838</td><td>0.712367</td><td>0.546573</td><td>0.383427</td><td>0.402556</td><td>2.439024</td><td>5.682927</td><td>&quot;Alexander Zverev&quot;</td><td>27</td><td>2</td><td>7915</td><td>0.755556</td><td>0.681818</td><td>0.625</td><td>15</td><td>0.733333</td><td>11</td><td>0.727273</td><td>8</td><td>0.75</td><td>11</td><td>0.818182</td><td>0</td><td>0</td><td>0</td><td>0</td><td>0.680804</td><td>0.782767</td><td>0.54616</td><td>0.383599</td><td>0.315789</td><td>2.608696</td><td>10.369565</td><td>3</td><td>0</td><td>2024-11-13</td><td>0</td><td>1</td><td>0</td><td>0</td><td>4</td><td>3660</td><td>0.155556</td><td>0.031818</td><td>0.0</td><td>4.686638</td><td>0.169671</td><td>0.288889</td><td>0.032727</td><td>0.25</td><td>0.484848</td></tr><tr><td>3026</td><td>&quot;Tomas Martin Etcheverry&quot;</td><td>25</td><td>39</td><td>1315</td><td>0.55</td><td>0.545455</td><td>0.5625</td><td>10</td><td>0.5</td><td>24</td><td>0.583333</td><td>4</td><td>0.25</td><td>2</td><td>1.0</td><td>0</td><td>0</td><td>0</td><td>0</td><td>0.649154</td><td>0.714029</td><td>0.509151</td><td>0.376144</td><td>0.368421</td><td>1.925</td><td>5.85</td><td>&quot;Jannik Sinner&quot;</td><td>23</td><td>1</td><td>11830</td><td>0.891892</td><td>0.851852</td><td>1.0</td><td>21</td><td>0.904762</td><td>6</td><td>0.833333</td><td>10</td><td>0.9</td><td>0</td><td>0.0</td><td>0</td><td>0</td><td>0</td><td>0</td><td>0.605714</td><td>0.791929</td><td>0.564412</td><td>0.40749</td><td>0.389937</td><td>2.555556</td><td>9.083333</td><td>3</td><td>0</td><td>2024-10-06</td><td>1</td><td>0</td><td>0</td><td>0</td><td>38</td><td>10515</td><td>0.341892</td><td>0.306397</td><td>0.0</td><td>3.233333</td><td>0.630556</td><td>0.404762</td><td>0.25</td><td>0.65</td><td>1.0</td></tr><tr><td>3031</td><td>&quot;James Kent Trotter&quot;</td><td>25</td><td>193</td><td>298</td><td>0.4</td><td>0.0</td><td>0.0</td><td>5</td><td>0.4</td><td>0</td><td>0.0</td><td>0</td><td>0.0</td><td>0</td><td>0.0</td><td>0</td><td>0</td><td>0</td><td>0</td><td>0.55102</td><td>0.740741</td><td>0.519481</td><td>0.401869</td><td>0.354839</td><td>2.0</td><td>6.8</td><td>&quot;Max Purcell&quot;</td><td>26</td><td>105</td><td>591</td><td>0.32</td><td>0.6</td><td>0.8</td><td>15</td><td>0.266667</td><td>4</td><td>0.5</td><td>0</td><td>0.0</td><td>6</td><td>0.333333</td><td>0</td><td>0</td><td>0</td><td>0</td><td>0.568657</td><td>0.714786</td><td>0.499423</td><td>0.323483</td><td>0.30303</td><td>2.92</td><td>7.76</td><td>2</td><td>0</td><td>2024-05-14</td><td>1</td><td>0</td><td>0</td><td>0</td><td>88</td><td>293</td><td>0.08</td><td>0.6</td><td>0.0</td><td>0.96</td><td>0.92</td><td>0.133333</td><td>0.5</td><td>0.0</td><td>0.333333</td></tr><tr><td>3037</td><td>&quot;Maximilian Marterer&quot;</td><td>29</td><td>184</td><td>313</td><td>0.444444</td><td>0.466667</td><td>0.6</td><td>13</td><td>0.307692</td><td>23</td><td>0.478261</td><td>5</td><td>0.4</td><td>4</td><td>0.75</td><td>0</td><td>0</td><td>0</td><td>0</td><td>0.610563</td><td>0.685774</td><td>0.517609</td><td>0.359868</td><td>0.418919</td><td>2.595238</td><td>5.227273</td><td>&quot;Alejandro Tabilo&quot;</td><td>27</td><td>23</td><td>1943</td><td>0.534884</td><td>0.473684</td><td>0.529412</td><td>12</td><td>0.416667</td><td>18</td><td>0.611111</td><td>9</td><td>0.777778</td><td>4</td><td>0.0</td><td>0</td><td>0</td><td>0</td><td>0</td><td>0.639838</td><td>0.747059</td><td>0.48955</td><td>0.349791</td><td>0.391111</td><td>2.418605</td><td>7.255814</td><td>1</td><td>0</td><td>2024-10-16</td><td>0</td><td>1</td><td>0</td><td>0</td><td>161</td><td>1630</td><td>0.090439</td><td>0.007018</td><td>0.0</td><td>2.028541</td><td>0.176633</td><td>0.108974</td><td>0.13285</td><td>0.377778</td><td>0.75</td></tr></tbody></table></div>"
      ],
      "text/plain": [
       "shape: (3_052, 71)\n",
       "┌───────┬────────────┬────────────┬────────────┬───┬───────────┬───────────┬───────────┬───────────┐\n",
       "│ index ┆ player1_na ┆ player1_ag ┆ player1_ra ┆ … ┆ win_rate_ ┆ win_rate_ ┆ win_rate_ ┆ win_rate_ │\n",
       "│ ---   ┆ me         ┆ e          ┆ nking      ┆   ┆ dure_diff ┆ terre_dif ┆ gazon_dif ┆ salle_dif │\n",
       "│ i64   ┆ ---        ┆ ---        ┆ ---        ┆   ┆ ---       ┆ f         ┆ f         ┆ f         │\n",
       "│       ┆ str        ┆ i64        ┆ i64        ┆   ┆ f64       ┆ ---       ┆ ---       ┆ ---       │\n",
       "│       ┆            ┆            ┆            ┆   ┆           ┆ f64       ┆ f64       ┆ f64       │\n",
       "╞═══════╪════════════╪════════════╪════════════╪═══╪═══════════╪═══════════╪═══════════╪═══════════╡\n",
       "│ 0     ┆ Lucas      ┆ 30         ┆ 101        ┆ … ┆ 0.194444  ┆ 0.06993   ┆ 0.25      ┆ 0.1       │\n",
       "│       ┆ Pouille    ┆            ┆            ┆   ┆           ┆           ┆           ┆           │\n",
       "│ 1     ┆ Taylor     ┆ 27         ┆ 4          ┆ … ┆ 0.25      ┆ 0.170455  ┆ 0.033333  ┆ 0.0       │\n",
       "│       ┆ Harry      ┆            ┆            ┆   ┆           ┆           ┆           ┆           │\n",
       "│       ┆ Fritz      ┆            ┆            ┆   ┆           ┆           ┆           ┆           │\n",
       "│ 2     ┆ Tommy Paul ┆ 27         ┆ 12         ┆ … ┆ 0.316993  ┆ 0.214286  ┆ 0.333333  ┆ 0.0       │\n",
       "│ 3     ┆ Holger     ┆ 21         ┆ 13         ┆ … ┆ 0.190058  ┆ 0.147059  ┆ 0.6       ┆ 0.5       │\n",
       "│       ┆ Rune       ┆            ┆            ┆   ┆           ┆           ┆           ┆           │\n",
       "│ 5     ┆ Damir      ┆ 32         ┆ 83         ┆ … ┆ 0.233333  ┆ 0.069444  ┆ 0.1       ┆ 0.0       │\n",
       "│       ┆ Dzumhur    ┆            ┆            ┆   ┆           ┆           ┆           ┆           │\n",
       "│ …     ┆ …          ┆ …          ┆ …          ┆ … ┆ …         ┆ …         ┆ …         ┆ …         │\n",
       "│ 2979  ┆ Camilo Ugo ┆ 25         ┆ 97         ┆ … ┆ 0.5       ┆ 0.138889  ┆ 0.7       ┆ 0.0       │\n",
       "│       ┆ Carabelli  ┆            ┆            ┆   ┆           ┆           ┆           ┆           │\n",
       "│ 2993  ┆ Casper     ┆ 26         ┆ 6          ┆ … ┆ 0.288889  ┆ 0.032727  ┆ 0.25      ┆ 0.484848  │\n",
       "│       ┆ Ruud       ┆            ┆            ┆   ┆           ┆           ┆           ┆           │\n",
       "│ 3026  ┆ Tomas      ┆ 25         ┆ 39         ┆ … ┆ 0.404762  ┆ 0.25      ┆ 0.65      ┆ 1.0       │\n",
       "│       ┆ Martin     ┆            ┆            ┆   ┆           ┆           ┆           ┆           │\n",
       "│       ┆ Etcheverry ┆            ┆            ┆   ┆           ┆           ┆           ┆           │\n",
       "│ 3031  ┆ James Kent ┆ 25         ┆ 193        ┆ … ┆ 0.133333  ┆ 0.5       ┆ 0.0       ┆ 0.333333  │\n",
       "│       ┆ Trotter    ┆            ┆            ┆   ┆           ┆           ┆           ┆           │\n",
       "│ 3037  ┆ Maximilian ┆ 29         ┆ 184        ┆ … ┆ 0.108974  ┆ 0.13285   ┆ 0.377778  ┆ 0.75      │\n",
       "│       ┆ Marterer   ┆            ┆            ┆   ┆           ┆           ┆           ┆           │\n",
       "└───────┴────────────┴────────────┴────────────┴───┴───────────┴───────────┴───────────┴───────────┘"
      ]
     },
     "execution_count": 6,
     "metadata": {},
     "output_type": "execute_result"
    }
   ],
   "source": [
    "dataset_path = os.path.join(parent_dir, \"data\", \"tennis_dataset_clean_essaie.csv\")\n",
    "df = pl.read_csv(dataset_path)\n",
    "df = df.with_columns(\n",
    "    pl.col(\"date\").str.strptime(pl.Date, format=\"%d.%m.%y\").alias(\"date\")\n",
    ")\n",
    "df"
   ]
  },
  {
   "cell_type": "code",
   "execution_count": 7,
   "metadata": {},
   "outputs": [],
   "source": [
    "joueurs = set(list(df.select(pl.col(\"player1_name\")).to_numpy().flatten()) + list(df.select(pl.col(\"player2_name\")).to_numpy().flatten()))\n",
    "assert len(joueurs) == 200, f\"nombre de joueurs incomplet, joueurs = {len(joueurs)}\""
   ]
  },
  {
   "cell_type": "code",
   "execution_count": 8,
   "metadata": {},
   "outputs": [],
   "source": [
    "derniers_matches = pl.DataFrame()\n",
    "for joueur in joueurs:\n",
    "    dernier_match = (\n",
    "        df.filter(\n",
    "            (pl.col(\"player1_name\") == joueur) | (pl.col(\"player2_name\") == joueur)\n",
    "        )\n",
    "        .sort(by=\"date\", descending=True)\n",
    "        .head(1)\n",
    "    )\n",
    "    if derniers_matches.is_empty():\n",
    "        derniers_matches = dernier_match\n",
    "    else:\n",
    "        derniers_matches = pl.concat([derniers_matches, dernier_match], how=\"vertical\")"
   ]
  },
  {
   "cell_type": "code",
   "execution_count": 9,
   "metadata": {},
   "outputs": [],
   "source": [
    "derniers_matches.write_csv(output_path)"
   ]
  }
 ],
 "metadata": {
  "kernelspec": {
   "display_name": ".venv",
   "language": "python",
   "name": "python3"
  },
  "language_info": {
   "codemirror_mode": {
    "name": "ipython",
    "version": 3
   },
   "file_extension": ".py",
   "mimetype": "text/x-python",
   "name": "python",
   "nbconvert_exporter": "python",
   "pygments_lexer": "ipython3",
   "version": "3.13.1"
  }
 },
 "nbformat": 4,
 "nbformat_minor": 2
}
