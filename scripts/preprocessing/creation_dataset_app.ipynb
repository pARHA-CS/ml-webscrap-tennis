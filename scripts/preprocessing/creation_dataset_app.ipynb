{
 "cells": [
  {
   "cell_type": "code",
   "execution_count": 4,
   "metadata": {},
   "outputs": [],
   "source": [
    "import os\n",
    "import polars as pl"
   ]
  },
  {
   "cell_type": "code",
   "execution_count": 5,
   "metadata": {},
   "outputs": [],
   "source": [
    "current_dir = os.getcwd()\n",
    "scripts = os.path.dirname(current_dir)\n",
    "parent_dir = os.path.dirname(scripts)\n",
<<<<<<< HEAD
=======
    "parent_dir\n",
>>>>>>> 604e2ac2cb330b01991e00efb971b83347cf5abe
    "output_path = os.path.join(parent_dir, \"data\", \"tennis_dataset_app.csv\")"
   ]
  },
  {
   "cell_type": "code",
   "execution_count": 6,
   "metadata": {},
   "outputs": [
    {
     "data": {
      "text/html": [
       "<div><style>\n",
       ".dataframe > thead > tr,\n",
       ".dataframe > tbody > tr {\n",
       "  text-align: right;\n",
       "  white-space: pre-wrap;\n",
       "}\n",
       "</style>\n",
       "<small>shape: (3_052, 71)</small><table border=\"1\" class=\"dataframe\"><thead><tr><th>index</th><th>player1_name</th><th>player1_age</th><th>player1_ranking</th><th>player1_points</th><th>player1_win_rate</th><th>player1_win_rate_3_sets</th><th>player1_win_rate_tiebreak</th><th>player1_total_matches_dure</th><th>player1_win_rate_dure</th><th>player1_total_matches_terre battue</th><th>player1_win_rate_terre battue</th><th>player1_total_matches_gazon</th><th>player1_win_rate_gazon</th><th>player1_total_matches_salle</th><th>player1_win_rate_salle</th><th>player1_total_matches_carpet</th><th>player1_win_rate_carpet</th><th>player1_total_matches_acryl</th><th>player1_win_rate_acryl</th><th>player1_avg_first_serve_pct</th><th>player1_avg_first_serve_won_pct</th><th>player1_avg_second_serve_won_pct</th><th>player1_avg_return_points_won_pct</th><th>player1_avg_break_point_won_pct</th><th>player1_avg_double_fautes</th><th>player1_avg_aces</th><th>player2_name</th><th>player2_age</th><th>player2_ranking</th><th>player2_points</th><th>player2_win_rate</th><th>player2_win_rate_3_sets</th><th>player2_win_rate_tiebreak</th><th>player2_total_matches_dure</th><th>player2_win_rate_dure</th><th>player2_total_matches_terre battue</th><th>player2_win_rate_terre battue</th><th>player2_total_matches_gazon</th><th>player2_win_rate_gazon</th><th>player2_total_matches_salle</th><th>player2_win_rate_salle</th><th>player2_total_matches_carpet</th><th>player2_win_rate_carpet</th><th>player2_total_matches_acryl</th><th>player2_win_rate_acryl</th><th>player2_avg_first_serve_pct</th><th>player2_avg_first_serve_won_pct</th><th>player2_avg_second_serve_won_pct</th><th>player2_avg_return_points_won_pct</th><th>player2_avg_break_point_won_pct</th><th>player2_avg_double_fautes</th><th>player2_avg_aces</th><th>tournament_category</th><th>target</th><th>date</th><th>surface_dure</th><th>surface_salle</th><th>surface_terre_batue</th><th>surface_gazon</th><th>ranking_diff</th><th>points_diff</th><th>win_rate_diff</th><th>win_rate_diff_3_sets</th><th>win_rate_tiebreak_diff</th><th>aces_diff</th><th>double_faults_diff</th><th>win_rate_dure_diff</th><th>win_rate_terre_diff</th><th>win_rate_gazon_diff</th><th>win_rate_salle_diff</th></tr><tr><td>i64</td><td>str</td><td>i64</td><td>i64</td><td>i64</td><td>f64</td><td>f64</td><td>f64</td><td>i64</td><td>f64</td><td>i64</td><td>f64</td><td>i64</td><td>f64</td><td>i64</td><td>f64</td><td>i64</td><td>i64</td><td>i64</td><td>i64</td><td>f64</td><td>f64</td><td>f64</td><td>f64</td><td>f64</td><td>f64</td><td>f64</td><td>str</td><td>i64</td><td>i64</td><td>i64</td><td>f64</td><td>f64</td><td>f64</td><td>i64</td><td>f64</td><td>i64</td><td>f64</td><td>i64</td><td>f64</td><td>i64</td><td>f64</td><td>i64</td><td>i64</td><td>i64</td><td>i64</td><td>f64</td><td>f64</td><td>f64</td><td>f64</td><td>f64</td><td>f64</td><td>f64</td><td>i64</td><td>i64</td><td>date</td><td>i64</td><td>i64</td><td>i64</td><td>i64</td><td>i64</td><td>i64</td><td>f64</td><td>f64</td><td>f64</td><td>f64</td><td>f64</td><td>f64</td><td>f64</td><td>f64</td><td>f64</td></tr></thead><tbody><tr><td>0</td><td>&quot;Lucas Pouille&quot;</td><td>30</td><td>101</td><td>616</td><td>0.675676</td><td>0.6</td><td>0.769231</td><td>12</td><td>0.75</td><td>13</td><td>0.615385</td><td>6</td><td>0.833333</td><td>6</td><td>0.5</td><td>0</td><td>0</td><td>0</td><td>0</td><td>0.569359</td><td>0.740458</td><td>0.53238</td><td>0.38835</td><td>0.405622</td><td>3.166667</td><td>6.833333</td><td>&quot;Gijs Brouwer&quot;</td><td>28</td><td>176</td><td>326</td><td>0.565217</td><td>0.666667</td><td>0.375</td><td>18</td><td>0.555556</td><td>11</td><td>0.545455</td><td>12</td><td>0.583333</td><td>5</td><td>0.6</td><td>0</td><td>0</td><td>0</td><td>0</td><td>0.684263</td><td>0.699219</td><td>0.512169</td><td>0.385107</td><td>0.382979</td><td>1.5</td><td>3.826087</td><td>2</td><td>0</td><td>2024-09-22</td><td>1</td><td>0</td><td>0</td><td>0</td><td>75</td><td>290</td><td>0.110458</td><td>0.066667</td><td>0.0</td><td>3.007246</td><td>1.666667</td><td>0.194444</td><td>0.06993</td><td>0.25</td><td>0.1</td></tr><tr><td>1</td><td>&quot;Taylor Harry Fritz&quot;</td><td>27</td><td>4</td><td>5100</td><td>0.75</td><td>0.727273</td><td>0.75</td><td>0</td><td>0.0</td><td>8</td><td>0.625</td><td>12</td><td>0.833333</td><td>0</td><td>0.0</td><td>0</td><td>0</td><td>0</td><td>0</td><td>0.634857</td><td>0.799842</td><td>0.559835</td><td>0.348439</td><td>0.4</td><td>1.590909</td><td>12.863636</td><td>&quot;Jack Draper&quot;</td><td>23</td><td>15</td><td>2685</td><td>0.56</td><td>0.466667</td><td>0.555556</td><td>4</td><td>0.25</td><td>11</td><td>0.454545</td><td>10</td><td>0.8</td><td>0</td><td>0.0</td><td>0</td><td>0</td><td>0</td><td>0</td><td>0.604895</td><td>0.792733</td><td>0.493047</td><td>0.360829</td><td>0.395833</td><td>3.24</td><td>9.08</td><td>3</td><td>1</td><td>2024-07-30</td><td>0</td><td>0</td><td>1</td><td>0</td><td>11</td><td>2415</td><td>0.19</td><td>0.260606</td><td>0.0</td><td>3.783636</td><td>1.649091</td><td>0.25</td><td>0.170455</td><td>0.033333</td><td>0.0</td></tr><tr><td>2</td><td>&quot;Tommy Paul&quot;</td><td>27</td><td>12</td><td>3145</td><td>0.711111</td><td>0.576923</td><td>0.916667</td><td>18</td><td>0.611111</td><td>14</td><td>0.714286</td><td>12</td><td>0.833333</td><td>1</td><td>1.0</td><td>0</td><td>0</td><td>0</td><td>0</td><td>0.616502</td><td>0.713651</td><td>0.555318</td><td>0.412325</td><td>0.397849</td><td>1.733333</td><td>5.177778</td><td>&quot;Miomir Kecmanovic&quot;</td><td>25</td><td>54</td><td>1021</td><td>0.45</td><td>0.444444</td><td>0.461538</td><td>17</td><td>0.294118</td><td>12</td><td>0.5</td><td>8</td><td>0.5</td><td>3</td><td>1.0</td><td>0</td><td>0</td><td>0</td><td>0</td><td>0.622523</td><td>0.710345</td><td>0.529309</td><td>0.359486</td><td>0.391667</td><td>2.102564</td><td>4.230769</td><td>1</td><td>1</td><td>2024-10-18</td><td>0</td><td>1</td><td>0</td><td>0</td><td>42</td><td>2124</td><td>0.261111</td><td>0.132479</td><td>0.0</td><td>0.947009</td><td>0.369231</td><td>0.316993</td><td>0.214286</td><td>0.333333</td><td>0.0</td></tr><tr><td>3</td><td>&quot;Holger Rune&quot;</td><td>21</td><td>13</td><td>3025</td><td>0.625</td><td>0.625</td><td>0.666667</td><td>18</td><td>0.611111</td><td>17</td><td>0.647059</td><td>5</td><td>0.6</td><td>0</td><td>0.0</td><td>0</td><td>0</td><td>0</td><td>0</td><td>0.596603</td><td>0.724453</td><td>0.542105</td><td>0.349387</td><td>0.396552</td><td>3.075</td><td>5.775</td><td>&quot;Nicolas Jarry&quot;</td><td>29</td><td>35</td><td>1370</td><td>0.454545</td><td>0.5</td><td>0.6</td><td>19</td><td>0.421053</td><td>18</td><td>0.5</td><td>1</td><td>0.0</td><td>6</td><td>0.5</td><td>0</td><td>0</td><td>0</td><td>0</td><td>0.632006</td><td>0.746787</td><td>0.507726</td><td>0.329688</td><td>0.334802</td><td>2.272727</td><td>9.022727</td><td>2</td><td>1</td><td>2024-10-22</td><td>0</td><td>1</td><td>0</td><td>0</td><td>22</td><td>1655</td><td>0.170455</td><td>0.125</td><td>0.0</td><td>3.247727</td><td>0.802273</td><td>0.190058</td><td>0.147059</td><td>0.6</td><td>0.5</td></tr><tr><td>5</td><td>&quot;Damir Dzumhur&quot;</td><td>32</td><td>83</td><td>679</td><td>0.678571</td><td>0.642857</td><td>0.5</td><td>5</td><td>0.6</td><td>18</td><td>0.777778</td><td>5</td><td>0.4</td><td>0</td><td>0.0</td><td>0</td><td>0</td><td>0</td><td>0</td><td>0.685901</td><td>0.639356</td><td>0.523962</td><td>0.432635</td><td>0.445344</td><td>2.285714</td><td>0.535714</td><td>&quot;Jesper De Jong&quot;</td><td>24</td><td>112</td><td>548</td><td>0.71875</td><td>0.571429</td><td>0.857143</td><td>6</td><td>0.833333</td><td>24</td><td>0.708333</td><td>2</td><td>0.5</td><td>0</td><td>0.0</td><td>0</td><td>0</td><td>0</td><td>0</td><td>0.564008</td><td>0.730239</td><td>0.513133</td><td>0.416467</td><td>0.442379</td><td>3.3125</td><td>5.53125</td><td>2</td><td>1</td><td>2024-09-07</td><td>1</td><td>0</td><td>0</td><td>0</td><td>29</td><td>131</td><td>0.040179</td><td>0.071429</td><td>0.0</td><td>4.995536</td><td>1.026786</td><td>0.233333</td><td>0.069444</td><td>0.1</td><td>0.0</td></tr><tr><td>&hellip;</td><td>&hellip;</td><td>&hellip;</td><td>&hellip;</td><td>&hellip;</td><td>&hellip;</td><td>&hellip;</td><td>&hellip;</td><td>&hellip;</td><td>&hellip;</td><td>&hellip;</td><td>&hellip;</td><td>&hellip;</td><td>&hellip;</td><td>&hellip;</td><td>&hellip;</td><td>&hellip;</td><td>&hellip;</td><td>&hellip;</td><td>&hellip;</td><td>&hellip;</td><td>&hellip;</td><td>&hellip;</td><td>&hellip;</td><td>&hellip;</td><td>&hellip;</td><td>&hellip;</td><td>&hellip;</td><td>&hellip;</td><td>&hellip;</td><td>&hellip;</td><td>&hellip;</td><td>&hellip;</td><td>&hellip;</td><td>&hellip;</td><td>&hellip;</td><td>&hellip;</td><td>&hellip;</td><td>&hellip;</td><td>&hellip;</td><td>&hellip;</td><td>&hellip;</td><td>&hellip;</td><td>&hellip;</td><td>&hellip;</td><td>&hellip;</td><td>&hellip;</td><td>&hellip;</td><td>&hellip;</td><td>&hellip;</td><td>&hellip;</td><td>&hellip;</td><td>&hellip;</td><td>&hellip;</td><td>&hellip;</td><td>&hellip;</td><td>&hellip;</td><td>&hellip;</td><td>&hellip;</td><td>&hellip;</td><td>&hellip;</td><td>&hellip;</td><td>&hellip;</td><td>&hellip;</td><td>&hellip;</td><td>&hellip;</td><td>&hellip;</td><td>&hellip;</td><td>&hellip;</td><td>&hellip;</td><td>&hellip;</td></tr><tr><td>2979</td><td>&quot;Camilo Ugo Carabelli&quot;</td><td>25</td><td>97</td><td>624</td><td>0.526316</td><td>0.5</td><td>0.0</td><td>0</td><td>0.0</td><td>18</td><td>0.555556</td><td>1</td><td>0.0</td><td>0</td><td>0.0</td><td>0</td><td>0</td><td>0</td><td>0</td><td>0.640149</td><td>0.663182</td><td>0.464876</td><td>0.416042</td><td>0.458333</td><td>1.789474</td><td>2.578947</td><td>&quot;David Goffin&quot;</td><td>34</td><td>52</td><td>1037</td><td>0.541667</td><td>0.333333</td><td>0.4</td><td>2</td><td>0.5</td><td>12</td><td>0.416667</td><td>10</td><td>0.7</td><td>0</td><td>0.0</td><td>0</td><td>0</td><td>0</td><td>0</td><td>0.581089</td><td>0.731315</td><td>0.498688</td><td>0.399793</td><td>0.412371</td><td>3.125</td><td>4.833333</td><td>1</td><td>0</td><td>2024-07-29</td><td>1</td><td>0</td><td>0</td><td>0</td><td>45</td><td>413</td><td>0.015351</td><td>0.166667</td><td>0.0</td><td>2.254386</td><td>1.335526</td><td>0.5</td><td>0.138889</td><td>0.7</td><td>0.0</td></tr><tr><td>2993</td><td>&quot;Casper Ruud&quot;</td><td>26</td><td>6</td><td>4255</td><td>0.6</td><td>0.65</td><td>0.916667</td><td>9</td><td>0.444444</td><td>25</td><td>0.76</td><td>2</td><td>0.5</td><td>9</td><td>0.333333</td><td>0</td><td>0</td><td>0</td><td>0</td><td>0.654838</td><td>0.712367</td><td>0.546573</td><td>0.383427</td><td>0.402556</td><td>2.439024</td><td>5.682927</td><td>&quot;Alexander Zverev&quot;</td><td>27</td><td>2</td><td>7915</td><td>0.755556</td><td>0.681818</td><td>0.625</td><td>15</td><td>0.733333</td><td>11</td><td>0.727273</td><td>8</td><td>0.75</td><td>11</td><td>0.818182</td><td>0</td><td>0</td><td>0</td><td>0</td><td>0.680804</td><td>0.782767</td><td>0.54616</td><td>0.383599</td><td>0.315789</td><td>2.608696</td><td>10.369565</td><td>3</td><td>0</td><td>2024-11-13</td><td>0</td><td>1</td><td>0</td><td>0</td><td>4</td><td>3660</td><td>0.155556</td><td>0.031818</td><td>0.0</td><td>4.686638</td><td>0.169671</td><td>0.288889</td><td>0.032727</td><td>0.25</td><td>0.484848</td></tr><tr><td>3026</td><td>&quot;Tomas Martin Etcheverry&quot;</td><td>25</td><td>39</td><td>1315</td><td>0.55</td><td>0.545455</td><td>0.5625</td><td>10</td><td>0.5</td><td>24</td><td>0.583333</td><td>4</td><td>0.25</td><td>2</td><td>1.0</td><td>0</td><td>0</td><td>0</td><td>0</td><td>0.649154</td><td>0.714029</td><td>0.509151</td><td>0.376144</td><td>0.368421</td><td>1.925</td><td>5.85</td><td>&quot;Jannik Sinner&quot;</td><td>23</td><td>1</td><td>11830</td><td>0.891892</td><td>0.851852</td><td>1.0</td><td>21</td><td>0.904762</td><td>6</td><td>0.833333</td><td>10</td><td>0.9</td><td>0</td><td>0.0</td><td>0</td><td>0</td><td>0</td><td>0</td><td>0.605714</td><td>0.791929</td><td>0.564412</td><td>0.40749</td><td>0.389937</td><td>2.555556</td><td>9.083333</td><td>3</td><td>0</td><td>2024-10-06</td><td>1</td><td>0</td><td>0</td><td>0</td><td>38</td><td>10515</td><td>0.341892</td><td>0.306397</td><td>0.0</td><td>3.233333</td><td>0.630556</td><td>0.404762</td><td>0.25</td><td>0.65</td><td>1.0</td></tr><tr><td>3031</td><td>&quot;James Kent Trotter&quot;</td><td>25</td><td>193</td><td>298</td><td>0.4</td><td>0.0</td><td>0.0</td><td>5</td><td>0.4</td><td>0</td><td>0.0</td><td>0</td><td>0.0</td><td>0</td><td>0.0</td><td>0</td><td>0</td><td>0</td><td>0</td><td>0.55102</td><td>0.740741</td><td>0.519481</td><td>0.401869</td><td>0.354839</td><td>2.0</td><td>6.8</td><td>&quot;Max Purcell&quot;</td><td>26</td><td>105</td><td>591</td><td>0.32</td><td>0.6</td><td>0.8</td><td>15</td><td>0.266667</td><td>4</td><td>0.5</td><td>0</td><td>0.0</td><td>6</td><td>0.333333</td><td>0</td><td>0</td><td>0</td><td>0</td><td>0.568657</td><td>0.714786</td><td>0.499423</td><td>0.323483</td><td>0.30303</td><td>2.92</td><td>7.76</td><td>2</td><td>0</td><td>2024-05-14</td><td>1</td><td>0</td><td>0</td><td>0</td><td>88</td><td>293</td><td>0.08</td><td>0.6</td><td>0.0</td><td>0.96</td><td>0.92</td><td>0.133333</td><td>0.5</td><td>0.0</td><td>0.333333</td></tr><tr><td>3037</td><td>&quot;Maximilian Marterer&quot;</td><td>29</td><td>184</td><td>313</td><td>0.444444</td><td>0.466667</td><td>0.6</td><td>13</td><td>0.307692</td><td>23</td><td>0.478261</td><td>5</td><td>0.4</td><td>4</td><td>0.75</td><td>0</td><td>0</td><td>0</td><td>0</td><td>0.610563</td><td>0.685774</td><td>0.517609</td><td>0.359868</td><td>0.418919</td><td>2.595238</td><td>5.227273</td><td>&quot;Alejandro Tabilo&quot;</td><td>27</td><td>23</td><td>1943</td><td>0.534884</td><td>0.473684</td><td>0.529412</td><td>12</td><td>0.416667</td><td>18</td><td>0.611111</td><td>9</td><td>0.777778</td><td>4</td><td>0.0</td><td>0</td><td>0</td><td>0</td><td>0</td><td>0.639838</td><td>0.747059</td><td>0.48955</td><td>0.349791</td><td>0.391111</td><td>2.418605</td><td>7.255814</td><td>1</td><td>0</td><td>2024-10-16</td><td>0</td><td>1</td><td>0</td><td>0</td><td>161</td><td>1630</td><td>0.090439</td><td>0.007018</td><td>0.0</td><td>2.028541</td><td>0.176633</td><td>0.108974</td><td>0.13285</td><td>0.377778</td><td>0.75</td></tr></tbody></table></div>"
      ],
      "text/plain": [
       "shape: (3_052, 71)\n",
       "┌───────┬────────────┬────────────┬────────────┬───┬───────────┬───────────┬───────────┬───────────┐\n",
       "│ index ┆ player1_na ┆ player1_ag ┆ player1_ra ┆ … ┆ win_rate_ ┆ win_rate_ ┆ win_rate_ ┆ win_rate_ │\n",
       "│ ---   ┆ me         ┆ e          ┆ nking      ┆   ┆ dure_diff ┆ terre_dif ┆ gazon_dif ┆ salle_dif │\n",
       "│ i64   ┆ ---        ┆ ---        ┆ ---        ┆   ┆ ---       ┆ f         ┆ f         ┆ f         │\n",
       "│       ┆ str        ┆ i64        ┆ i64        ┆   ┆ f64       ┆ ---       ┆ ---       ┆ ---       │\n",
       "│       ┆            ┆            ┆            ┆   ┆           ┆ f64       ┆ f64       ┆ f64       │\n",
       "╞═══════╪════════════╪════════════╪════════════╪═══╪═══════════╪═══════════╪═══════════╪═══════════╡\n",
       "│ 0     ┆ Lucas      ┆ 30         ┆ 101        ┆ … ┆ 0.194444  ┆ 0.06993   ┆ 0.25      ┆ 0.1       │\n",
       "│       ┆ Pouille    ┆            ┆            ┆   ┆           ┆           ┆           ┆           │\n",
       "│ 1     ┆ Taylor     ┆ 27         ┆ 4          ┆ … ┆ 0.25      ┆ 0.170455  ┆ 0.033333  ┆ 0.0       │\n",
       "│       ┆ Harry      ┆            ┆            ┆   ┆           ┆           ┆           ┆           │\n",
       "│       ┆ Fritz      ┆            ┆            ┆   ┆           ┆           ┆           ┆           │\n",
       "│ 2     ┆ Tommy Paul ┆ 27         ┆ 12         ┆ … ┆ 0.316993  ┆ 0.214286  ┆ 0.333333  ┆ 0.0       │\n",
       "│ 3     ┆ Holger     ┆ 21         ┆ 13         ┆ … ┆ 0.190058  ┆ 0.147059  ┆ 0.6       ┆ 0.5       │\n",
       "│       ┆ Rune       ┆            ┆            ┆   ┆           ┆           ┆           ┆           │\n",
       "│ 5     ┆ Damir      ┆ 32         ┆ 83         ┆ … ┆ 0.233333  ┆ 0.069444  ┆ 0.1       ┆ 0.0       │\n",
       "│       ┆ Dzumhur    ┆            ┆            ┆   ┆           ┆           ┆           ┆           │\n",
       "│ …     ┆ …          ┆ …          ┆ …          ┆ … ┆ …         ┆ …         ┆ …         ┆ …         │\n",
       "│ 2979  ┆ Camilo Ugo ┆ 25         ┆ 97         ┆ … ┆ 0.5       ┆ 0.138889  ┆ 0.7       ┆ 0.0       │\n",
       "│       ┆ Carabelli  ┆            ┆            ┆   ┆           ┆           ┆           ┆           │\n",
       "│ 2993  ┆ Casper     ┆ 26         ┆ 6          ┆ … ┆ 0.288889  ┆ 0.032727  ┆ 0.25      ┆ 0.484848  │\n",
       "│       ┆ Ruud       ┆            ┆            ┆   ┆           ┆           ┆           ┆           │\n",
       "│ 3026  ┆ Tomas      ┆ 25         ┆ 39         ┆ … ┆ 0.404762  ┆ 0.25      ┆ 0.65      ┆ 1.0       │\n",
       "│       ┆ Martin     ┆            ┆            ┆   ┆           ┆           ┆           ┆           │\n",
       "│       ┆ Etcheverry ┆            ┆            ┆   ┆           ┆           ┆           ┆           │\n",
       "│ 3031  ┆ James Kent ┆ 25         ┆ 193        ┆ … ┆ 0.133333  ┆ 0.5       ┆ 0.0       ┆ 0.333333  │\n",
       "│       ┆ Trotter    ┆            ┆            ┆   ┆           ┆           ┆           ┆           │\n",
       "│ 3037  ┆ Maximilian ┆ 29         ┆ 184        ┆ … ┆ 0.108974  ┆ 0.13285   ┆ 0.377778  ┆ 0.75      │\n",
       "│       ┆ Marterer   ┆            ┆            ┆   ┆           ┆           ┆           ┆           │\n",
       "└───────┴────────────┴────────────┴────────────┴───┴───────────┴───────────┴───────────┴───────────┘"
      ]
     },
     "execution_count": 6,
     "metadata": {},
     "output_type": "execute_result"
    }
   ],
   "source": [
    "dataset_path = os.path.join(parent_dir, \"data\", \"tennis_dataset_clean_essaie.csv\")\n",
    "df = pl.read_csv(dataset_path)\n",
    "df = df.with_columns(\n",
    "    pl.col(\"date\").str.strptime(pl.Date, format=\"%d.%m.%y\").alias(\"date\")\n",
    ")\n",
    "df"
   ]
  },
  {
   "cell_type": "code",
   "execution_count": 7,
   "metadata": {},
   "outputs": [],
   "source": [
    "joueurs = set(list(df.select(pl.col(\"player1_name\")).to_numpy().flatten()) + list(df.select(pl.col(\"player2_name\")).to_numpy().flatten()))\n",
<<<<<<< HEAD
    "assert len(joueurs) == 200, f\"nombre de joueurs incomplet, joueurs = {len(joueurs)}\""
=======
    "assert len(joueurs) == 200, f\"nombres de joueurs incomplet, joueurs = {len(joueurs)}\""
>>>>>>> 604e2ac2cb330b01991e00efb971b83347cf5abe
   ]
  },
  {
   "cell_type": "code",
   "execution_count": 8,
   "metadata": {},
   "outputs": [],
   "source": [
    "derniers_matches = pl.DataFrame()\n",
    "for joueur in joueurs:\n",
    "    dernier_match = (\n",
    "        df.filter(\n",
    "            (pl.col(\"player1_name\") == joueur) | (pl.col(\"player2_name\") == joueur)\n",
    "        )\n",
    "        .sort(by=\"date\", descending=True)\n",
    "        .head(1)\n",
    "    )\n",
    "    if derniers_matches.is_empty():\n",
    "        derniers_matches = dernier_match\n",
    "    else:\n",
    "        derniers_matches = pl.concat([derniers_matches, dernier_match], how=\"vertical\")"
   ]
  },
  {
   "cell_type": "code",
   "execution_count": 9,
   "metadata": {},
   "outputs": [],
   "source": [
    "derniers_matches.write_csv(output_path)"
   ]
<<<<<<< HEAD
=======
  },
  {
   "cell_type": "code",
   "execution_count": 10,
   "metadata": {},
   "outputs": [
    {
     "data": {
      "text/html": [
       "<div><style>\n",
       ".dataframe > thead > tr,\n",
       ".dataframe > tbody > tr {\n",
       "  text-align: right;\n",
       "  white-space: pre-wrap;\n",
       "}\n",
       "</style>\n",
       "<small>shape: (200, 71)</small><table border=\"1\" class=\"dataframe\"><thead><tr><th>index</th><th>player1_name</th><th>player1_age</th><th>player1_ranking</th><th>player1_points</th><th>player1_win_rate</th><th>player1_win_rate_3_sets</th><th>player1_win_rate_tiebreak</th><th>player1_total_matches_dure</th><th>player1_win_rate_dure</th><th>player1_total_matches_terre battue</th><th>player1_win_rate_terre battue</th><th>player1_total_matches_gazon</th><th>player1_win_rate_gazon</th><th>player1_total_matches_salle</th><th>player1_win_rate_salle</th><th>player1_total_matches_carpet</th><th>player1_win_rate_carpet</th><th>player1_total_matches_acryl</th><th>player1_win_rate_acryl</th><th>player1_avg_first_serve_pct</th><th>player1_avg_first_serve_won_pct</th><th>player1_avg_second_serve_won_pct</th><th>player1_avg_return_points_won_pct</th><th>player1_avg_break_point_won_pct</th><th>player1_avg_double_fautes</th><th>player1_avg_aces</th><th>player2_name</th><th>player2_age</th><th>player2_ranking</th><th>player2_points</th><th>player2_win_rate</th><th>player2_win_rate_3_sets</th><th>player2_win_rate_tiebreak</th><th>player2_total_matches_dure</th><th>player2_win_rate_dure</th><th>player2_total_matches_terre battue</th><th>player2_win_rate_terre battue</th><th>player2_total_matches_gazon</th><th>player2_win_rate_gazon</th><th>player2_total_matches_salle</th><th>player2_win_rate_salle</th><th>player2_total_matches_carpet</th><th>player2_win_rate_carpet</th><th>player2_total_matches_acryl</th><th>player2_win_rate_acryl</th><th>player2_avg_first_serve_pct</th><th>player2_avg_first_serve_won_pct</th><th>player2_avg_second_serve_won_pct</th><th>player2_avg_return_points_won_pct</th><th>player2_avg_break_point_won_pct</th><th>player2_avg_double_fautes</th><th>player2_avg_aces</th><th>tournament_category</th><th>target</th><th>date</th><th>surface_dure</th><th>surface_salle</th><th>surface_terre_batue</th><th>surface_gazon</th><th>ranking_diff</th><th>points_diff</th><th>win_rate_diff</th><th>win_rate_diff_3_sets</th><th>win_rate_tiebreak_diff</th><th>aces_diff</th><th>double_faults_diff</th><th>win_rate_dure_diff</th><th>win_rate_terre_diff</th><th>win_rate_gazon_diff</th><th>win_rate_salle_diff</th></tr><tr><td>i64</td><td>str</td><td>i64</td><td>i64</td><td>i64</td><td>f64</td><td>f64</td><td>f64</td><td>i64</td><td>f64</td><td>i64</td><td>f64</td><td>i64</td><td>f64</td><td>i64</td><td>f64</td><td>i64</td><td>i64</td><td>i64</td><td>i64</td><td>f64</td><td>f64</td><td>f64</td><td>f64</td><td>f64</td><td>f64</td><td>f64</td><td>str</td><td>i64</td><td>i64</td><td>i64</td><td>f64</td><td>f64</td><td>f64</td><td>i64</td><td>f64</td><td>i64</td><td>f64</td><td>i64</td><td>f64</td><td>i64</td><td>f64</td><td>i64</td><td>i64</td><td>i64</td><td>i64</td><td>f64</td><td>f64</td><td>f64</td><td>f64</td><td>f64</td><td>f64</td><td>f64</td><td>i64</td><td>i64</td><td>date</td><td>i64</td><td>i64</td><td>i64</td><td>i64</td><td>i64</td><td>i64</td><td>f64</td><td>f64</td><td>f64</td><td>f64</td><td>f64</td><td>f64</td><td>f64</td><td>f64</td><td>f64</td></tr></thead><tbody><tr><td>1946</td><td>&quot;Cameron Norrie&quot;</td><td>29</td><td>49</td><td>1119</td><td>0.530612</td><td>0.68</td><td>0.411765</td><td>14</td><td>0.642857</td><td>16</td><td>0.5</td><td>7</td><td>0.428571</td><td>12</td><td>0.5</td><td>0</td><td>0</td><td>0</td><td>0</td><td>0.647631</td><td>0.718906</td><td>0.515216</td><td>0.367711</td><td>0.409222</td><td>2.291667</td><td>5.5625</td><td>&quot;Kei Nishikori&quot;</td><td>35</td><td>106</td><td>578</td><td>0.673469</td><td>0.666667</td><td>0.666667</td><td>29</td><td>0.689655</td><td>9</td><td>0.555556</td><td>1</td><td>0.0</td><td>10</td><td>0.8</td><td>0</td><td>0</td><td>0</td><td>0</td><td>0.65074</td><td>0.678832</td><td>0.552</td><td>0.39989</td><td>0.4</td><td>1.893617</td><td>2.12766</td><td>1</td><td>0</td><td>2025-01-03</td><td>1</td><td>0</td><td>0</td><td>0</td><td>57</td><td>541</td><td>0.142857</td><td>0.013333</td><td>0.0</td><td>3.43484</td><td>0.39805</td><td>0.046798</td><td>0.055556</td><td>0.428571</td><td>0.3</td></tr><tr><td>1919</td><td>&quot;Grigor Dimitrov&quot;</td><td>33</td><td>10</td><td>3350</td><td>0.680851</td><td>0.642857</td><td>1.071429</td><td>19</td><td>0.684211</td><td>12</td><td>0.666667</td><td>6</td><td>0.666667</td><td>10</td><td>0.7</td><td>0</td><td>0</td><td>0</td><td>0</td><td>0.596456</td><td>0.794143</td><td>0.523839</td><td>0.367542</td><td>0.366013</td><td>4.122449</td><td>8.387755</td><td>&quot;Yannick Hanfmann&quot;</td><td>33</td><td>96</td><td>627</td><td>0.44898</td><td>0.666667</td><td>0.75</td><td>17</td><td>0.529412</td><td>21</td><td>0.428571</td><td>6</td><td>0.333333</td><td>5</td><td>0.4</td><td>0</td><td>0</td><td>0</td><td>0</td><td>0.674242</td><td>0.678047</td><td>0.514311</td><td>0.34324</td><td>0.292776</td><td>1.795918</td><td>4.816327</td><td>1</td><td>1</td><td>2024-12-30</td><td>1</td><td>0</td><td>0</td><td>0</td><td>86</td><td>2723</td><td>0.231871</td><td>0.02381</td><td>0.0</td><td>3.571429</td><td>2.326531</td><td>0.154799</td><td>0.238095</td><td>0.333333</td><td>0.3</td></tr><tr><td>2374</td><td>&quot;Jakub Mensik&quot;</td><td>19</td><td>48</td><td>1136</td><td>0.540541</td><td>0.6</td><td>0.857143</td><td>18</td><td>0.611111</td><td>10</td><td>0.6</td><td>7</td><td>0.285714</td><td>2</td><td>0.5</td><td>0</td><td>0</td><td>0</td><td>0</td><td>0.568115</td><td>0.73318</td><td>0.463801</td><td>0.373998</td><td>0.438247</td><td>4.135135</td><td>8.72973</td><td>&quot;Alexander Ritschard&quot;</td><td>30</td><td>118</td><td>513</td><td>0.695652</td><td>0.5</td><td>1.3</td><td>2</td><td>0.0</td><td>37</td><td>0.783784</td><td>2</td><td>0.5</td><td>5</td><td>0.4</td><td>0</td><td>0</td><td>0</td><td>0</td><td>0.602061</td><td>0.680456</td><td>0.519424</td><td>0.429748</td><td>0.406103</td><td>3.304348</td><td>2.326087</td><td>2</td><td>1</td><td>2024-10-19</td><td>0</td><td>1</td><td>0</td><td>0</td><td>70</td><td>623</td><td>0.155112</td><td>0.1</td><td>0.0</td><td>6.403643</td><td>0.830787</td><td>0.611111</td><td>0.183784</td><td>0.214286</td><td>0.1</td></tr><tr><td>959</td><td>&quot;Rinky Hijikata&quot;</td><td>23</td><td>73</td><td>746</td><td>0.571429</td><td>0.666667</td><td>0.842105</td><td>34</td><td>0.676471</td><td>5</td><td>0.0</td><td>10</td><td>0.5</td><td>0</td><td>0.0</td><td>0</td><td>0</td><td>0</td><td>0</td><td>0.596864</td><td>0.681656</td><td>0.487146</td><td>0.381519</td><td>0.38835</td><td>2.666667</td><td>3.666667</td><td>&quot;Novak Djokovic&quot;</td><td>37</td><td>7</td><td>3910</td><td>0.787234</td><td>0.76</td><td>0.916667</td><td>19</td><td>0.736842</td><td>20</td><td>0.8</td><td>7</td><td>0.857143</td><td>1</td><td>1.0</td><td>0</td><td>0</td><td>0</td><td>0</td><td>0.641745</td><td>0.752274</td><td>0.552366</td><td>0.413876</td><td>0.418803</td><td>2.409091</td><td>6.636364</td><td>1</td><td>0</td><td>2024-12-31</td><td>1</td><td>0</td><td>0</td><td>0</td><td>66</td><td>3164</td><td>0.215805</td><td>0.093333</td><td>0.0</td><td>2.969697</td><td>0.257576</td><td>0.060372</td><td>0.8</td><td>0.357143</td><td>1.0</td></tr><tr><td>2149</td><td>&quot;Nicolas Jarry&quot;</td><td>29</td><td>35</td><td>1370</td><td>0.458333</td><td>0.5</td><td>0.608696</td><td>20</td><td>0.45</td><td>18</td><td>0.5</td><td>1</td><td>0.0</td><td>9</td><td>0.444444</td><td>0</td><td>0</td><td>0</td><td>0</td><td>0.630901</td><td>0.7491</td><td>0.511628</td><td>0.326082</td><td>0.336134</td><td>2.25</td><td>8.916667</td><td>&quot;Benjamin Bonzi&quot;</td><td>28</td><td>75</td><td>730</td><td>0.77551</td><td>0.642857</td><td>0.833333</td><td>20</td><td>0.65</td><td>0</td><td>0.0</td><td>2</td><td>0.5</td><td>27</td><td>0.888889</td><td>0</td><td>0</td><td>0</td><td>0</td><td>0.610465</td><td>0.764762</td><td>0.55</td><td>0.394413</td><td>0.412141</td><td>2.122449</td><td>6.918367</td><td>1</td><td>1</td><td>2025-01-01</td><td>1</td><td>0</td><td>0</td><td>0</td><td>40</td><td>640</td><td>0.317177</td><td>0.142857</td><td>0.0</td><td>1.998299</td><td>0.127551</td><td>0.2</td><td>0.5</td><td>0.5</td><td>0.444444</td></tr><tr><td>&hellip;</td><td>&hellip;</td><td>&hellip;</td><td>&hellip;</td><td>&hellip;</td><td>&hellip;</td><td>&hellip;</td><td>&hellip;</td><td>&hellip;</td><td>&hellip;</td><td>&hellip;</td><td>&hellip;</td><td>&hellip;</td><td>&hellip;</td><td>&hellip;</td><td>&hellip;</td><td>&hellip;</td><td>&hellip;</td><td>&hellip;</td><td>&hellip;</td><td>&hellip;</td><td>&hellip;</td><td>&hellip;</td><td>&hellip;</td><td>&hellip;</td><td>&hellip;</td><td>&hellip;</td><td>&hellip;</td><td>&hellip;</td><td>&hellip;</td><td>&hellip;</td><td>&hellip;</td><td>&hellip;</td><td>&hellip;</td><td>&hellip;</td><td>&hellip;</td><td>&hellip;</td><td>&hellip;</td><td>&hellip;</td><td>&hellip;</td><td>&hellip;</td><td>&hellip;</td><td>&hellip;</td><td>&hellip;</td><td>&hellip;</td><td>&hellip;</td><td>&hellip;</td><td>&hellip;</td><td>&hellip;</td><td>&hellip;</td><td>&hellip;</td><td>&hellip;</td><td>&hellip;</td><td>&hellip;</td><td>&hellip;</td><td>&hellip;</td><td>&hellip;</td><td>&hellip;</td><td>&hellip;</td><td>&hellip;</td><td>&hellip;</td><td>&hellip;</td><td>&hellip;</td><td>&hellip;</td><td>&hellip;</td><td>&hellip;</td><td>&hellip;</td><td>&hellip;</td><td>&hellip;</td><td>&hellip;</td><td>&hellip;</td></tr><tr><td>982</td><td>&quot;Francisco Cerundolo&quot;</td><td>26</td><td>30</td><td>1620</td><td>0.548387</td><td>0.466667</td><td>0.875</td><td>2</td><td>0.0</td><td>26</td><td>0.653846</td><td>3</td><td>0.0</td><td>0</td><td>0.0</td><td>0</td><td>0</td><td>0</td><td>0</td><td>0.661612</td><td>0.679735</td><td>0.514793</td><td>0.396619</td><td>0.436214</td><td>3.064516</td><td>2.935484</td><td>&quot;Sebastian Ofner&quot;</td><td>28</td><td>88</td><td>643</td><td>0.469388</td><td>0.423077</td><td>0.666667</td><td>13</td><td>0.461538</td><td>21</td><td>0.380952</td><td>8</td><td>0.5</td><td>7</td><td>0.714286</td><td>0</td><td>0</td><td>0</td><td>0</td><td>0.562974</td><td>0.737619</td><td>0.504757</td><td>0.355522</td><td>0.416382</td><td>2.531915</td><td>8.319149</td><td>4</td><td>1</td><td>2024-08-26</td><td>1</td><td>0</td><td>0</td><td>0</td><td>58</td><td>977</td><td>0.078999</td><td>0.04359</td><td>0.0</td><td>5.383665</td><td>0.532601</td><td>0.461538</td><td>0.272894</td><td>0.5</td><td>0.714286</td></tr><tr><td>597</td><td>&quot;Henri Squire&quot;</td><td>24</td><td>177</td><td>325</td><td>0.5625</td><td>0.428571</td><td>0.785714</td><td>1</td><td>0.0</td><td>34</td><td>0.617647</td><td>3</td><td>0.0</td><td>10</td><td>0.6</td><td>0</td><td>0</td><td>0</td><td>0</td><td>0.607608</td><td>0.745283</td><td>0.47344</td><td>0.36795</td><td>0.450704</td><td>3.75</td><td>7.270833</td><td>&quot;Raphael Collignon&quot;</td><td>22</td><td>121</td><td>500</td><td>0.75</td><td>0.615385</td><td>0.875</td><td>2</td><td>0.5</td><td>30</td><td>0.833333</td><td>0</td><td>0.0</td><td>12</td><td>0.583333</td><td>0</td><td>0</td><td>0</td><td>0</td><td>0.646853</td><td>0.74</td><td>0.50198</td><td>0.424252</td><td>0.458746</td><td>3.863636</td><td>4.697674</td><td>2</td><td>0</td><td>2024-11-13</td><td>0</td><td>1</td><td>0</td><td>0</td><td>56</td><td>175</td><td>0.1875</td><td>0.186813</td><td>0.0</td><td>2.573159</td><td>0.113636</td><td>0.5</td><td>0.215686</td><td>0.0</td><td>0.016667</td></tr><tr><td>1587</td><td>&quot;Matteo Berrettini&quot;</td><td>28</td><td>34</td><td>1380</td><td>0.729167</td><td>0.631579</td><td>0.761905</td><td>13</td><td>0.538462</td><td>16</td><td>0.9375</td><td>9</td><td>0.666667</td><td>10</td><td>0.7</td><td>0</td><td>0</td><td>0</td><td>0</td><td>0.677144</td><td>0.778094</td><td>0.514944</td><td>0.355404</td><td>0.380623</td><td>1.5</td><td>9.354167</td><td>&quot;Botic Van De Zandschulp&quot;</td><td>29</td><td>80</td><td>712</td><td>0.55102</td><td>0.5</td><td>0.416667</td><td>9</td><td>0.555556</td><td>26</td><td>0.576923</td><td>3</td><td>0.333333</td><td>11</td><td>0.545455</td><td>0</td><td>0</td><td>0</td><td>0</td><td>0.629032</td><td>0.706179</td><td>0.466572</td><td>0.398204</td><td>0.409704</td><td>4.061224</td><td>4.326531</td><td>1</td><td>1</td><td>2024-11-24</td><td>0</td><td>1</td><td>0</td><td>0</td><td>46</td><td>668</td><td>0.178146</td><td>0.131579</td><td>0.0</td><td>5.027636</td><td>2.561224</td><td>0.017094</td><td>0.360577</td><td>0.333333</td><td>0.154545</td></tr><tr><td>1959</td><td>&quot;Marin Cilic&quot;</td><td>36</td><td>179</td><td>323</td><td>0.55102</td><td>0.583333</td><td>0.631579</td><td>26</td><td>0.615385</td><td>5</td><td>0.4</td><td>4</td><td>0.75</td><td>14</td><td>0.428571</td><td>0</td><td>0</td><td>0</td><td>0</td><td>0.583619</td><td>0.770089</td><td>0.498755</td><td>0.360981</td><td>0.375405</td><td>4.23913</td><td>11.869565</td><td>&quot;Jiri Lehecka&quot;</td><td>23</td><td>28</td><td>1660</td><td>0.636364</td><td>0.647059</td><td>0.833333</td><td>26</td><td>0.692308</td><td>5</td><td>0.8</td><td>0</td><td>0.0</td><td>13</td><td>0.461538</td><td>0</td><td>0</td><td>0</td><td>0</td><td>0.617106</td><td>0.757079</td><td>0.522018</td><td>0.351897</td><td>0.368627</td><td>2.704545</td><td>8.25</td><td>1</td><td>0</td><td>2024-11-05</td><td>0</td><td>1</td><td>0</td><td>0</td><td>151</td><td>1337</td><td>0.085343</td><td>0.063725</td><td>0.0</td><td>3.619565</td><td>1.534585</td><td>0.076923</td><td>0.4</td><td>0.75</td><td>0.032967</td></tr><tr><td>497</td><td>&quot;Pedro Martinez Portero&quot;</td><td>27</td><td>43</td><td>1205</td><td>0.489796</td><td>0.421053</td><td>0.888889</td><td>9</td><td>0.333333</td><td>31</td><td>0.645161</td><td>3</td><td>0.0</td><td>6</td><td>0.166667</td><td>0</td><td>0</td><td>0</td><td>0</td><td>0.697903</td><td>0.653932</td><td>0.471294</td><td>0.38873</td><td>0.400568</td><td>3.918367</td><td>2.102041</td><td>&quot;Juncheng Shang&quot;</td><td>19</td><td>50</td><td>1115</td><td>0.604167</td><td>0.571429</td><td>0.9375</td><td>23</td><td>0.73913</td><td>6</td><td>0.5</td><td>11</td><td>0.636364</td><td>8</td><td>0.25</td><td>0</td><td>0</td><td>0</td><td>0</td><td>0.619923</td><td>0.716689</td><td>0.535018</td><td>0.370111</td><td>0.40678</td><td>2.212766</td><td>5.148936</td><td>1</td><td>0</td><td>2025-01-02</td><td>1</td><td>0</td><td>0</td><td>0</td><td>7</td><td>90</td><td>0.114371</td><td>0.150376</td><td>0.0</td><td>3.046895</td><td>1.705601</td><td>0.405797</td><td>0.145161</td><td>0.636364</td><td>0.083333</td></tr></tbody></table></div>"
      ],
      "text/plain": [
       "shape: (200, 71)\n",
       "┌───────┬────────────┬────────────┬────────────┬───┬───────────┬───────────┬───────────┬───────────┐\n",
       "│ index ┆ player1_na ┆ player1_ag ┆ player1_ra ┆ … ┆ win_rate_ ┆ win_rate_ ┆ win_rate_ ┆ win_rate_ │\n",
       "│ ---   ┆ me         ┆ e          ┆ nking      ┆   ┆ dure_diff ┆ terre_dif ┆ gazon_dif ┆ salle_dif │\n",
       "│ i64   ┆ ---        ┆ ---        ┆ ---        ┆   ┆ ---       ┆ f         ┆ f         ┆ f         │\n",
       "│       ┆ str        ┆ i64        ┆ i64        ┆   ┆ f64       ┆ ---       ┆ ---       ┆ ---       │\n",
       "│       ┆            ┆            ┆            ┆   ┆           ┆ f64       ┆ f64       ┆ f64       │\n",
       "╞═══════╪════════════╪════════════╪════════════╪═══╪═══════════╪═══════════╪═══════════╪═══════════╡\n",
       "│ 1946  ┆ Cameron    ┆ 29         ┆ 49         ┆ … ┆ 0.046798  ┆ 0.055556  ┆ 0.428571  ┆ 0.3       │\n",
       "│       ┆ Norrie     ┆            ┆            ┆   ┆           ┆           ┆           ┆           │\n",
       "│ 1919  ┆ Grigor     ┆ 33         ┆ 10         ┆ … ┆ 0.154799  ┆ 0.238095  ┆ 0.333333  ┆ 0.3       │\n",
       "│       ┆ Dimitrov   ┆            ┆            ┆   ┆           ┆           ┆           ┆           │\n",
       "│ 2374  ┆ Jakub      ┆ 19         ┆ 48         ┆ … ┆ 0.611111  ┆ 0.183784  ┆ 0.214286  ┆ 0.1       │\n",
       "│       ┆ Mensik     ┆            ┆            ┆   ┆           ┆           ┆           ┆           │\n",
       "│ 959   ┆ Rinky      ┆ 23         ┆ 73         ┆ … ┆ 0.060372  ┆ 0.8       ┆ 0.357143  ┆ 1.0       │\n",
       "│       ┆ Hijikata   ┆            ┆            ┆   ┆           ┆           ┆           ┆           │\n",
       "│ 2149  ┆ Nicolas    ┆ 29         ┆ 35         ┆ … ┆ 0.2       ┆ 0.5       ┆ 0.5       ┆ 0.444444  │\n",
       "│       ┆ Jarry      ┆            ┆            ┆   ┆           ┆           ┆           ┆           │\n",
       "│ …     ┆ …          ┆ …          ┆ …          ┆ … ┆ …         ┆ …         ┆ …         ┆ …         │\n",
       "│ 982   ┆ Francisco  ┆ 26         ┆ 30         ┆ … ┆ 0.461538  ┆ 0.272894  ┆ 0.5       ┆ 0.714286  │\n",
       "│       ┆ Cerundolo  ┆            ┆            ┆   ┆           ┆           ┆           ┆           │\n",
       "│ 597   ┆ Henri      ┆ 24         ┆ 177        ┆ … ┆ 0.5       ┆ 0.215686  ┆ 0.0       ┆ 0.016667  │\n",
       "│       ┆ Squire     ┆            ┆            ┆   ┆           ┆           ┆           ┆           │\n",
       "│ 1587  ┆ Matteo     ┆ 28         ┆ 34         ┆ … ┆ 0.017094  ┆ 0.360577  ┆ 0.333333  ┆ 0.154545  │\n",
       "│       ┆ Berrettini ┆            ┆            ┆   ┆           ┆           ┆           ┆           │\n",
       "│ 1959  ┆ Marin      ┆ 36         ┆ 179        ┆ … ┆ 0.076923  ┆ 0.4       ┆ 0.75      ┆ 0.032967  │\n",
       "│       ┆ Cilic      ┆            ┆            ┆   ┆           ┆           ┆           ┆           │\n",
       "│ 497   ┆ Pedro      ┆ 27         ┆ 43         ┆ … ┆ 0.405797  ┆ 0.145161  ┆ 0.636364  ┆ 0.083333  │\n",
       "│       ┆ Martinez   ┆            ┆            ┆   ┆           ┆           ┆           ┆           │\n",
       "│       ┆ Portero    ┆            ┆            ┆   ┆           ┆           ┆           ┆           │\n",
       "└───────┴────────────┴────────────┴────────────┴───┴───────────┴───────────┴───────────┴───────────┘"
      ]
     },
     "metadata": {},
     "output_type": "display_data"
    }
   ],
   "source": [
    "display(derniers_matches)"
   ]
>>>>>>> 604e2ac2cb330b01991e00efb971b83347cf5abe
  }
 ],
 "metadata": {
  "kernelspec": {
   "display_name": ".venv",
   "language": "python",
   "name": "python3"
  },
  "language_info": {
   "codemirror_mode": {
    "name": "ipython",
    "version": 3
   },
   "file_extension": ".py",
   "mimetype": "text/x-python",
   "name": "python",
   "nbconvert_exporter": "python",
   "pygments_lexer": "ipython3",
   "version": "3.13.1"
  }
 },
 "nbformat": 4,
 "nbformat_minor": 2
}
