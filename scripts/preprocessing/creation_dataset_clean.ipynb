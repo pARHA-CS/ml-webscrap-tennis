{
 "cells": [
  {
   "cell_type": "code",
   "execution_count": 2,
   "metadata": {},
   "outputs": [],
   "source": [
    "import polars as pl\n",
    "import os"
   ]
  },
  {
   "cell_type": "code",
   "execution_count": 4,
   "metadata": {},
   "outputs": [
    {
     "name": "stdout",
     "output_type": "stream",
     "text": [
      "d:\\Cours_M2\\webscraping\\ml-webscrap-tennis\n"
     ]
    }
   ],
   "source": [
    "os.chdir('../../')\n",
    "current_dir = os.getcwd()\n",
    "print(current_dir)\n",
    "\n",
    "dataset_path = os.path.join(current_dir, \"data\", \"tennis_dataset_raw.csv\")"
   ]
  },
  {
   "cell_type": "code",
   "execution_count": 10,
   "metadata": {},
   "outputs": [
    {
     "data": {
      "text/plain": [
       "(6095, 57)"
      ]
     },
     "execution_count": 10,
     "metadata": {},
     "output_type": "execute_result"
    }
   ],
   "source": [
    "df = pl.read_csv(dataset_path)\n",
    "df.shape"
   ]
  },
  {
   "cell_type": "code",
   "execution_count": 9,
   "metadata": {},
   "outputs": [
    {
     "data": {
      "text/plain": [
       "(3052, 57)"
      ]
     },
     "execution_count": 9,
     "metadata": {},
     "output_type": "execute_result"
    }
   ],
   "source": [
    "df.unique(\"url_match\").shape"
   ]
  },
  {
   "cell_type": "code",
   "execution_count": null,
   "metadata": {},
   "outputs": [
    {
     "name": "stderr",
     "output_type": "stream",
     "text": [
      "C:\\Users\\parha\\AppData\\Local\\Temp\\ipykernel_15636\\4071500969.py:24: DeprecationWarning: `GroupBy.count` is deprecated. It has been renamed to `len`.\n",
      "  unique_matches = df.group_by(\"url_match\").count().filter(pl.col(\"count\") == 1)\n"
     ]
    },
    {
     "name": "stdout",
     "output_type": "stream",
     "text": [
      "Base de données symétrisée sauvegardée dans : d:\\Cours_M2\\webscraping\\ml-webscrap-tennis\\data\\tennis_dataset_symmetric.csv\n"
     ]
    }
   ],
   "source": [
    "import os\n",
    "import polars as pl\n",
    "\n",
    "current_dir = os.getcwd()\n",
    "dataset_path = os.path.join(current_dir, \"data\", \"tennis_dataset_raw.csv\")\n",
    "output_path = os.path.join(current_dir, \"data\", \"tennis_dataset_symmetric.csv\")\n",
    "\n",
    "df = pl.read_csv(dataset_path)\n",
    "\n",
    "def invert_match(row):\n",
    "    inverted_row = row.copy()\n",
    "    for col in row.keys():\n",
    "        if col.startswith(\"player1_\"):\n",
    "            inverted_row[col.replace(\"player1_\", \"player2_\")] = row[col]\n",
    "        elif col.startswith(\"player2_\"):\n",
    "            inverted_row[col.replace(\"player2_\", \"player1_\")] = row[col]\n",
    "    inverted_row[\"target\"] = 1 - row[\"target\"]  \n",
    "    return inverted_row\n",
    "\n",
    "unique_matches = df.group_by(\"url_match\").count().filter(pl.col(\"count\") == 1)\n",
    "unique_urls = unique_matches[\"url_match\"].to_list()\n",
    "\n",
    "inverted_matches = []\n",
    "for row in df.filter(pl.col(\"url_match\").is_in(unique_urls)).iter_rows(named=True):\n",
    "    inverted_matches.append(invert_match(row))\n",
    "\n",
    "# Ajouter les matchs inversés au DataFrame d'origine\n",
    "df_inverted = pl.DataFrame(inverted_matches)\n",
    "df_symmetric = pl.concat([df, df_inverted])\n",
    "\n",
    "# Sauvegarder le DataFrame symétrisé\n",
    "df_symmetric.write_csv(output_path)\n",
    "\n",
    "print(f\"Base de données symétrisée sauvegardée dans : {output_path}\")\n"
   ]
  }
 ],
 "metadata": {
  "kernelspec": {
   "display_name": ".venv",
   "language": "python",
   "name": "python3"
  },
  "language_info": {
   "codemirror_mode": {
    "name": "ipython",
    "version": 3
   },
   "file_extension": ".py",
   "mimetype": "text/x-python",
   "name": "python",
   "nbconvert_exporter": "python",
   "pygments_lexer": "ipython3",
   "version": "3.13.1"
  }
 },
 "nbformat": 4,
 "nbformat_minor": 2
}
