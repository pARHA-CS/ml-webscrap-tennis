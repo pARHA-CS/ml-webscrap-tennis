{
 "cells": [
  {
   "cell_type": "code",
   "execution_count": 14,
   "metadata": {},
   "outputs": [
    {
     "name": "stdout",
     "output_type": "stream",
     "text": [
      "Avant inversion:\n",
      "shape: (3, 5)\n",
      "┌───────────────┬──────────────┬───────────────┬──────────────┬────────┐\n",
      "│ joueur1_score ┆ joueur1_name ┆ joueur2_score ┆ joueur2_name ┆ target │\n",
      "│ ---           ┆ ---          ┆ ---           ┆ ---          ┆ ---    │\n",
      "│ i64           ┆ str          ┆ i64           ┆ str          ┆ i64    │\n",
      "╞═══════════════╪══════════════╪═══════════════╪══════════════╪════════╡\n",
      "│ 10            ┆ Alice        ┆ 15            ┆ David        ┆ 0      │\n",
      "│ 20            ┆ Bob          ┆ 25            ┆ Eve          ┆ 1      │\n",
      "│ 30            ┆ Charlie      ┆ 35            ┆ Frank        ┆ 0      │\n",
      "└───────────────┴──────────────┴───────────────┴──────────────┴────────┘\n",
      "\n",
      "Après inversion:\n",
      "shape: (3, 5)\n",
      "┌───────────────┬──────────────┬───────────────┬──────────────┬────────┐\n",
      "│ joueur1_score ┆ joueur1_name ┆ joueur2_score ┆ joueur2_name ┆ target │\n",
      "│ ---           ┆ ---          ┆ ---           ┆ ---          ┆ ---    │\n",
      "│ i64           ┆ str          ┆ i64           ┆ str          ┆ i64    │\n",
      "╞═══════════════╪══════════════╪═══════════════╪══════════════╪════════╡\n",
      "│ 15            ┆ David        ┆ 10            ┆ Alice        ┆ 1      │\n",
      "│ 25            ┆ Eve          ┆ 20            ┆ Bob          ┆ 0      │\n",
      "│ 35            ┆ Frank        ┆ 30            ┆ Charlie      ┆ 1      │\n",
      "└───────────────┴──────────────┴───────────────┴──────────────┴────────┘\n"
     ]
    }
   ],
   "source": [
    "import polars as pl\n",
    "\n",
    "df = pl.DataFrame({\n",
    "    \"joueur1_score\": [10, 20, 30],\n",
    "    \"joueur1_name\": [\"Alice\", \"Bob\", \"Charlie\"],\n",
    "    \"joueur2_score\": [15, 25, 35],\n",
    "    \"joueur2_name\": [\"David\", \"Eve\", \"Frank\"],\n",
    "    \"target\": [0, 1, 0]\n",
    "})\n",
    "\n",
    "print(\"Avant inversion:\")\n",
    "print(df)\n",
    "\n",
    "df = df.with_columns([\n",
    "    pl.col(\"joueur1_score\").alias(\"joueur2_score\"),\n",
    "    pl.col(\"joueur2_score\").alias(\"joueur1_score\"),\n",
    "    pl.col(\"joueur1_name\").alias(\"joueur2_name\"),\n",
    "    pl.col(\"joueur2_name\").alias(\"joueur1_name\"),\n",
    "\n",
    "    (pl.col(\"target\") == 0).cast(pl.Int64).alias(\"target\")  \n",
    "])\n",
    "\n",
    "# Afficher le DataFrame après inversion\n",
    "print(\"\\nAprès inversion:\")\n",
    "print(df)\n"
   ]
  },
  {
   "cell_type": "code",
   "execution_count": 20,
   "metadata": {},
   "outputs": [],
   "source": [
    "df = df.with_row_index()"
   ]
  },
  {
   "cell_type": "code",
   "execution_count": 22,
   "metadata": {},
   "outputs": [
    {
     "data": {
      "text/html": [
       "<div><style>\n",
       ".dataframe > thead > tr,\n",
       ".dataframe > tbody > tr {\n",
       "  text-align: right;\n",
       "  white-space: pre-wrap;\n",
       "}\n",
       "</style>\n",
       "<small>shape: (2, 6)</small><table border=\"1\" class=\"dataframe\"><thead><tr><th>index</th><th>joueur1_score</th><th>joueur1_name</th><th>joueur2_score</th><th>joueur2_name</th><th>target</th></tr><tr><td>u32</td><td>i64</td><td>str</td><td>i64</td><td>str</td><td>i64</td></tr></thead><tbody><tr><td>0</td><td>15</td><td>&quot;David&quot;</td><td>10</td><td>&quot;Alice&quot;</td><td>1</td></tr><tr><td>2</td><td>35</td><td>&quot;Frank&quot;</td><td>30</td><td>&quot;Charlie&quot;</td><td>1</td></tr></tbody></table></div>"
      ],
      "text/plain": [
       "shape: (2, 6)\n",
       "┌───────┬───────────────┬──────────────┬───────────────┬──────────────┬────────┐\n",
       "│ index ┆ joueur1_score ┆ joueur1_name ┆ joueur2_score ┆ joueur2_name ┆ target │\n",
       "│ ---   ┆ ---           ┆ ---          ┆ ---           ┆ ---          ┆ ---    │\n",
       "│ u32   ┆ i64           ┆ str          ┆ i64           ┆ str          ┆ i64    │\n",
       "╞═══════╪═══════════════╪══════════════╪═══════════════╪══════════════╪════════╡\n",
       "│ 0     ┆ 15            ┆ David        ┆ 10            ┆ Alice        ┆ 1      │\n",
       "│ 2     ┆ 35            ┆ Frank        ┆ 30            ┆ Charlie      ┆ 1      │\n",
       "└───────┴───────────────┴──────────────┴───────────────┴──────────────┴────────┘"
      ]
     },
     "execution_count": 22,
     "metadata": {},
     "output_type": "execute_result"
    }
   ],
   "source": [
    "df.filter(\n",
    "    pl.col(\"target\") == 1\n",
    ")"
   ]
  },
  {
   "cell_type": "code",
   "execution_count": 2,
   "metadata": {},
   "outputs": [
    {
     "name": "stdout",
     "output_type": "stream",
     "text": [
      "Avant inversion:\n",
      "shape: (3, 5)\n",
      "┌───────────────┬──────────────┬───────────────┬──────────────┬────────┐\n",
      "│ joueur1_score ┆ joueur1_name ┆ joueur2_score ┆ joueur2_name ┆ target │\n",
      "│ ---           ┆ ---          ┆ ---           ┆ ---          ┆ ---    │\n",
      "│ i64           ┆ str          ┆ i64           ┆ str          ┆ i64    │\n",
      "╞═══════════════╪══════════════╪═══════════════╪══════════════╪════════╡\n",
      "│ 10            ┆ Alice        ┆ 15            ┆ David        ┆ 0      │\n",
      "│ 20            ┆ Bob          ┆ 25            ┆ Eve          ┆ 1      │\n",
      "│ 30            ┆ Charlie      ┆ 35            ┆ Frank        ┆ 0      │\n",
      "└───────────────┴──────────────┴───────────────┴──────────────┴────────┘\n",
      "\n",
      "Après inversion:\n",
      "shape: (3, 5)\n",
      "┌───────────────┬──────────────┬───────────────┬──────────────┬────────┐\n",
      "│ joueur1_score ┆ joueur1_name ┆ joueur2_score ┆ joueur2_name ┆ target │\n",
      "│ ---           ┆ ---          ┆ ---           ┆ ---          ┆ ---    │\n",
      "│ i64           ┆ str          ┆ i64           ┆ str          ┆ i64    │\n",
      "╞═══════════════╪══════════════╪═══════════════╪══════════════╪════════╡\n",
      "│ 15            ┆ David        ┆ 10            ┆ Alice        ┆ 1      │\n",
      "│ 25            ┆ Eve          ┆ 20            ┆ Bob          ┆ 0      │\n",
      "│ 35            ┆ Frank        ┆ 30            ┆ Charlie      ┆ 1      │\n",
      "└───────────────┴──────────────┴───────────────┴──────────────┴────────┘\n"
     ]
    }
   ],
   "source": [
    "import polars as pl\n",
    "\n",
    "# Créer un DataFrame d'exemple avec des colonnes pour joueur1, joueur2 et target\n",
    "df = pl.DataFrame({\n",
    "    \"joueur1_score\": [10, 20, 30],\n",
    "    \"joueur1_name\": [\"Alice\", \"Bob\", \"Charlie\"],\n",
    "    \"joueur2_score\": [15, 25, 35],\n",
    "    \"joueur2_name\": [\"David\", \"Eve\", \"Frank\"],\n",
    "    \"target\": [0, 1, 0]\n",
    "})\n",
    "\n",
    "# Afficher le DataFrame avant inversion\n",
    "print(\"Avant inversion:\")\n",
    "print(df)\n",
    "\n",
    "# Obtenez les noms des colonnes qui contiennent \"joueur1\" et \"joueur2\"\n",
    "joueur1_cols = [col for col in df.columns if \"joueur1\" in col]\n",
    "joueur2_cols = [col for col in df.columns if \"joueur2\" in col]\n",
    "\n",
    "# Inverser les données des joueurs et modifier la colonne target\n",
    "df = df.with_columns([\n",
    "    # Inverser les colonnes des joueurs\n",
    "    *[\n",
    "        pl.col(joueur1_cols[i]).alias(joueur2_cols[i]) for i in range(len(joueur1_cols))\n",
    "    ],\n",
    "    *[\n",
    "        pl.col(joueur2_cols[i]).alias(joueur1_cols[i]) for i in range(len(joueur2_cols))\n",
    "    ],\n",
    "    \n",
    "    # Inverser les valeurs de la colonne target\n",
    "    (pl.col(\"target\") == 0).cast(pl.Int64).alias(\"target\")  # 0 devient 1, 1 devient 0\n",
    "])\n",
    "\n",
    "# Afficher le DataFrame après inversion\n",
    "print(\"\\nAprès inversion:\")\n",
    "print(df)\n"
   ]
  },
  {
   "cell_type": "markdown",
   "metadata": {},
   "source": [
    "étape 0 : mettre des indices via méthode : with_row_index\n",
    "étape 1 : selectionner un pourcentage de d'indice avec target == 1 \n",
    "étape 2 : sélectionner les lignes avec les indices collecter\n",
    "étape 3 : créer un nouveau dataframe avec ces lignes\n",
    "étape 4 : inverser les données des joueurs 1 et 2 sur la sélection dans le nouveau dataframe\n",
    "étape 5 : supprimer les lignes avec les indices récupérer dans le df initiale (méthode : update)\n",
    "étape 6 : ajouter les lignes du nouveau dataframe à celui d'origine "
   ]
  },
  {
   "cell_type": "code",
   "execution_count": 34,
   "metadata": {},
   "outputs": [
    {
     "name": "stdout",
     "output_type": "stream",
     "text": [
      "Avant modification:\n"
     ]
    },
    {
     "data": {
      "text/html": [
       "<div><style>\n",
       ".dataframe > thead > tr,\n",
       ".dataframe > tbody > tr {\n",
       "  text-align: right;\n",
       "  white-space: pre-wrap;\n",
       "}\n",
       "</style>\n",
       "<small>shape: (5, 10)</small><table border=\"1\" class=\"dataframe\"><thead><tr><th>index</th><th>player1_age</th><th>player1_ranking</th><th>player1_points</th><th>player1_win_rate</th><th>player2_age</th><th>player2_ranking</th><th>player2_points</th><th>player2_win_rate</th><th>target</th></tr><tr><td>u32</td><td>i64</td><td>i64</td><td>i64</td><td>f64</td><td>i64</td><td>i64</td><td>i64</td><td>f64</td><td>i64</td></tr></thead><tbody><tr><td>0</td><td>26</td><td>14</td><td>2765</td><td>0.514286</td><td>23</td><td>15</td><td>2685</td><td>0.585366</td><td>1</td></tr><tr><td>1</td><td>23</td><td>47</td><td>1148</td><td>0.55814</td><td>35</td><td>106</td><td>578</td><td>0.628571</td><td>0</td></tr><tr><td>2</td><td>30</td><td>10</td><td>3850</td><td>0.6</td><td>25</td><td>45</td><td>1900</td><td>0.52</td><td>1</td></tr><tr><td>3</td><td>28</td><td>22</td><td>2900</td><td>0.53</td><td>30</td><td>60</td><td>2700</td><td>0.58</td><td>0</td></tr><tr><td>4</td><td>21</td><td>35</td><td>1500</td><td>0.55</td><td>28</td><td>70</td><td>1600</td><td>0.54</td><td>1</td></tr></tbody></table></div>"
      ],
      "text/plain": [
       "shape: (5, 10)\n",
       "┌───────┬────────────┬────────────┬────────────┬───┬────────────┬────────────┬────────────┬────────┐\n",
       "│ index ┆ player1_ag ┆ player1_ra ┆ player1_po ┆ … ┆ player2_ra ┆ player2_po ┆ player2_wi ┆ target │\n",
       "│ ---   ┆ e          ┆ nking      ┆ ints       ┆   ┆ nking      ┆ ints       ┆ n_rate     ┆ ---    │\n",
       "│ u32   ┆ ---        ┆ ---        ┆ ---        ┆   ┆ ---        ┆ ---        ┆ ---        ┆ i64    │\n",
       "│       ┆ i64        ┆ i64        ┆ i64        ┆   ┆ i64        ┆ i64        ┆ f64        ┆        │\n",
       "╞═══════╪════════════╪════════════╪════════════╪═══╪════════════╪════════════╪════════════╪════════╡\n",
       "│ 0     ┆ 26         ┆ 14         ┆ 2765       ┆ … ┆ 15         ┆ 2685       ┆ 0.585366   ┆ 1      │\n",
       "│ 1     ┆ 23         ┆ 47         ┆ 1148       ┆ … ┆ 106        ┆ 578        ┆ 0.628571   ┆ 0      │\n",
       "│ 2     ┆ 30         ┆ 10         ┆ 3850       ┆ … ┆ 45         ┆ 1900       ┆ 0.52       ┆ 1      │\n",
       "│ 3     ┆ 28         ┆ 22         ┆ 2900       ┆ … ┆ 60         ┆ 2700       ┆ 0.58       ┆ 0      │\n",
       "│ 4     ┆ 21         ┆ 35         ┆ 1500       ┆ … ┆ 70         ┆ 1600       ┆ 0.54       ┆ 1      │\n",
       "└───────┴────────────┴────────────┴────────────┴───┴────────────┴────────────┴────────────┴────────┘"
      ]
     },
     "metadata": {},
     "output_type": "display_data"
    },
    {
     "name": "stdout",
     "output_type": "stream",
     "text": [
      "indices collecter : [0]\n"
     ]
    },
    {
     "data": {
      "text/html": [
       "<div><style>\n",
       ".dataframe > thead > tr,\n",
       ".dataframe > tbody > tr {\n",
       "  text-align: right;\n",
       "  white-space: pre-wrap;\n",
       "}\n",
       "</style>\n",
       "<small>shape: (4, 10)</small><table border=\"1\" class=\"dataframe\"><thead><tr><th>index</th><th>player1_age</th><th>player1_ranking</th><th>player1_points</th><th>player1_win_rate</th><th>player2_age</th><th>player2_ranking</th><th>player2_points</th><th>player2_win_rate</th><th>target</th></tr><tr><td>u32</td><td>i64</td><td>i64</td><td>i64</td><td>f64</td><td>i64</td><td>i64</td><td>i64</td><td>f64</td><td>i64</td></tr></thead><tbody><tr><td>1</td><td>23</td><td>47</td><td>1148</td><td>0.55814</td><td>35</td><td>106</td><td>578</td><td>0.628571</td><td>0</td></tr><tr><td>2</td><td>30</td><td>10</td><td>3850</td><td>0.6</td><td>25</td><td>45</td><td>1900</td><td>0.52</td><td>1</td></tr><tr><td>3</td><td>28</td><td>22</td><td>2900</td><td>0.53</td><td>30</td><td>60</td><td>2700</td><td>0.58</td><td>0</td></tr><tr><td>4</td><td>21</td><td>35</td><td>1500</td><td>0.55</td><td>28</td><td>70</td><td>1600</td><td>0.54</td><td>1</td></tr></tbody></table></div>"
      ],
      "text/plain": [
       "shape: (4, 10)\n",
       "┌───────┬────────────┬────────────┬────────────┬───┬────────────┬────────────┬────────────┬────────┐\n",
       "│ index ┆ player1_ag ┆ player1_ra ┆ player1_po ┆ … ┆ player2_ra ┆ player2_po ┆ player2_wi ┆ target │\n",
       "│ ---   ┆ e          ┆ nking      ┆ ints       ┆   ┆ nking      ┆ ints       ┆ n_rate     ┆ ---    │\n",
       "│ u32   ┆ ---        ┆ ---        ┆ ---        ┆   ┆ ---        ┆ ---        ┆ ---        ┆ i64    │\n",
       "│       ┆ i64        ┆ i64        ┆ i64        ┆   ┆ i64        ┆ i64        ┆ f64        ┆        │\n",
       "╞═══════╪════════════╪════════════╪════════════╪═══╪════════════╪════════════╪════════════╪════════╡\n",
       "│ 1     ┆ 23         ┆ 47         ┆ 1148       ┆ … ┆ 106        ┆ 578        ┆ 0.628571   ┆ 0      │\n",
       "│ 2     ┆ 30         ┆ 10         ┆ 3850       ┆ … ┆ 45         ┆ 1900       ┆ 0.52       ┆ 1      │\n",
       "│ 3     ┆ 28         ┆ 22         ┆ 2900       ┆ … ┆ 60         ┆ 2700       ┆ 0.58       ┆ 0      │\n",
       "│ 4     ┆ 21         ┆ 35         ┆ 1500       ┆ … ┆ 70         ┆ 1600       ┆ 0.54       ┆ 1      │\n",
       "└───────┴────────────┴────────────┴────────────┴───┴────────────┴────────────┴────────────┴────────┘"
      ]
     },
     "metadata": {},
     "output_type": "display_data"
    },
    {
     "data": {
      "text/html": [
       "<div><style>\n",
       ".dataframe > thead > tr,\n",
       ".dataframe > tbody > tr {\n",
       "  text-align: right;\n",
       "  white-space: pre-wrap;\n",
       "}\n",
       "</style>\n",
       "<small>shape: (5, 10)</small><table border=\"1\" class=\"dataframe\"><thead><tr><th>index</th><th>player1_age</th><th>player1_ranking</th><th>player1_points</th><th>player1_win_rate</th><th>player2_age</th><th>player2_ranking</th><th>player2_points</th><th>player2_win_rate</th><th>target</th></tr><tr><td>u32</td><td>i64</td><td>i64</td><td>i64</td><td>f64</td><td>i64</td><td>i64</td><td>i64</td><td>f64</td><td>i64</td></tr></thead><tbody><tr><td>1</td><td>23</td><td>47</td><td>1148</td><td>0.55814</td><td>35</td><td>106</td><td>578</td><td>0.628571</td><td>0</td></tr><tr><td>2</td><td>30</td><td>10</td><td>3850</td><td>0.6</td><td>25</td><td>45</td><td>1900</td><td>0.52</td><td>1</td></tr><tr><td>3</td><td>28</td><td>22</td><td>2900</td><td>0.53</td><td>30</td><td>60</td><td>2700</td><td>0.58</td><td>0</td></tr><tr><td>4</td><td>21</td><td>35</td><td>1500</td><td>0.55</td><td>28</td><td>70</td><td>1600</td><td>0.54</td><td>1</td></tr><tr><td>0</td><td>23</td><td>15</td><td>2685</td><td>0.585366</td><td>26</td><td>14</td><td>2765</td><td>0.514286</td><td>1</td></tr></tbody></table></div>"
      ],
      "text/plain": [
       "shape: (5, 10)\n",
       "┌───────┬────────────┬────────────┬────────────┬───┬────────────┬────────────┬────────────┬────────┐\n",
       "│ index ┆ player1_ag ┆ player1_ra ┆ player1_po ┆ … ┆ player2_ra ┆ player2_po ┆ player2_wi ┆ target │\n",
       "│ ---   ┆ e          ┆ nking      ┆ ints       ┆   ┆ nking      ┆ ints       ┆ n_rate     ┆ ---    │\n",
       "│ u32   ┆ ---        ┆ ---        ┆ ---        ┆   ┆ ---        ┆ ---        ┆ ---        ┆ i64    │\n",
       "│       ┆ i64        ┆ i64        ┆ i64        ┆   ┆ i64        ┆ i64        ┆ f64        ┆        │\n",
       "╞═══════╪════════════╪════════════╪════════════╪═══╪════════════╪════════════╪════════════╪════════╡\n",
       "│ 1     ┆ 23         ┆ 47         ┆ 1148       ┆ … ┆ 106        ┆ 578        ┆ 0.628571   ┆ 0      │\n",
       "│ 2     ┆ 30         ┆ 10         ┆ 3850       ┆ … ┆ 45         ┆ 1900       ┆ 0.52       ┆ 1      │\n",
       "│ 3     ┆ 28         ┆ 22         ┆ 2900       ┆ … ┆ 60         ┆ 2700       ┆ 0.58       ┆ 0      │\n",
       "│ 4     ┆ 21         ┆ 35         ┆ 1500       ┆ … ┆ 70         ┆ 1600       ┆ 0.54       ┆ 1      │\n",
       "│ 0     ┆ 23         ┆ 15         ┆ 2685       ┆ … ┆ 14         ┆ 2765       ┆ 0.514286   ┆ 1      │\n",
       "└───────┴────────────┴────────────┴────────────┴───┴────────────┴────────────┴────────────┴────────┘"
      ]
     },
     "metadata": {},
     "output_type": "display_data"
    }
   ],
   "source": [
    "import polars as pl\n",
    "import numpy as np\n",
    "import random\n",
    "\n",
    "# Exemple de DataFrame\n",
    "df = pl.DataFrame({\n",
    "    \"player1_age\": [26, 23, 30, 28, 21],\n",
    "    \"player1_ranking\": [14, 47, 10, 22, 35],\n",
    "    \"player1_points\": [2765, 1148, 3850, 2900, 1500],\n",
    "    \"player1_win_rate\": [0.5142857142857142, 0.5581395348837209, 0.600, 0.530, 0.550],\n",
    "    \"player2_age\": [23, 35, 25, 30, 28],\n",
    "    \"player2_ranking\": [15, 106, 45, 60, 70],\n",
    "    \"player2_points\": [2685, 578, 1900, 2700, 1600],\n",
    "    \"player2_win_rate\": [0.5853658536585366, 0.6285714285714286, 0.520, 0.580, 0.540],\n",
    "    \"target\": [1, 0, 1, 0, 1]\n",
    "})\n",
    "\n",
    "# Afficher le DataFrame avant modification\n",
    "print(\"Avant modification:\")\n",
    "\n",
    "# Étape 0 : Ajouter l'index des lignes\n",
    "df_with_index = df.with_row_index()\n",
    "display(df_with_index)\n",
    "\n",
    "# Étape 1 : Sélectionner un pourcentage de lignes avec target == 1\n",
    "df_target_1 = df_with_index.filter(pl.col(\"target\") == 1)\n",
    "\n",
    "# Récupération des index \n",
    "index = df_target_1.select(pl.col(\"index\")).to_numpy().flatten().tolist()\n",
    "\n",
    "# Calculer le nombre de lignes à sélectionner (25% des indices)\n",
    "num_to_select = int(len(index) * 0.5)\n",
    "\n",
    "# Sélectionner aléatoirement 25% des indices\n",
    "selected_indices = random.sample(index, num_to_select)\n",
    "print(f\"indices collecter : {selected_indices}\")\n",
    "# Étape 2 : Sélectionner les lignes avec les indices collectés\n",
    "df_selected = df_with_index.filter(pl.col(\"index\").is_in(selected_indices))\n",
    "\n",
    "# Étape 4 : Inverser les données des joueurs 1 et 2 sur la sélection dans le nouveau dataframe\n",
    "# Identifier les colonnes des joueurs 1 et 2 de manière dynamique\n",
    "columns_to_swap = [col for col in df_selected.columns if \"player1\" in col or \"player2\" in col]\n",
    "\n",
    "# Créer une liste pour les expressions de colonne modifiées\n",
    "swap_expressions = []\n",
    "for col in columns_to_swap:\n",
    "    if \"player1\" in col:\n",
    "        swap_expressions.append(pl.col(col).alias(col.replace(\"player1\", \"player2\")))\n",
    "    elif \"player2\" in col:\n",
    "        swap_expressions.append(pl.col(col).alias(col.replace(\"player2\", \"player1\")))\n",
    "\n",
    "# Appliquer les modifications sur le DataFrame sélectionné\n",
    "df_selected_swapped = df_selected.with_columns(swap_expressions)\n",
    "\n",
    "# Étape 5 : Supprimer les lignes avec les indices récupérés dans le df initial\n",
    "df_without_selected = df_with_index.filter(~pl.col(\"index\").is_in(selected_indices))\n",
    "display(df_without_selected)\n",
    "# Ajouter les lignes modifiées du DataFrame sélectionné à celui d'origine\n",
    "df_final = df_without_selected.vstack(df_selected_swapped)\n",
    "display(df_final)"
   ]
  },
  {
   "cell_type": "markdown",
   "metadata": {},
   "source": [
    "ind_0 = 800\n",
    "ind_1 = 1200\n",
    "moyenne = 1000\n",
    "\n",
    "tuple(800,1200)\n",
    "split = max(tuple(800,1200)) - moyenne"
   ]
  },
  {
   "cell_type": "code",
   "execution_count": 10,
   "metadata": {},
   "outputs": [
    {
     "name": "stdout",
     "output_type": "stream",
     "text": [
      "moyenne = 2\n",
      "3\n",
      "1\n",
      "0.2\n"
     ]
    },
    {
     "data": {
      "text/html": [
       "<div><style>\n",
       ".dataframe > thead > tr,\n",
       ".dataframe > tbody > tr {\n",
       "  text-align: right;\n",
       "  white-space: pre-wrap;\n",
       "}\n",
       "</style>\n",
       "<small>shape: (5, 9)</small><table border=\"1\" class=\"dataframe\"><thead><tr><th>player1_age</th><th>player1_ranking</th><th>player1_points</th><th>player1_win_rate</th><th>player2_age</th><th>player2_ranking</th><th>player2_points</th><th>player2_win_rate</th><th>target</th></tr><tr><td>i64</td><td>i64</td><td>i64</td><td>f64</td><td>i64</td><td>i64</td><td>i64</td><td>f64</td><td>i64</td></tr></thead><tbody><tr><td>26</td><td>14</td><td>2765</td><td>0.514286</td><td>23</td><td>15</td><td>2685</td><td>0.585366</td><td>1</td></tr><tr><td>23</td><td>47</td><td>1148</td><td>0.55814</td><td>35</td><td>106</td><td>578</td><td>0.628571</td><td>0</td></tr><tr><td>30</td><td>10</td><td>3850</td><td>0.6</td><td>25</td><td>45</td><td>1900</td><td>0.52</td><td>1</td></tr><tr><td>28</td><td>22</td><td>2900</td><td>0.53</td><td>30</td><td>60</td><td>2700</td><td>0.58</td><td>0</td></tr><tr><td>21</td><td>35</td><td>1500</td><td>0.55</td><td>28</td><td>70</td><td>1600</td><td>0.54</td><td>1</td></tr></tbody></table></div>"
      ],
      "text/plain": [
       "shape: (5, 9)\n",
       "┌────────────┬────────────┬───────────┬───────────┬───┬───────────┬───────────┬───────────┬────────┐\n",
       "│ player1_ag ┆ player1_ra ┆ player1_p ┆ player1_w ┆ … ┆ player2_r ┆ player2_p ┆ player2_w ┆ target │\n",
       "│ e          ┆ nking      ┆ oints     ┆ in_rate   ┆   ┆ anking    ┆ oints     ┆ in_rate   ┆ ---    │\n",
       "│ ---        ┆ ---        ┆ ---       ┆ ---       ┆   ┆ ---       ┆ ---       ┆ ---       ┆ i64    │\n",
       "│ i64        ┆ i64        ┆ i64       ┆ f64       ┆   ┆ i64       ┆ i64       ┆ f64       ┆        │\n",
       "╞════════════╪════════════╪═══════════╪═══════════╪═══╪═══════════╪═══════════╪═══════════╪════════╡\n",
       "│ 26         ┆ 14         ┆ 2765      ┆ 0.514286  ┆ … ┆ 15        ┆ 2685      ┆ 0.585366  ┆ 1      │\n",
       "│ 23         ┆ 47         ┆ 1148      ┆ 0.55814   ┆ … ┆ 106       ┆ 578       ┆ 0.628571  ┆ 0      │\n",
       "│ 30         ┆ 10         ┆ 3850      ┆ 0.6       ┆ … ┆ 45        ┆ 1900      ┆ 0.52      ┆ 1      │\n",
       "│ 28         ┆ 22         ┆ 2900      ┆ 0.53      ┆ … ┆ 60        ┆ 2700      ┆ 0.58      ┆ 0      │\n",
       "│ 21         ┆ 35         ┆ 1500      ┆ 0.55      ┆ … ┆ 70        ┆ 1600      ┆ 0.54      ┆ 1      │\n",
       "└────────────┴────────────┴───────────┴───────────┴───┴───────────┴───────────┴───────────┴────────┘"
      ]
     },
     "metadata": {},
     "output_type": "display_data"
    },
    {
     "data": {
      "text/html": [
       "<div><style>\n",
       ".dataframe > thead > tr,\n",
       ".dataframe > tbody > tr {\n",
       "  text-align: right;\n",
       "  white-space: pre-wrap;\n",
       "}\n",
       "</style>\n",
       "<small>shape: (5, 10)</small><table border=\"1\" class=\"dataframe\"><thead><tr><th>index</th><th>player1_age</th><th>player1_ranking</th><th>player1_points</th><th>player1_win_rate</th><th>player2_age</th><th>player2_ranking</th><th>player2_points</th><th>player2_win_rate</th><th>target</th></tr><tr><td>u32</td><td>i64</td><td>i64</td><td>i64</td><td>f64</td><td>i64</td><td>i64</td><td>i64</td><td>f64</td><td>i64</td></tr></thead><tbody><tr><td>0</td><td>26</td><td>14</td><td>2765</td><td>0.514286</td><td>23</td><td>15</td><td>2685</td><td>0.585366</td><td>1</td></tr><tr><td>1</td><td>23</td><td>47</td><td>1148</td><td>0.55814</td><td>35</td><td>106</td><td>578</td><td>0.628571</td><td>0</td></tr><tr><td>2</td><td>30</td><td>10</td><td>3850</td><td>0.6</td><td>25</td><td>45</td><td>1900</td><td>0.52</td><td>1</td></tr><tr><td>3</td><td>28</td><td>22</td><td>2900</td><td>0.53</td><td>30</td><td>60</td><td>2700</td><td>0.58</td><td>0</td></tr><tr><td>4</td><td>21</td><td>35</td><td>1500</td><td>0.55</td><td>28</td><td>70</td><td>1600</td><td>0.54</td><td>1</td></tr></tbody></table></div>"
      ],
      "text/plain": [
       "shape: (5, 10)\n",
       "┌───────┬────────────┬────────────┬────────────┬───┬────────────┬────────────┬────────────┬────────┐\n",
       "│ index ┆ player1_ag ┆ player1_ra ┆ player1_po ┆ … ┆ player2_ra ┆ player2_po ┆ player2_wi ┆ target │\n",
       "│ ---   ┆ e          ┆ nking      ┆ ints       ┆   ┆ nking      ┆ ints       ┆ n_rate     ┆ ---    │\n",
       "│ u32   ┆ ---        ┆ ---        ┆ ---        ┆   ┆ ---        ┆ ---        ┆ ---        ┆ i64    │\n",
       "│       ┆ i64        ┆ i64        ┆ i64        ┆   ┆ i64        ┆ i64        ┆ f64        ┆        │\n",
       "╞═══════╪════════════╪════════════╪════════════╪═══╪════════════╪════════════╪════════════╪════════╡\n",
       "│ 0     ┆ 26         ┆ 14         ┆ 2765       ┆ … ┆ 15         ┆ 2685       ┆ 0.585366   ┆ 1      │\n",
       "│ 1     ┆ 23         ┆ 47         ┆ 1148       ┆ … ┆ 106        ┆ 578        ┆ 0.628571   ┆ 0      │\n",
       "│ 2     ┆ 30         ┆ 10         ┆ 3850       ┆ … ┆ 45         ┆ 1900       ┆ 0.52       ┆ 1      │\n",
       "│ 3     ┆ 28         ┆ 22         ┆ 2900       ┆ … ┆ 60         ┆ 2700       ┆ 0.58       ┆ 0      │\n",
       "│ 4     ┆ 21         ┆ 35         ┆ 1500       ┆ … ┆ 70         ┆ 1600       ┆ 0.54       ┆ 1      │\n",
       "└───────┴────────────┴────────────┴────────────┴───┴────────────┴────────────┴────────────┴────────┘"
      ]
     },
     "metadata": {},
     "output_type": "display_data"
    }
   ],
   "source": [
    "import polars as pl\n",
    "import random\n",
    "import numpy as np\n",
    "\n",
    "def select_rows(df):\n",
    "    \"\"\"\n",
    "    Cette fonction calcule le nombre de ligne à selctionner pour rééquilibrer le dataframe\n",
    "    \n",
    "    Args:\n",
    "        df : DataFrame Polars d'entrée\n",
    "\n",
    "    Returns:\n",
    "        int: le nombre de ligne à sélectionner pour équilibrer le dataframe\n",
    "    \"\"\"\n",
    "    inds_0 = df.filter(df[\"target\"] == 0).shape[0]\n",
    "    inds_1 = df.filter(df[\"target\"] == 1).shape[0]\n",
    "    inds = tuple((inds_0, inds_1))\n",
    "    \n",
    "    mean_ind = int(np.mean(inds))\n",
    "    print(f\"moyenne = {mean_ind}\")\n",
    "    print(max(inds))\n",
    "    \n",
    "    nb_select = round(max(inds) - mean_ind, 0)\n",
    "    \n",
    "    print(nb_select)\n",
    "    percentage = nb_select / df.shape[0]\n",
    "    \n",
    "    return percentage\n",
    "    \n",
    "def modify_players(df):\n",
    "    \"\"\"\n",
    "    Cette fonction modifie aléatoirement un pourcentage de lignes du DataFrame où target == 1.\n",
    "    Les colonnes des joueurs 1 et 2 sont inversées sur ces lignes sélectionnées.\n",
    "\n",
    "    Parameters:\n",
    "    - df : DataFrame Polars d'entrée\n",
    "    - percentage : pourcentage de lignes à sélectionner et modifier (0-1)\n",
    "\n",
    "    Returns:\n",
    "    - df_final : DataFrame modifié avec les lignes sélectionnées et inversées ajoutées\n",
    "    \"\"\"\n",
    "\n",
    "    # Étape 0 : Ajouter l'index des lignes\n",
    "    df_with_index = df.with_row_index()\n",
    "\n",
    "    # Étape 1 : Sélectionner un pourcentage de lignes avec target == 1\n",
    "    df_target_1 = df_with_index.filter(pl.col(\"target\") == 1)\n",
    "\n",
    "    # Récupération des indices\n",
    "    index = df_target_1.select(pl.col(\"index\")).to_numpy().flatten().tolist()\n",
    "\n",
    "    # Calculer le nombre de lignes à sélectionner\n",
    "    row_selected_pct = select_rows(df)\n",
    "    \n",
    "    print(row_selected_pct)\n",
    "    num_to_select = int(len(index) * row_selected_pct)\n",
    "\n",
    "    # Sélectionner aléatoirement les indices\n",
    "    selected_indices = random.sample(index, num_to_select)\n",
    "\n",
    "    # Étape 2 : Sélectionner les lignes avec les indices collectés\n",
    "    df_selected = df_with_index.filter(pl.col(\"index\").is_in(selected_indices))\n",
    "\n",
    "    # Étape 4 : Inverser les données des joueurs 1 et 2 sur la sélection dans le nouveau dataframe\n",
    "    columns_to_swap = [col for col in df_selected.columns if \"player1\" in col or \"player2\" in col]\n",
    "\n",
    "    swap_expressions = []\n",
    "    for col in columns_to_swap:\n",
    "        if \"player1\" in col:\n",
    "            swap_expressions.append(pl.col(col).alias(col.replace(\"player1\", \"player2\")))\n",
    "        elif \"player2\" in col:\n",
    "            swap_expressions.append(pl.col(col).alias(col.replace(\"player2\", \"player1\")))\n",
    "\n",
    "    # Appliquer les modifications sur le DataFrame sélectionné\n",
    "    df_selected_swapped = df_selected.with_columns(swap_expressions)\n",
    "    \n",
    "    df_selected_swapped = df_selected_swapped.with_columns(\n",
    "        pl.lit(0).cast(pl.Int64).alias(\"target\")\n",
    "    )\n",
    "\n",
    "    # Étape 5 : Supprimer les lignes avec les indices récupérés dans le df initial\n",
    "    df_without_selected = df_with_index.filter(~pl.col(\"index\").is_in(selected_indices))\n",
    "\n",
    "    # Ajouter les lignes modifiées du DataFrame sélectionné à celui d'origine\n",
    "    df_final = df_without_selected.vstack(df_selected_swapped)\n",
    "\n",
    "    return df_final\n",
    "\n",
    "\n",
    "# Exemple d'utilisation de la fonction avec votre DataFrame initial et 50 % des lignes à modifier\n",
    "df = pl.DataFrame({\n",
    "    \"player1_age\": [26, 23, 30, 28, 21],\n",
    "    \"player1_ranking\": [14, 47, 10, 22, 35],\n",
    "    \"player1_points\": [2765, 1148, 3850, 2900, 1500],\n",
    "    \"player1_win_rate\": [0.5142857142857142, 0.5581395348837209, 0.600, 0.530, 0.550],\n",
    "    \"player2_age\": [23, 35, 25, 30, 28],\n",
    "    \"player2_ranking\": [15, 106, 45, 60, 70],\n",
    "    \"player2_points\": [2685, 578, 1900, 2700, 1600],\n",
    "    \"player2_win_rate\": [0.5853658536585366, 0.6285714285714286, 0.520, 0.580, 0.540],\n",
    "    \"target\": [1, 0, 1, 0, 1]\n",
    "})\n",
    "\n",
    "# Appliquer la fonction\n",
    "df_final = modify_players(df)\n",
    "\n",
    "# Afficher le DataFrame final après modification\n",
    "display(df)\n",
    "display(df_final)\n"
   ]
  }
 ],
 "metadata": {
  "kernelspec": {
   "display_name": ".venv",
   "language": "python",
   "name": "python3"
  },
  "language_info": {
   "codemirror_mode": {
    "name": "ipython",
    "version": 3
   },
   "file_extension": ".py",
   "mimetype": "text/x-python",
   "name": "python",
   "nbconvert_exporter": "python",
   "pygments_lexer": "ipython3",
   "version": "3.13.1"
  }
 },
 "nbformat": 4,
 "nbformat_minor": 2
}
