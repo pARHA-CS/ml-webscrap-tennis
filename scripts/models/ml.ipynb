{
 "cells": [
  {
   "cell_type": "code",
   "execution_count": 56,
   "metadata": {},
   "outputs": [],
   "source": [
    "import polars as pl\n",
    "import matplotlib.pyplot as plt\n",
    "import os"
   ]
  },
  {
   "cell_type": "code",
   "execution_count": 57,
   "metadata": {},
   "outputs": [
    {
     "data": {
      "text/plain": [
       "'d:\\\\Cours_M2\\\\webscraping\\\\ml-webscrap-tennis'"
      ]
     },
     "execution_count": 57,
     "metadata": {},
     "output_type": "execute_result"
    }
   ],
   "source": [
    "current_dir = os.getcwd()\n",
    "scripts = os.path.dirname(current_dir)\n",
    "parent_dir = os.path.dirname(scripts)\n",
    "parent_dir\n"
   ]
  },
  {
   "cell_type": "code",
   "execution_count": 58,
   "metadata": {},
   "outputs": [
    {
     "data": {
      "text/html": [
       "<div><style>\n",
       ".dataframe > thead > tr,\n",
       ".dataframe > tbody > tr {\n",
       "  text-align: right;\n",
       "  white-space: pre-wrap;\n",
       "}\n",
       "</style>\n",
       "<small>shape: (6_868, 69)</small><table border=\"1\" class=\"dataframe\"><thead><tr><th>player1_name</th><th>player1_age</th><th>player1_ranking</th><th>player1_points</th><th>player1_win_rate</th><th>player1_win_rate_3_sets</th><th>player1_win_rate_tiebreak</th><th>player1_total_matches_dure</th><th>player1_win_rate_dure</th><th>player1_total_matches_terre battue</th><th>player1_win_rate_terre battue</th><th>player1_total_matches_gazon</th><th>player1_win_rate_gazon</th><th>player1_total_matches_salle</th><th>player1_win_rate_salle</th><th>player1_total_matches_carpet</th><th>player1_win_rate_carpet</th><th>player1_total_matches_acryl</th><th>player1_win_rate_acryl</th><th>player1_first_serve_pct</th><th>player1_first_serve_won_pct</th><th>player1_second_serve_won_pct</th><th>player1_return_points_won_pct</th><th>player1_break_point_won_pct</th><th>player1_double_fautes</th><th>player1_aces</th><th>player1_avg_first_serve_pct</th><th>player1_avg_first_serve_won_pct</th><th>player1_avg_second_serve_won_pct</th><th>player1_avg_return_points_won_pct</th><th>player1_avg_break_point_won_pct</th><th>player1_avg_double_fautes</th><th>player1_avg_aces</th><th>player2_name</th><th>player2_age</th><th>player2_ranking</th><th>player2_points</th><th>player2_win_rate</th><th>player2_win_rate_3_sets</th><th>player2_win_rate_tiebreak</th><th>player2_total_matches_dure</th><th>player2_win_rate_dure</th><th>player2_total_matches_terre battue</th><th>player2_win_rate_terre battue</th><th>player2_total_matches_gazon</th><th>player2_win_rate_gazon</th><th>player2_total_matches_salle</th><th>player2_win_rate_salle</th><th>player2_total_matches_carpet</th><th>player2_win_rate_carpet</th><th>player2_total_matches_acryl</th><th>player2_win_rate_acryl</th><th>player2_first_serve_pct</th><th>player2_first_serve_won_pct</th><th>player2_second_serve_won_pct</th><th>player2_return_points_won_pct</th><th>player2_break_point_won_pct</th><th>player2_double_fautes</th><th>player2_aces</th><th>player2_avg_first_serve_pct</th><th>player2_avg_first_serve_won_pct</th><th>player2_avg_second_serve_won_pct</th><th>player2_avg_return_points_won_pct</th><th>player2_avg_break_point_won_pct</th><th>player2_avg_double_fautes</th><th>player2_avg_aces</th><th>surface</th><th>tournament_category</th><th>target</th></tr><tr><td>str</td><td>i64</td><td>i64</td><td>i64</td><td>f64</td><td>f64</td><td>f64</td><td>i64</td><td>f64</td><td>i64</td><td>f64</td><td>i64</td><td>f64</td><td>i64</td><td>f64</td><td>i64</td><td>i64</td><td>i64</td><td>i64</td><td>f64</td><td>f64</td><td>f64</td><td>f64</td><td>f64</td><td>i64</td><td>i64</td><td>f64</td><td>f64</td><td>f64</td><td>f64</td><td>f64</td><td>f64</td><td>f64</td><td>str</td><td>i64</td><td>i64</td><td>i64</td><td>f64</td><td>f64</td><td>f64</td><td>i64</td><td>f64</td><td>i64</td><td>f64</td><td>i64</td><td>f64</td><td>i64</td><td>f64</td><td>i64</td><td>i64</td><td>i64</td><td>i64</td><td>f64</td><td>f64</td><td>f64</td><td>f64</td><td>f64</td><td>i64</td><td>i64</td><td>f64</td><td>f64</td><td>f64</td><td>f64</td><td>f64</td><td>f64</td><td>f64</td><td>str</td><td>i64</td><td>i64</td></tr></thead><tbody><tr><td>&quot;Jannik Sinner&quot;</td><td>23</td><td>1</td><td>11830</td><td>0.92</td><td>0.857143</td><td>1.0</td><td>26</td><td>0.923077</td><td>6</td><td>0.833333</td><td>10</td><td>0.9</td><td>8</td><td>1.0</td><td>0</td><td>0</td><td>0</td><td>0</td><td>0.73</td><td>0.8</td><td>0.56</td><td>0.37</td><td>0.6</td><td>1</td><td>15</td><td>0.612744</td><td>0.794913</td><td>0.579725</td><td>0.410508</td><td>0.410405</td><td>1.893939</td><td>7.80303</td><td>&quot;Tallon Griekspoor&quot;</td><td>28</td><td>40</td><td>1280</td><td>0.5</td><td>0.533333</td><td>0.608696</td><td>14</td><td>0.5</td><td>16</td><td>0.5</td><td>7</td><td>0.571429</td><td>13</td><td>0.461538</td><td>0</td><td>0</td><td>0</td><td>0</td><td>0.66</td><td>0.72</td><td>0.45</td><td>0.27</td><td>0.33</td><td>3</td><td>6</td><td>0.641107</td><td>0.756507</td><td>0.522327</td><td>0.322469</td><td>0.3861</td><td>3.368421</td><td>9.051724</td><td>&quot;salle&quot;</td><td>1</td><td>1</td></tr><tr><td>&quot;Jannik Sinner&quot;</td><td>23</td><td>1</td><td>11830</td><td>0.92</td><td>0.857143</td><td>1.0</td><td>26</td><td>0.923077</td><td>6</td><td>0.833333</td><td>10</td><td>0.9</td><td>8</td><td>1.0</td><td>0</td><td>0</td><td>0</td><td>0</td><td>0.65</td><td>0.81</td><td>0.45</td><td>0.44</td><td>0.5</td><td>0</td><td>4</td><td>0.612744</td><td>0.794913</td><td>0.579725</td><td>0.410508</td><td>0.410405</td><td>1.893939</td><td>7.80303</td><td>&quot;Alex De Minaur&quot;</td><td>25</td><td>9</td><td>3745</td><td>0.66</td><td>0.72</td><td>0.75</td><td>10</td><td>0.8</td><td>15</td><td>0.666667</td><td>10</td><td>0.8</td><td>15</td><td>0.466667</td><td>0</td><td>0</td><td>0</td><td>0</td><td>0.58</td><td>0.62</td><td>0.48</td><td>0.32</td><td>1.0</td><td>1</td><td>5</td><td>0.547007</td><td>0.738017</td><td>0.535661</td><td>0.420784</td><td>0.451613</td><td>2.966667</td><td>4.583333</td><td>&quot;salle&quot;</td><td>1</td><td>1</td></tr><tr><td>&quot;Jannik Sinner&quot;</td><td>23</td><td>1</td><td>11830</td><td>0.92</td><td>0.857143</td><td>1.0</td><td>26</td><td>0.923077</td><td>6</td><td>0.833333</td><td>10</td><td>0.9</td><td>8</td><td>1.0</td><td>0</td><td>0</td><td>0</td><td>0</td><td>0.53</td><td>0.71</td><td>0.63</td><td>0.57</td><td>0.44</td><td>2</td><td>7</td><td>0.612744</td><td>0.794913</td><td>0.579725</td><td>0.410508</td><td>0.410405</td><td>1.893939</td><td>7.80303</td><td>&quot;Sebastian Baez&quot;</td><td>23</td><td>27</td><td>1690</td><td>0.52</td><td>0.52381</td><td>0.636364</td><td>9</td><td>0.333333</td><td>33</td><td>0.69697</td><td>3</td><td>0.0</td><td>5</td><td>0.0</td><td>0</td><td>0</td><td>0</td><td>0</td><td>0.71</td><td>0.46</td><td>0.36</td><td>0.33</td><td>0.0</td><td>0</td><td>1</td><td>0.719494</td><td>0.6375</td><td>0.512132</td><td>0.395948</td><td>0.405542</td><td>1.886792</td><td>2.09434</td><td>&quot;salle&quot;</td><td>1</td><td>1</td></tr><tr><td>&quot;Jannik Sinner&quot;</td><td>23</td><td>1</td><td>11830</td><td>0.92</td><td>0.857143</td><td>1.0</td><td>26</td><td>0.923077</td><td>6</td><td>0.833333</td><td>10</td><td>0.9</td><td>8</td><td>1.0</td><td>0</td><td>0</td><td>0</td><td>0</td><td>0.59</td><td>0.77</td><td>0.59</td><td>0.38</td><td>0.33</td><td>0</td><td>6</td><td>0.612744</td><td>0.794913</td><td>0.579725</td><td>0.410508</td><td>0.410405</td><td>1.893939</td><td>7.80303</td><td>&quot;Taylor Harry Fritz&quot;</td><td>27</td><td>4</td><td>5100</td><td>0.68</td><td>0.68</td><td>0.625</td><td>19</td><td>0.684211</td><td>10</td><td>0.6</td><td>12</td><td>0.833333</td><td>9</td><td>0.555556</td><td>0</td><td>0</td><td>0</td><td>0</td><td>0.59</td><td>0.79</td><td>0.38</td><td>0.3</td><td>0.0</td><td>0</td><td>7</td><td>0.627934</td><td>0.782078</td><td>0.557994</td><td>0.353673</td><td>0.41039</td><td>1.702703</td><td>10.635135</td><td>&quot;salle&quot;</td><td>3</td><td>1</td></tr><tr><td>&quot;Jannik Sinner&quot;</td><td>23</td><td>1</td><td>11830</td><td>0.92</td><td>0.857143</td><td>1.0</td><td>26</td><td>0.923077</td><td>6</td><td>0.833333</td><td>10</td><td>0.9</td><td>8</td><td>1.0</td><td>0</td><td>0</td><td>0</td><td>0</td><td>0.59</td><td>0.81</td><td>0.63</td><td>0.54</td><td>0.57</td><td>0</td><td>9</td><td>0.612744</td><td>0.794913</td><td>0.579725</td><td>0.410508</td><td>0.410405</td><td>1.893939</td><td>7.80303</td><td>&quot;Casper Ruud&quot;</td><td>25</td><td>6</td><td>4255</td><td>0.6</td><td>0.681818</td><td>0.857143</td><td>11</td><td>0.545455</td><td>25</td><td>0.76</td><td>2</td><td>0.5</td><td>12</td><td>0.333333</td><td>0</td><td>0</td><td>0</td><td>0</td><td>0.56</td><td>0.64</td><td>0.24</td><td>0.26</td><td>0.0</td><td>0</td><td>1</td><td>0.656933</td><td>0.720677</td><td>0.535969</td><td>0.372298</td><td>0.394456</td><td>2.149254</td><td>5.940299</td><td>&quot;salle&quot;</td><td>3</td><td>1</td></tr><tr><td>&hellip;</td><td>&hellip;</td><td>&hellip;</td><td>&hellip;</td><td>&hellip;</td><td>&hellip;</td><td>&hellip;</td><td>&hellip;</td><td>&hellip;</td><td>&hellip;</td><td>&hellip;</td><td>&hellip;</td><td>&hellip;</td><td>&hellip;</td><td>&hellip;</td><td>&hellip;</td><td>&hellip;</td><td>&hellip;</td><td>&hellip;</td><td>&hellip;</td><td>&hellip;</td><td>&hellip;</td><td>&hellip;</td><td>&hellip;</td><td>&hellip;</td><td>&hellip;</td><td>&hellip;</td><td>&hellip;</td><td>&hellip;</td><td>&hellip;</td><td>&hellip;</td><td>&hellip;</td><td>&hellip;</td><td>&hellip;</td><td>&hellip;</td><td>&hellip;</td><td>&hellip;</td><td>&hellip;</td><td>&hellip;</td><td>&hellip;</td><td>&hellip;</td><td>&hellip;</td><td>&hellip;</td><td>&hellip;</td><td>&hellip;</td><td>&hellip;</td><td>&hellip;</td><td>&hellip;</td><td>&hellip;</td><td>&hellip;</td><td>&hellip;</td><td>&hellip;</td><td>&hellip;</td><td>&hellip;</td><td>&hellip;</td><td>&hellip;</td><td>&hellip;</td><td>&hellip;</td><td>&hellip;</td><td>&hellip;</td><td>&hellip;</td><td>&hellip;</td><td>&hellip;</td><td>&hellip;</td><td>&hellip;</td><td>&hellip;</td><td>&hellip;</td><td>&hellip;</td><td>&hellip;</td></tr><tr><td>&quot;August Holmgren&quot;</td><td>26</td><td>200</td><td>286</td><td>0.6</td><td>0.5</td><td>0.933333</td><td>28</td><td>0.678571</td><td>10</td><td>0.5</td><td>0</td><td>0.0</td><td>12</td><td>0.5</td><td>0</td><td>0</td><td>0</td><td>0</td><td>null</td><td>null</td><td>null</td><td>null</td><td>null</td><td>null</td><td>null</td><td>0.627942</td><td>0.716793</td><td>0.533227</td><td>0.374223</td><td>0.385417</td><td>3.541667</td><td>5.020833</td><td>&quot;Alexander Shevchenko&quot;</td><td>24</td><td>78</td><td>715</td><td>0.38</td><td>0.409091</td><td>0.8</td><td>19</td><td>0.421053</td><td>19</td><td>0.368421</td><td>4</td><td>0.25</td><td>8</td><td>0.375</td><td>0</td><td>0</td><td>0</td><td>0</td><td>null</td><td>null</td><td>null</td><td>null</td><td>null</td><td>null</td><td>null</td><td>0.597448</td><td>0.683836</td><td>0.496891</td><td>0.363358</td><td>0.413428</td><td>2.72549</td><td>5.235294</td><td>&quot;salle&quot;</td><td>1</td><td>1</td></tr><tr><td>&quot;August Holmgren&quot;</td><td>26</td><td>200</td><td>286</td><td>0.6</td><td>0.5</td><td>0.933333</td><td>28</td><td>0.678571</td><td>10</td><td>0.5</td><td>0</td><td>0.0</td><td>12</td><td>0.5</td><td>0</td><td>0</td><td>0</td><td>0</td><td>0.66</td><td>0.76</td><td>0.5</td><td>0.39</td><td>0.5</td><td>2</td><td>3</td><td>0.627942</td><td>0.716793</td><td>0.533227</td><td>0.374223</td><td>0.385417</td><td>3.541667</td><td>5.020833</td><td>&quot;Alejandro Moro Canas&quot;</td><td>24</td><td>169</td><td>345</td><td>0.58</td><td>0.588235</td><td>0.6</td><td>13</td><td>0.538462</td><td>29</td><td>0.586207</td><td>6</td><td>0.666667</td><td>2</td><td>0.5</td><td>0</td><td>0</td><td>0</td><td>0</td><td>0.67</td><td>0.64</td><td>0.56</td><td>0.32</td><td>1.0</td><td>1</td><td>4</td><td>0.675751</td><td>0.6732</td><td>0.504321</td><td>0.383129</td><td>0.435185</td><td>1.980392</td><td>3.294118</td><td>&quot;dure&quot;</td><td>2</td><td>1</td></tr><tr><td>&quot;August Holmgren&quot;</td><td>26</td><td>200</td><td>286</td><td>0.6</td><td>0.5</td><td>0.933333</td><td>28</td><td>0.678571</td><td>10</td><td>0.5</td><td>0</td><td>0.0</td><td>12</td><td>0.5</td><td>0</td><td>0</td><td>0</td><td>0</td><td>0.58</td><td>0.71</td><td>0.52</td><td>0.39</td><td>0.45</td><td>10</td><td>8</td><td>0.627942</td><td>0.716793</td><td>0.533227</td><td>0.374223</td><td>0.385417</td><td>3.541667</td><td>5.020833</td><td>&quot;Mikhail Kukushkin&quot;</td><td>36</td><td>113</td><td>542</td><td>0.56</td><td>0.478261</td><td>0.615385</td><td>20</td><td>0.6</td><td>10</td><td>0.5</td><td>10</td><td>0.6</td><td>10</td><td>0.5</td><td>0</td><td>0</td><td>0</td><td>0</td><td>0.71</td><td>0.65</td><td>0.52</td><td>0.37</td><td>0.29</td><td>5</td><td>4</td><td>0.656663</td><td>0.673126</td><td>0.513287</td><td>0.383159</td><td>0.430233</td><td>1.254545</td><td>2.890909</td><td>&quot;dure&quot;</td><td>2</td><td>1</td></tr><tr><td>&quot;August Holmgren&quot;</td><td>26</td><td>200</td><td>286</td><td>0.6</td><td>0.5</td><td>0.933333</td><td>28</td><td>0.678571</td><td>10</td><td>0.5</td><td>0</td><td>0.0</td><td>12</td><td>0.5</td><td>0</td><td>0</td><td>0</td><td>0</td><td>0.58</td><td>0.66</td><td>0.55</td><td>0.37</td><td>0.6</td><td>3</td><td>6</td><td>0.627942</td><td>0.716793</td><td>0.533227</td><td>0.374223</td><td>0.385417</td><td>3.541667</td><td>5.020833</td><td>&quot;Timofey Skatov&quot;</td><td>23</td><td>191</td><td>299</td><td>0.62</td><td>0.578947</td><td>0.833333</td><td>8</td><td>0.5</td><td>38</td><td>0.657895</td><td>3</td><td>0.666667</td><td>1</td><td>0.0</td><td>0</td><td>0</td><td>0</td><td>0</td><td>0.59</td><td>0.67</td><td>0.56</td><td>0.38</td><td>0.38</td><td>1</td><td>7</td><td>0.572914</td><td>0.674308</td><td>0.504805</td><td>0.416935</td><td>0.428571</td><td>3.857143</td><td>2.612245</td><td>&quot;dure&quot;</td><td>2</td><td>1</td></tr><tr><td>&quot;August Holmgren&quot;</td><td>26</td><td>200</td><td>286</td><td>0.6</td><td>0.5</td><td>0.933333</td><td>28</td><td>0.678571</td><td>10</td><td>0.5</td><td>0</td><td>0.0</td><td>12</td><td>0.5</td><td>0</td><td>0</td><td>0</td><td>0</td><td>0.6</td><td>0.63</td><td>0.29</td><td>0.34</td><td>0.0</td><td>1</td><td>3</td><td>0.627942</td><td>0.716793</td><td>0.533227</td><td>0.374223</td><td>0.385417</td><td>3.541667</td><td>5.020833</td><td>&quot;Elmer Moller&quot;</td><td>21</td><td>160</td><td>372</td><td>0.68</td><td>0.352941</td><td>0.714286</td><td>4</td><td>0.5</td><td>45</td><td>0.688889</td><td>0</td><td>0.0</td><td>1</td><td>1.0</td><td>0</td><td>0</td><td>0</td><td>0</td><td>0.66</td><td>0.68</td><td>0.63</td><td>0.51</td><td>0.0</td><td>3</td><td>1</td><td>0.616914</td><td>0.666953</td><td>0.462284</td><td>0.461358</td><td>0.480519</td><td>3.884615</td><td>2.666667</td><td>&quot;terre battue&quot;</td><td>1</td><td>0</td></tr></tbody></table></div>"
      ],
      "text/plain": [
       "shape: (6_868, 69)\n",
       "┌────────────┬────────────┬───────────┬───────────┬───┬───────────┬───────────┬───────────┬────────┐\n",
       "│ player1_na ┆ player1_ag ┆ player1_r ┆ player1_p ┆ … ┆ player2_a ┆ surface   ┆ tournamen ┆ target │\n",
       "│ me         ┆ e          ┆ anking    ┆ oints     ┆   ┆ vg_aces   ┆ ---       ┆ t_categor ┆ ---    │\n",
       "│ ---        ┆ ---        ┆ ---       ┆ ---       ┆   ┆ ---       ┆ str       ┆ y         ┆ i64    │\n",
       "│ str        ┆ i64        ┆ i64       ┆ i64       ┆   ┆ f64       ┆           ┆ ---       ┆        │\n",
       "│            ┆            ┆           ┆           ┆   ┆           ┆           ┆ i64       ┆        │\n",
       "╞════════════╪════════════╪═══════════╪═══════════╪═══╪═══════════╪═══════════╪═══════════╪════════╡\n",
       "│ Jannik     ┆ 23         ┆ 1         ┆ 11830     ┆ … ┆ 9.051724  ┆ salle     ┆ 1         ┆ 1      │\n",
       "│ Sinner     ┆            ┆           ┆           ┆   ┆           ┆           ┆           ┆        │\n",
       "│ Jannik     ┆ 23         ┆ 1         ┆ 11830     ┆ … ┆ 4.583333  ┆ salle     ┆ 1         ┆ 1      │\n",
       "│ Sinner     ┆            ┆           ┆           ┆   ┆           ┆           ┆           ┆        │\n",
       "│ Jannik     ┆ 23         ┆ 1         ┆ 11830     ┆ … ┆ 2.09434   ┆ salle     ┆ 1         ┆ 1      │\n",
       "│ Sinner     ┆            ┆           ┆           ┆   ┆           ┆           ┆           ┆        │\n",
       "│ Jannik     ┆ 23         ┆ 1         ┆ 11830     ┆ … ┆ 10.635135 ┆ salle     ┆ 3         ┆ 1      │\n",
       "│ Sinner     ┆            ┆           ┆           ┆   ┆           ┆           ┆           ┆        │\n",
       "│ Jannik     ┆ 23         ┆ 1         ┆ 11830     ┆ … ┆ 5.940299  ┆ salle     ┆ 3         ┆ 1      │\n",
       "│ Sinner     ┆            ┆           ┆           ┆   ┆           ┆           ┆           ┆        │\n",
       "│ …          ┆ …          ┆ …         ┆ …         ┆ … ┆ …         ┆ …         ┆ …         ┆ …      │\n",
       "│ August     ┆ 26         ┆ 200       ┆ 286       ┆ … ┆ 5.235294  ┆ salle     ┆ 1         ┆ 1      │\n",
       "│ Holmgren   ┆            ┆           ┆           ┆   ┆           ┆           ┆           ┆        │\n",
       "│ August     ┆ 26         ┆ 200       ┆ 286       ┆ … ┆ 3.294118  ┆ dure      ┆ 2         ┆ 1      │\n",
       "│ Holmgren   ┆            ┆           ┆           ┆   ┆           ┆           ┆           ┆        │\n",
       "│ August     ┆ 26         ┆ 200       ┆ 286       ┆ … ┆ 2.890909  ┆ dure      ┆ 2         ┆ 1      │\n",
       "│ Holmgren   ┆            ┆           ┆           ┆   ┆           ┆           ┆           ┆        │\n",
       "│ August     ┆ 26         ┆ 200       ┆ 286       ┆ … ┆ 2.612245  ┆ dure      ┆ 2         ┆ 1      │\n",
       "│ Holmgren   ┆            ┆           ┆           ┆   ┆           ┆           ┆           ┆        │\n",
       "│ August     ┆ 26         ┆ 200       ┆ 286       ┆ … ┆ 2.666667  ┆ terre     ┆ 1         ┆ 0      │\n",
       "│ Holmgren   ┆            ┆           ┆           ┆   ┆           ┆ battue    ┆           ┆        │\n",
       "└────────────┴────────────┴───────────┴───────────┴───┴───────────┴───────────┴───────────┴────────┘"
      ]
     },
     "execution_count": 58,
     "metadata": {},
     "output_type": "execute_result"
    }
   ],
   "source": [
    "dataset_path = os.path.join(parent_dir, \"data\", \"tennis_dataset_raw.csv\")\n",
    "df = pl.read_csv(dataset_path)\n",
    "df"
   ]
  },
  {
   "cell_type": "code",
   "execution_count": 59,
   "metadata": {},
   "outputs": [
    {
     "data": {
      "text/plain": [
       "(6868, 69)"
      ]
     },
     "execution_count": 59,
     "metadata": {},
     "output_type": "execute_result"
    }
   ],
   "source": [
    "df.shape"
   ]
  },
  {
   "cell_type": "code",
   "execution_count": 60,
   "metadata": {},
   "outputs": [
    {
     "data": {
      "text/plain": [
       "<function matplotlib.pyplot.show(close=None, block=None)>"
      ]
     },
     "execution_count": 60,
     "metadata": {},
     "output_type": "execute_result"
    },
    {
     "data": {
      "image/png": "[encoded data removed]",
      "text/plain": [
       "<Figure size 640x480 with 1 Axes>"
      ]
     },
     "metadata": {},
     "output_type": "display_data"
    }
   ],
   "source": [
    "plt.hist(df[\"target\"])\n",
    "plt.show"
   ]
  },
  {
   "cell_type": "code",
   "execution_count": 61,
   "metadata": {},
   "outputs": [
    {
     "data": {
      "text/plain": [
       "3444"
      ]
     },
     "execution_count": 61,
     "metadata": {},
     "output_type": "execute_result"
    }
   ],
   "source": [
    "df.filter(pl.col(\"target\") == 0).shape[0]"
   ]
  },
  {
   "cell_type": "code",
   "execution_count": 62,
   "metadata": {},
   "outputs": [
    {
     "data": {
      "text/plain": [
       "3421"
      ]
     },
     "execution_count": 62,
     "metadata": {},
     "output_type": "execute_result"
    }
   ],
   "source": [
    "df.filter(pl.col(\"target\") == 1).unique().shape[0]"
   ]
  },
  {
   "cell_type": "markdown",
   "metadata": {},
   "source": [
    "# Pas de doublon"
   ]
  },
  {
   "cell_type": "markdown",
   "metadata": {},
   "source": [
    "## exemple de doublon :"
   ]
  },
  {
   "cell_type": "code",
   "execution_count": 149,
   "metadata": {},
   "outputs": [
    {
     "data": {
      "text/html": [
       "<div><style>\n",
       ".dataframe > thead > tr,\n",
       ".dataframe > tbody > tr {\n",
       "  text-align: right;\n",
       "  white-space: pre-wrap;\n",
       "}\n",
       "</style>\n",
       "<small>shape: (1, 69)</small><table border=\"1\" class=\"dataframe\"><thead><tr><th>player1_name</th><th>player1_age</th><th>player1_ranking</th><th>player1_points</th><th>player1_win_rate</th><th>player1_win_rate_3_sets</th><th>player1_win_rate_tiebreak</th><th>player1_total_matches_dure</th><th>player1_win_rate_dure</th><th>player1_total_matches_terre battue</th><th>player1_win_rate_terre battue</th><th>player1_total_matches_gazon</th><th>player1_win_rate_gazon</th><th>player1_total_matches_salle</th><th>player1_win_rate_salle</th><th>player1_total_matches_carpet</th><th>player1_win_rate_carpet</th><th>player1_total_matches_acryl</th><th>player1_win_rate_acryl</th><th>player1_first_serve_pct</th><th>player1_first_serve_won_pct</th><th>player1_second_serve_won_pct</th><th>player1_return_points_won_pct</th><th>player1_break_point_won_pct</th><th>player1_double_fautes</th><th>player1_aces</th><th>player1_avg_first_serve_pct</th><th>player1_avg_first_serve_won_pct</th><th>player1_avg_second_serve_won_pct</th><th>player1_avg_return_points_won_pct</th><th>player1_avg_break_point_won_pct</th><th>player1_avg_double_fautes</th><th>player1_avg_aces</th><th>player2_name</th><th>player2_age</th><th>player2_ranking</th><th>player2_points</th><th>player2_win_rate</th><th>player2_win_rate_3_sets</th><th>player2_win_rate_tiebreak</th><th>player2_total_matches_dure</th><th>player2_win_rate_dure</th><th>player2_total_matches_terre battue</th><th>player2_win_rate_terre battue</th><th>player2_total_matches_gazon</th><th>player2_win_rate_gazon</th><th>player2_total_matches_salle</th><th>player2_win_rate_salle</th><th>player2_total_matches_carpet</th><th>player2_win_rate_carpet</th><th>player2_total_matches_acryl</th><th>player2_win_rate_acryl</th><th>player2_first_serve_pct</th><th>player2_first_serve_won_pct</th><th>player2_second_serve_won_pct</th><th>player2_return_points_won_pct</th><th>player2_break_point_won_pct</th><th>player2_double_fautes</th><th>player2_aces</th><th>player2_avg_first_serve_pct</th><th>player2_avg_first_serve_won_pct</th><th>player2_avg_second_serve_won_pct</th><th>player2_avg_return_points_won_pct</th><th>player2_avg_break_point_won_pct</th><th>player2_avg_double_fautes</th><th>player2_avg_aces</th><th>surface</th><th>tournament_category</th><th>target</th></tr><tr><td>str</td><td>i64</td><td>i64</td><td>i64</td><td>f64</td><td>f64</td><td>f64</td><td>i64</td><td>f64</td><td>i64</td><td>f64</td><td>i64</td><td>f64</td><td>i64</td><td>f64</td><td>i64</td><td>i64</td><td>i64</td><td>i64</td><td>f64</td><td>f64</td><td>f64</td><td>f64</td><td>f64</td><td>i64</td><td>i64</td><td>f64</td><td>f64</td><td>f64</td><td>f64</td><td>f64</td><td>f64</td><td>f64</td><td>str</td><td>i64</td><td>i64</td><td>i64</td><td>f64</td><td>f64</td><td>f64</td><td>i64</td><td>f64</td><td>i64</td><td>f64</td><td>i64</td><td>f64</td><td>i64</td><td>f64</td><td>i64</td><td>i64</td><td>i64</td><td>i64</td><td>f64</td><td>f64</td><td>f64</td><td>f64</td><td>f64</td><td>i64</td><td>i64</td><td>f64</td><td>f64</td><td>f64</td><td>f64</td><td>f64</td><td>f64</td><td>f64</td><td>str</td><td>i64</td><td>i64</td></tr></thead><tbody><tr><td>&quot;Jannik Sinner&quot;</td><td>23</td><td>1</td><td>11830</td><td>0.92</td><td>0.857143</td><td>1.0</td><td>26</td><td>0.923077</td><td>6</td><td>0.833333</td><td>10</td><td>0.9</td><td>8</td><td>1.0</td><td>0</td><td>0</td><td>0</td><td>0</td><td>0.73</td><td>0.8</td><td>0.56</td><td>0.37</td><td>0.6</td><td>1</td><td>15</td><td>0.612744</td><td>0.794913</td><td>0.579725</td><td>0.410508</td><td>0.410405</td><td>1.893939</td><td>7.80303</td><td>&quot;Tallon Griekspoor&quot;</td><td>28</td><td>40</td><td>1280</td><td>0.5</td><td>0.533333</td><td>0.608696</td><td>14</td><td>0.5</td><td>16</td><td>0.5</td><td>7</td><td>0.571429</td><td>13</td><td>0.461538</td><td>0</td><td>0</td><td>0</td><td>0</td><td>0.66</td><td>0.72</td><td>0.45</td><td>0.27</td><td>0.33</td><td>3</td><td>6</td><td>0.641107</td><td>0.756507</td><td>0.522327</td><td>0.322469</td><td>0.3861</td><td>3.368421</td><td>9.051724</td><td>&quot;salle&quot;</td><td>1</td><td>1</td></tr></tbody></table></div>"
      ],
      "text/plain": [
       "shape: (1, 69)\n",
       "┌────────────┬────────────┬────────────┬────────────┬───┬───────────┬─────────┬───────────┬────────┐\n",
       "│ player1_na ┆ player1_ag ┆ player1_ra ┆ player1_po ┆ … ┆ player2_a ┆ surface ┆ tournamen ┆ target │\n",
       "│ me         ┆ e          ┆ nking      ┆ ints       ┆   ┆ vg_aces   ┆ ---     ┆ t_categor ┆ ---    │\n",
       "│ ---        ┆ ---        ┆ ---        ┆ ---        ┆   ┆ ---       ┆ str     ┆ y         ┆ i64    │\n",
       "│ str        ┆ i64        ┆ i64        ┆ i64        ┆   ┆ f64       ┆         ┆ ---       ┆        │\n",
       "│            ┆            ┆            ┆            ┆   ┆           ┆         ┆ i64       ┆        │\n",
       "╞════════════╪════════════╪════════════╪════════════╪═══╪═══════════╪═════════╪═══════════╪════════╡\n",
       "│ Jannik     ┆ 23         ┆ 1          ┆ 11830      ┆ … ┆ 9.051724  ┆ salle   ┆ 1         ┆ 1      │\n",
       "│ Sinner     ┆            ┆            ┆            ┆   ┆           ┆         ┆           ┆        │\n",
       "└────────────┴────────────┴────────────┴────────────┴───┴───────────┴─────────┴───────────┴────────┘"
      ]
     },
     "execution_count": 149,
     "metadata": {},
     "output_type": "execute_result"
    }
   ],
   "source": [
    "ligne_1 = df[0]\n",
    "ligne_1"
   ]
  },
  {
   "cell_type": "code",
   "execution_count": 150,
   "metadata": {},
   "outputs": [
    {
     "data": {
      "text/html": [
       "<div><style>\n",
       ".dataframe > thead > tr,\n",
       ".dataframe > tbody > tr {\n",
       "  text-align: right;\n",
       "  white-space: pre-wrap;\n",
       "}\n",
       "</style>\n",
       "<small>shape: (1, 69)</small><table border=\"1\" class=\"dataframe\"><thead><tr><th>player1_name</th><th>player1_age</th><th>player1_ranking</th><th>player1_points</th><th>player1_win_rate</th><th>player1_win_rate_3_sets</th><th>player1_win_rate_tiebreak</th><th>player1_total_matches_dure</th><th>player1_win_rate_dure</th><th>player1_total_matches_terre battue</th><th>player1_win_rate_terre battue</th><th>player1_total_matches_gazon</th><th>player1_win_rate_gazon</th><th>player1_total_matches_salle</th><th>player1_win_rate_salle</th><th>player1_total_matches_carpet</th><th>player1_win_rate_carpet</th><th>player1_total_matches_acryl</th><th>player1_win_rate_acryl</th><th>player1_first_serve_pct</th><th>player1_first_serve_won_pct</th><th>player1_second_serve_won_pct</th><th>player1_return_points_won_pct</th><th>player1_break_point_won_pct</th><th>player1_double_fautes</th><th>player1_aces</th><th>player1_avg_first_serve_pct</th><th>player1_avg_first_serve_won_pct</th><th>player1_avg_second_serve_won_pct</th><th>player1_avg_return_points_won_pct</th><th>player1_avg_break_point_won_pct</th><th>player1_avg_double_fautes</th><th>player1_avg_aces</th><th>player2_name</th><th>player2_age</th><th>player2_ranking</th><th>player2_points</th><th>player2_win_rate</th><th>player2_win_rate_3_sets</th><th>player2_win_rate_tiebreak</th><th>player2_total_matches_dure</th><th>player2_win_rate_dure</th><th>player2_total_matches_terre battue</th><th>player2_win_rate_terre battue</th><th>player2_total_matches_gazon</th><th>player2_win_rate_gazon</th><th>player2_total_matches_salle</th><th>player2_win_rate_salle</th><th>player2_total_matches_carpet</th><th>player2_win_rate_carpet</th><th>player2_total_matches_acryl</th><th>player2_win_rate_acryl</th><th>player2_first_serve_pct</th><th>player2_first_serve_won_pct</th><th>player2_second_serve_won_pct</th><th>player2_return_points_won_pct</th><th>player2_break_point_won_pct</th><th>player2_double_fautes</th><th>player2_aces</th><th>player2_avg_first_serve_pct</th><th>player2_avg_first_serve_won_pct</th><th>player2_avg_second_serve_won_pct</th><th>player2_avg_return_points_won_pct</th><th>player2_avg_break_point_won_pct</th><th>player2_avg_double_fautes</th><th>player2_avg_aces</th><th>surface</th><th>tournament_category</th><th>target</th></tr><tr><td>str</td><td>i64</td><td>i64</td><td>i64</td><td>f64</td><td>f64</td><td>f64</td><td>i64</td><td>f64</td><td>i64</td><td>f64</td><td>i64</td><td>f64</td><td>i64</td><td>f64</td><td>i64</td><td>i64</td><td>i64</td><td>i64</td><td>f64</td><td>f64</td><td>f64</td><td>f64</td><td>f64</td><td>i64</td><td>i64</td><td>f64</td><td>f64</td><td>f64</td><td>f64</td><td>f64</td><td>f64</td><td>f64</td><td>str</td><td>i64</td><td>i64</td><td>i64</td><td>f64</td><td>f64</td><td>f64</td><td>i64</td><td>f64</td><td>i64</td><td>f64</td><td>i64</td><td>f64</td><td>i64</td><td>f64</td><td>i64</td><td>i64</td><td>i64</td><td>i64</td><td>f64</td><td>f64</td><td>f64</td><td>f64</td><td>f64</td><td>i64</td><td>i64</td><td>f64</td><td>f64</td><td>f64</td><td>f64</td><td>f64</td><td>f64</td><td>f64</td><td>str</td><td>i64</td><td>i64</td></tr></thead><tbody><tr><td>&quot;Tallon Griekspoor&quot;</td><td>28</td><td>40</td><td>1280</td><td>0.5</td><td>0.533333</td><td>0.608696</td><td>14</td><td>0.5</td><td>16</td><td>0.5</td><td>7</td><td>0.571429</td><td>13</td><td>0.461538</td><td>0</td><td>0</td><td>0</td><td>0</td><td>0.66</td><td>0.72</td><td>0.45</td><td>0.27</td><td>0.33</td><td>3</td><td>6</td><td>0.641107</td><td>0.756507</td><td>0.522327</td><td>0.322469</td><td>0.3861</td><td>3.368421</td><td>9.051724</td><td>&quot;Jannik Sinner&quot;</td><td>23</td><td>1</td><td>11830</td><td>0.92</td><td>0.857143</td><td>1.0</td><td>26</td><td>0.923077</td><td>6</td><td>0.833333</td><td>10</td><td>0.9</td><td>8</td><td>1.0</td><td>0</td><td>0</td><td>0</td><td>0</td><td>0.73</td><td>0.8</td><td>0.56</td><td>0.37</td><td>0.6</td><td>1</td><td>15</td><td>0.612744</td><td>0.794913</td><td>0.579725</td><td>0.410508</td><td>0.410405</td><td>1.893939</td><td>7.80303</td><td>&quot;salle&quot;</td><td>1</td><td>0</td></tr></tbody></table></div>"
      ],
      "text/plain": [
       "shape: (1, 69)\n",
       "┌────────────┬────────────┬────────────┬────────────┬───┬───────────┬─────────┬───────────┬────────┐\n",
       "│ player1_na ┆ player1_ag ┆ player1_ra ┆ player1_po ┆ … ┆ player2_a ┆ surface ┆ tournamen ┆ target │\n",
       "│ me         ┆ e          ┆ nking      ┆ ints       ┆   ┆ vg_aces   ┆ ---     ┆ t_categor ┆ ---    │\n",
       "│ ---        ┆ ---        ┆ ---        ┆ ---        ┆   ┆ ---       ┆ str     ┆ y         ┆ i64    │\n",
       "│ str        ┆ i64        ┆ i64        ┆ i64        ┆   ┆ f64       ┆         ┆ ---       ┆        │\n",
       "│            ┆            ┆            ┆            ┆   ┆           ┆         ┆ i64       ┆        │\n",
       "╞════════════╪════════════╪════════════╪════════════╪═══╪═══════════╪═════════╪═══════════╪════════╡\n",
       "│ Tallon     ┆ 28         ┆ 40         ┆ 1280       ┆ … ┆ 7.80303   ┆ salle   ┆ 1         ┆ 0      │\n",
       "│ Griekspoor ┆            ┆            ┆            ┆   ┆           ┆         ┆           ┆        │\n",
       "└────────────┴────────────┴────────────┴────────────┴───┴───────────┴─────────┴───────────┴────────┘"
      ]
     },
     "execution_count": 150,
     "metadata": {},
     "output_type": "execute_result"
    }
   ],
   "source": [
    "df.filter(\n",
    "    pl.col(\"player1_name\") == \"Tallon Griekspoor\",\n",
    "    pl.col(\"player2_name\") == \"Jannik Sinner\",\n",
    "    pl.col(\"surface\") == \"salle\"\n",
    ")"
   ]
  },
  {
   "cell_type": "markdown",
   "metadata": {},
   "source": [
    "## Tentative de correction"
   ]
  },
  {
   "cell_type": "code",
   "execution_count": 63,
   "metadata": {},
   "outputs": [
    {
     "data": {
      "text/html": [
       "<div><style>\n",
       ".dataframe > thead > tr,\n",
       ".dataframe > tbody > tr {\n",
       "  text-align: right;\n",
       "  white-space: pre-wrap;\n",
       "}\n",
       "</style>\n",
       "<small>shape: (6_868, 69)</small><table border=\"1\" class=\"dataframe\"><thead><tr><th>player1_name</th><th>player1_age</th><th>player1_ranking</th><th>player1_points</th><th>player1_win_rate</th><th>player1_win_rate_3_sets</th><th>player1_win_rate_tiebreak</th><th>player1_total_matches_dure</th><th>player1_win_rate_dure</th><th>player1_total_matches_terre battue</th><th>player1_win_rate_terre battue</th><th>player1_total_matches_gazon</th><th>player1_win_rate_gazon</th><th>player1_total_matches_salle</th><th>player1_win_rate_salle</th><th>player1_total_matches_carpet</th><th>player1_win_rate_carpet</th><th>player1_total_matches_acryl</th><th>player1_win_rate_acryl</th><th>player1_first_serve_pct</th><th>player1_first_serve_won_pct</th><th>player1_second_serve_won_pct</th><th>player1_return_points_won_pct</th><th>player1_break_point_won_pct</th><th>player1_double_fautes</th><th>player1_aces</th><th>player1_avg_first_serve_pct</th><th>player1_avg_first_serve_won_pct</th><th>player1_avg_second_serve_won_pct</th><th>player1_avg_return_points_won_pct</th><th>player1_avg_break_point_won_pct</th><th>player1_avg_double_fautes</th><th>player1_avg_aces</th><th>player2_name</th><th>player2_age</th><th>player2_ranking</th><th>player2_points</th><th>player2_win_rate</th><th>player2_win_rate_3_sets</th><th>player2_win_rate_tiebreak</th><th>player2_total_matches_dure</th><th>player2_win_rate_dure</th><th>player2_total_matches_terre battue</th><th>player2_win_rate_terre battue</th><th>player2_total_matches_gazon</th><th>player2_win_rate_gazon</th><th>player2_total_matches_salle</th><th>player2_win_rate_salle</th><th>player2_total_matches_carpet</th><th>player2_win_rate_carpet</th><th>player2_total_matches_acryl</th><th>player2_win_rate_acryl</th><th>player2_first_serve_pct</th><th>player2_first_serve_won_pct</th><th>player2_second_serve_won_pct</th><th>player2_return_points_won_pct</th><th>player2_break_point_won_pct</th><th>player2_double_fautes</th><th>player2_aces</th><th>player2_avg_first_serve_pct</th><th>player2_avg_first_serve_won_pct</th><th>player2_avg_second_serve_won_pct</th><th>player2_avg_return_points_won_pct</th><th>player2_avg_break_point_won_pct</th><th>player2_avg_double_fautes</th><th>player2_avg_aces</th><th>surface</th><th>tournament_category</th><th>target</th></tr><tr><td>str</td><td>i64</td><td>i64</td><td>i64</td><td>f64</td><td>f64</td><td>f64</td><td>i64</td><td>f64</td><td>i64</td><td>f64</td><td>i64</td><td>f64</td><td>i64</td><td>f64</td><td>i64</td><td>i64</td><td>i64</td><td>i64</td><td>f64</td><td>f64</td><td>f64</td><td>f64</td><td>f64</td><td>i64</td><td>i64</td><td>f64</td><td>f64</td><td>f64</td><td>f64</td><td>f64</td><td>f64</td><td>f64</td><td>str</td><td>i64</td><td>i64</td><td>i64</td><td>f64</td><td>f64</td><td>f64</td><td>i64</td><td>f64</td><td>i64</td><td>f64</td><td>i64</td><td>f64</td><td>i64</td><td>f64</td><td>i64</td><td>i64</td><td>i64</td><td>i64</td><td>f64</td><td>f64</td><td>f64</td><td>f64</td><td>f64</td><td>i64</td><td>i64</td><td>f64</td><td>f64</td><td>f64</td><td>f64</td><td>f64</td><td>f64</td><td>f64</td><td>str</td><td>i64</td><td>i64</td></tr></thead><tbody><tr><td>&quot;Jannik Sinner&quot;</td><td>23</td><td>1</td><td>11830</td><td>0.92</td><td>0.857143</td><td>1.0</td><td>26</td><td>0.923077</td><td>6</td><td>0.833333</td><td>10</td><td>0.9</td><td>8</td><td>1.0</td><td>0</td><td>0</td><td>0</td><td>0</td><td>0.73</td><td>0.8</td><td>0.56</td><td>0.37</td><td>0.6</td><td>1</td><td>15</td><td>0.612744</td><td>0.794913</td><td>0.579725</td><td>0.410508</td><td>0.410405</td><td>1.893939</td><td>7.80303</td><td>&quot;Tallon Griekspoor&quot;</td><td>28</td><td>40</td><td>1280</td><td>0.5</td><td>0.533333</td><td>0.608696</td><td>14</td><td>0.5</td><td>16</td><td>0.5</td><td>7</td><td>0.571429</td><td>13</td><td>0.461538</td><td>0</td><td>0</td><td>0</td><td>0</td><td>0.66</td><td>0.72</td><td>0.45</td><td>0.27</td><td>0.33</td><td>3</td><td>6</td><td>0.641107</td><td>0.756507</td><td>0.522327</td><td>0.322469</td><td>0.3861</td><td>3.368421</td><td>9.051724</td><td>&quot;salle&quot;</td><td>1</td><td>1</td></tr><tr><td>&quot;Jannik Sinner&quot;</td><td>23</td><td>1</td><td>11830</td><td>0.92</td><td>0.857143</td><td>1.0</td><td>26</td><td>0.923077</td><td>6</td><td>0.833333</td><td>10</td><td>0.9</td><td>8</td><td>1.0</td><td>0</td><td>0</td><td>0</td><td>0</td><td>0.65</td><td>0.81</td><td>0.45</td><td>0.44</td><td>0.5</td><td>0</td><td>4</td><td>0.612744</td><td>0.794913</td><td>0.579725</td><td>0.410508</td><td>0.410405</td><td>1.893939</td><td>7.80303</td><td>&quot;Alex De Minaur&quot;</td><td>25</td><td>9</td><td>3745</td><td>0.66</td><td>0.72</td><td>0.75</td><td>10</td><td>0.8</td><td>15</td><td>0.666667</td><td>10</td><td>0.8</td><td>15</td><td>0.466667</td><td>0</td><td>0</td><td>0</td><td>0</td><td>0.58</td><td>0.62</td><td>0.48</td><td>0.32</td><td>1.0</td><td>1</td><td>5</td><td>0.547007</td><td>0.738017</td><td>0.535661</td><td>0.420784</td><td>0.451613</td><td>2.966667</td><td>4.583333</td><td>&quot;salle&quot;</td><td>1</td><td>1</td></tr><tr><td>&quot;Jannik Sinner&quot;</td><td>23</td><td>1</td><td>11830</td><td>0.92</td><td>0.857143</td><td>1.0</td><td>26</td><td>0.923077</td><td>6</td><td>0.833333</td><td>10</td><td>0.9</td><td>8</td><td>1.0</td><td>0</td><td>0</td><td>0</td><td>0</td><td>0.53</td><td>0.71</td><td>0.63</td><td>0.57</td><td>0.44</td><td>2</td><td>7</td><td>0.612744</td><td>0.794913</td><td>0.579725</td><td>0.410508</td><td>0.410405</td><td>1.893939</td><td>7.80303</td><td>&quot;Sebastian Baez&quot;</td><td>23</td><td>27</td><td>1690</td><td>0.52</td><td>0.52381</td><td>0.636364</td><td>9</td><td>0.333333</td><td>33</td><td>0.69697</td><td>3</td><td>0.0</td><td>5</td><td>0.0</td><td>0</td><td>0</td><td>0</td><td>0</td><td>0.71</td><td>0.46</td><td>0.36</td><td>0.33</td><td>0.0</td><td>0</td><td>1</td><td>0.719494</td><td>0.6375</td><td>0.512132</td><td>0.395948</td><td>0.405542</td><td>1.886792</td><td>2.09434</td><td>&quot;salle&quot;</td><td>1</td><td>1</td></tr><tr><td>&quot;Jannik Sinner&quot;</td><td>23</td><td>1</td><td>11830</td><td>0.92</td><td>0.857143</td><td>1.0</td><td>26</td><td>0.923077</td><td>6</td><td>0.833333</td><td>10</td><td>0.9</td><td>8</td><td>1.0</td><td>0</td><td>0</td><td>0</td><td>0</td><td>0.59</td><td>0.77</td><td>0.59</td><td>0.38</td><td>0.33</td><td>0</td><td>6</td><td>0.612744</td><td>0.794913</td><td>0.579725</td><td>0.410508</td><td>0.410405</td><td>1.893939</td><td>7.80303</td><td>&quot;Taylor Harry Fritz&quot;</td><td>27</td><td>4</td><td>5100</td><td>0.68</td><td>0.68</td><td>0.625</td><td>19</td><td>0.684211</td><td>10</td><td>0.6</td><td>12</td><td>0.833333</td><td>9</td><td>0.555556</td><td>0</td><td>0</td><td>0</td><td>0</td><td>0.59</td><td>0.79</td><td>0.38</td><td>0.3</td><td>0.0</td><td>0</td><td>7</td><td>0.627934</td><td>0.782078</td><td>0.557994</td><td>0.353673</td><td>0.41039</td><td>1.702703</td><td>10.635135</td><td>&quot;salle&quot;</td><td>3</td><td>1</td></tr><tr><td>&quot;Jannik Sinner&quot;</td><td>23</td><td>1</td><td>11830</td><td>0.92</td><td>0.857143</td><td>1.0</td><td>26</td><td>0.923077</td><td>6</td><td>0.833333</td><td>10</td><td>0.9</td><td>8</td><td>1.0</td><td>0</td><td>0</td><td>0</td><td>0</td><td>0.59</td><td>0.81</td><td>0.63</td><td>0.54</td><td>0.57</td><td>0</td><td>9</td><td>0.612744</td><td>0.794913</td><td>0.579725</td><td>0.410508</td><td>0.410405</td><td>1.893939</td><td>7.80303</td><td>&quot;Casper Ruud&quot;</td><td>25</td><td>6</td><td>4255</td><td>0.6</td><td>0.681818</td><td>0.857143</td><td>11</td><td>0.545455</td><td>25</td><td>0.76</td><td>2</td><td>0.5</td><td>12</td><td>0.333333</td><td>0</td><td>0</td><td>0</td><td>0</td><td>0.56</td><td>0.64</td><td>0.24</td><td>0.26</td><td>0.0</td><td>0</td><td>1</td><td>0.656933</td><td>0.720677</td><td>0.535969</td><td>0.372298</td><td>0.394456</td><td>2.149254</td><td>5.940299</td><td>&quot;salle&quot;</td><td>3</td><td>1</td></tr><tr><td>&hellip;</td><td>&hellip;</td><td>&hellip;</td><td>&hellip;</td><td>&hellip;</td><td>&hellip;</td><td>&hellip;</td><td>&hellip;</td><td>&hellip;</td><td>&hellip;</td><td>&hellip;</td><td>&hellip;</td><td>&hellip;</td><td>&hellip;</td><td>&hellip;</td><td>&hellip;</td><td>&hellip;</td><td>&hellip;</td><td>&hellip;</td><td>&hellip;</td><td>&hellip;</td><td>&hellip;</td><td>&hellip;</td><td>&hellip;</td><td>&hellip;</td><td>&hellip;</td><td>&hellip;</td><td>&hellip;</td><td>&hellip;</td><td>&hellip;</td><td>&hellip;</td><td>&hellip;</td><td>&hellip;</td><td>&hellip;</td><td>&hellip;</td><td>&hellip;</td><td>&hellip;</td><td>&hellip;</td><td>&hellip;</td><td>&hellip;</td><td>&hellip;</td><td>&hellip;</td><td>&hellip;</td><td>&hellip;</td><td>&hellip;</td><td>&hellip;</td><td>&hellip;</td><td>&hellip;</td><td>&hellip;</td><td>&hellip;</td><td>&hellip;</td><td>&hellip;</td><td>&hellip;</td><td>&hellip;</td><td>&hellip;</td><td>&hellip;</td><td>&hellip;</td><td>&hellip;</td><td>&hellip;</td><td>&hellip;</td><td>&hellip;</td><td>&hellip;</td><td>&hellip;</td><td>&hellip;</td><td>&hellip;</td><td>&hellip;</td><td>&hellip;</td><td>&hellip;</td><td>&hellip;</td></tr><tr><td>&quot;August Holmgren&quot;</td><td>26</td><td>200</td><td>286</td><td>0.6</td><td>0.5</td><td>0.933333</td><td>28</td><td>0.678571</td><td>10</td><td>0.5</td><td>0</td><td>0.0</td><td>12</td><td>0.5</td><td>0</td><td>0</td><td>0</td><td>0</td><td>null</td><td>null</td><td>null</td><td>null</td><td>null</td><td>null</td><td>null</td><td>0.627942</td><td>0.716793</td><td>0.533227</td><td>0.374223</td><td>0.385417</td><td>3.541667</td><td>5.020833</td><td>&quot;Alexander Shevchenko&quot;</td><td>24</td><td>78</td><td>715</td><td>0.38</td><td>0.409091</td><td>0.8</td><td>19</td><td>0.421053</td><td>19</td><td>0.368421</td><td>4</td><td>0.25</td><td>8</td><td>0.375</td><td>0</td><td>0</td><td>0</td><td>0</td><td>null</td><td>null</td><td>null</td><td>null</td><td>null</td><td>null</td><td>null</td><td>0.597448</td><td>0.683836</td><td>0.496891</td><td>0.363358</td><td>0.413428</td><td>2.72549</td><td>5.235294</td><td>&quot;salle&quot;</td><td>1</td><td>1</td></tr><tr><td>&quot;August Holmgren&quot;</td><td>26</td><td>200</td><td>286</td><td>0.6</td><td>0.5</td><td>0.933333</td><td>28</td><td>0.678571</td><td>10</td><td>0.5</td><td>0</td><td>0.0</td><td>12</td><td>0.5</td><td>0</td><td>0</td><td>0</td><td>0</td><td>0.66</td><td>0.76</td><td>0.5</td><td>0.39</td><td>0.5</td><td>2</td><td>3</td><td>0.627942</td><td>0.716793</td><td>0.533227</td><td>0.374223</td><td>0.385417</td><td>3.541667</td><td>5.020833</td><td>&quot;Alejandro Moro Canas&quot;</td><td>24</td><td>169</td><td>345</td><td>0.58</td><td>0.588235</td><td>0.6</td><td>13</td><td>0.538462</td><td>29</td><td>0.586207</td><td>6</td><td>0.666667</td><td>2</td><td>0.5</td><td>0</td><td>0</td><td>0</td><td>0</td><td>0.67</td><td>0.64</td><td>0.56</td><td>0.32</td><td>1.0</td><td>1</td><td>4</td><td>0.675751</td><td>0.6732</td><td>0.504321</td><td>0.383129</td><td>0.435185</td><td>1.980392</td><td>3.294118</td><td>&quot;dure&quot;</td><td>2</td><td>1</td></tr><tr><td>&quot;August Holmgren&quot;</td><td>26</td><td>200</td><td>286</td><td>0.6</td><td>0.5</td><td>0.933333</td><td>28</td><td>0.678571</td><td>10</td><td>0.5</td><td>0</td><td>0.0</td><td>12</td><td>0.5</td><td>0</td><td>0</td><td>0</td><td>0</td><td>0.58</td><td>0.71</td><td>0.52</td><td>0.39</td><td>0.45</td><td>10</td><td>8</td><td>0.627942</td><td>0.716793</td><td>0.533227</td><td>0.374223</td><td>0.385417</td><td>3.541667</td><td>5.020833</td><td>&quot;Mikhail Kukushkin&quot;</td><td>36</td><td>113</td><td>542</td><td>0.56</td><td>0.478261</td><td>0.615385</td><td>20</td><td>0.6</td><td>10</td><td>0.5</td><td>10</td><td>0.6</td><td>10</td><td>0.5</td><td>0</td><td>0</td><td>0</td><td>0</td><td>0.71</td><td>0.65</td><td>0.52</td><td>0.37</td><td>0.29</td><td>5</td><td>4</td><td>0.656663</td><td>0.673126</td><td>0.513287</td><td>0.383159</td><td>0.430233</td><td>1.254545</td><td>2.890909</td><td>&quot;dure&quot;</td><td>2</td><td>1</td></tr><tr><td>&quot;August Holmgren&quot;</td><td>26</td><td>200</td><td>286</td><td>0.6</td><td>0.5</td><td>0.933333</td><td>28</td><td>0.678571</td><td>10</td><td>0.5</td><td>0</td><td>0.0</td><td>12</td><td>0.5</td><td>0</td><td>0</td><td>0</td><td>0</td><td>0.58</td><td>0.66</td><td>0.55</td><td>0.37</td><td>0.6</td><td>3</td><td>6</td><td>0.627942</td><td>0.716793</td><td>0.533227</td><td>0.374223</td><td>0.385417</td><td>3.541667</td><td>5.020833</td><td>&quot;Timofey Skatov&quot;</td><td>23</td><td>191</td><td>299</td><td>0.62</td><td>0.578947</td><td>0.833333</td><td>8</td><td>0.5</td><td>38</td><td>0.657895</td><td>3</td><td>0.666667</td><td>1</td><td>0.0</td><td>0</td><td>0</td><td>0</td><td>0</td><td>0.59</td><td>0.67</td><td>0.56</td><td>0.38</td><td>0.38</td><td>1</td><td>7</td><td>0.572914</td><td>0.674308</td><td>0.504805</td><td>0.416935</td><td>0.428571</td><td>3.857143</td><td>2.612245</td><td>&quot;dure&quot;</td><td>2</td><td>1</td></tr><tr><td>&quot;August Holmgren&quot;</td><td>26</td><td>200</td><td>286</td><td>0.6</td><td>0.5</td><td>0.933333</td><td>28</td><td>0.678571</td><td>10</td><td>0.5</td><td>0</td><td>0.0</td><td>12</td><td>0.5</td><td>0</td><td>0</td><td>0</td><td>0</td><td>0.6</td><td>0.63</td><td>0.29</td><td>0.34</td><td>0.0</td><td>1</td><td>3</td><td>0.627942</td><td>0.716793</td><td>0.533227</td><td>0.374223</td><td>0.385417</td><td>3.541667</td><td>5.020833</td><td>&quot;Elmer Moller&quot;</td><td>21</td><td>160</td><td>372</td><td>0.68</td><td>0.352941</td><td>0.714286</td><td>4</td><td>0.5</td><td>45</td><td>0.688889</td><td>0</td><td>0.0</td><td>1</td><td>1.0</td><td>0</td><td>0</td><td>0</td><td>0</td><td>0.66</td><td>0.68</td><td>0.63</td><td>0.51</td><td>0.0</td><td>3</td><td>1</td><td>0.616914</td><td>0.666953</td><td>0.462284</td><td>0.461358</td><td>0.480519</td><td>3.884615</td><td>2.666667</td><td>&quot;terre battue&quot;</td><td>1</td><td>0</td></tr></tbody></table></div>"
      ],
      "text/plain": [
       "shape: (6_868, 69)\n",
       "┌────────────┬────────────┬───────────┬───────────┬───┬───────────┬───────────┬───────────┬────────┐\n",
       "│ player1_na ┆ player1_ag ┆ player1_r ┆ player1_p ┆ … ┆ player2_a ┆ surface   ┆ tournamen ┆ target │\n",
       "│ me         ┆ e          ┆ anking    ┆ oints     ┆   ┆ vg_aces   ┆ ---       ┆ t_categor ┆ ---    │\n",
       "│ ---        ┆ ---        ┆ ---       ┆ ---       ┆   ┆ ---       ┆ str       ┆ y         ┆ i64    │\n",
       "│ str        ┆ i64        ┆ i64       ┆ i64       ┆   ┆ f64       ┆           ┆ ---       ┆        │\n",
       "│            ┆            ┆           ┆           ┆   ┆           ┆           ┆ i64       ┆        │\n",
       "╞════════════╪════════════╪═══════════╪═══════════╪═══╪═══════════╪═══════════╪═══════════╪════════╡\n",
       "│ Jannik     ┆ 23         ┆ 1         ┆ 11830     ┆ … ┆ 9.051724  ┆ salle     ┆ 1         ┆ 1      │\n",
       "│ Sinner     ┆            ┆           ┆           ┆   ┆           ┆           ┆           ┆        │\n",
       "│ Jannik     ┆ 23         ┆ 1         ┆ 11830     ┆ … ┆ 4.583333  ┆ salle     ┆ 1         ┆ 1      │\n",
       "│ Sinner     ┆            ┆           ┆           ┆   ┆           ┆           ┆           ┆        │\n",
       "│ Jannik     ┆ 23         ┆ 1         ┆ 11830     ┆ … ┆ 2.09434   ┆ salle     ┆ 1         ┆ 1      │\n",
       "│ Sinner     ┆            ┆           ┆           ┆   ┆           ┆           ┆           ┆        │\n",
       "│ Jannik     ┆ 23         ┆ 1         ┆ 11830     ┆ … ┆ 10.635135 ┆ salle     ┆ 3         ┆ 1      │\n",
       "│ Sinner     ┆            ┆           ┆           ┆   ┆           ┆           ┆           ┆        │\n",
       "│ Jannik     ┆ 23         ┆ 1         ┆ 11830     ┆ … ┆ 5.940299  ┆ salle     ┆ 3         ┆ 1      │\n",
       "│ Sinner     ┆            ┆           ┆           ┆   ┆           ┆           ┆           ┆        │\n",
       "│ …          ┆ …          ┆ …         ┆ …         ┆ … ┆ …         ┆ …         ┆ …         ┆ …      │\n",
       "│ August     ┆ 26         ┆ 200       ┆ 286       ┆ … ┆ 5.235294  ┆ salle     ┆ 1         ┆ 1      │\n",
       "│ Holmgren   ┆            ┆           ┆           ┆   ┆           ┆           ┆           ┆        │\n",
       "│ August     ┆ 26         ┆ 200       ┆ 286       ┆ … ┆ 3.294118  ┆ dure      ┆ 2         ┆ 1      │\n",
       "│ Holmgren   ┆            ┆           ┆           ┆   ┆           ┆           ┆           ┆        │\n",
       "│ August     ┆ 26         ┆ 200       ┆ 286       ┆ … ┆ 2.890909  ┆ dure      ┆ 2         ┆ 1      │\n",
       "│ Holmgren   ┆            ┆           ┆           ┆   ┆           ┆           ┆           ┆        │\n",
       "│ August     ┆ 26         ┆ 200       ┆ 286       ┆ … ┆ 2.612245  ┆ dure      ┆ 2         ┆ 1      │\n",
       "│ Holmgren   ┆            ┆           ┆           ┆   ┆           ┆           ┆           ┆        │\n",
       "│ August     ┆ 26         ┆ 200       ┆ 286       ┆ … ┆ 2.666667  ┆ terre     ┆ 1         ┆ 0      │\n",
       "│ Holmgren   ┆            ┆           ┆           ┆   ┆           ┆ battue    ┆           ┆        │\n",
       "└────────────┴────────────┴───────────┴───────────┴───┴───────────┴───────────┴───────────┴────────┘"
      ]
     },
     "execution_count": 63,
     "metadata": {},
     "output_type": "execute_result"
    }
   ],
   "source": [
    "df"
   ]
  },
  {
   "cell_type": "markdown",
   "metadata": {},
   "source": [
    "clé primaire = player1_name, player1_stats[20:26], player2_name, player2_stats[53:59], surface, tournament, target"
   ]
  },
  {
   "cell_type": "code",
   "execution_count": 65,
   "metadata": {},
   "outputs": [
    {
     "data": {
      "text/plain": [
       "['player1_name',\n",
       " 'player1_first_serve_pct',\n",
       " 'player1_first_serve_won_pct',\n",
       " 'player1_second_serve_won_pct',\n",
       " 'player1_return_points_won_pct',\n",
       " 'player1_break_point_won_pct',\n",
       " 'player1_double_fautes',\n",
       " 'player1_aces',\n",
       " 'player2_name',\n",
       " 'player2_first_serve_pct',\n",
       " 'player2_first_serve_won_pct',\n",
       " 'player2_second_serve_won_pct',\n",
       " 'player2_return_points_won_pct',\n",
       " 'player2_break_point_won_pct',\n",
       " 'player2_double_fautes',\n",
       " 'player2_aces',\n",
       " 'surface',\n",
       " 'tournament',\n",
       " 'target']"
      ]
     },
     "execution_count": 65,
     "metadata": {},
     "output_type": "execute_result"
    }
   ],
   "source": [
    "col_stats_joueur_1 = df.columns[19:26]\n",
    "col_stats_joueur_2 = df.columns[52:59]\n",
    "der_cols = [\"surface\", \"tournament\", \"target\"]\n",
    "primary_key = [\n",
    "    \"player1_name\",\n",
    "    *col_stats_joueur_1,\n",
    "    \"player2_name\",\n",
    "    *col_stats_joueur_2,\n",
    "    *der_cols\n",
    "]\n",
    "primary_key"
   ]
  },
  {
   "cell_type": "code",
   "execution_count": 102,
   "metadata": {},
   "outputs": [
    {
     "data": {
      "text/plain": [
       "(50, 33)"
      ]
     },
     "execution_count": 102,
     "metadata": {},
     "output_type": "execute_result"
    }
   ],
   "source": [
    "df_player1 = df.select([col for col in df.columns if \"player1\" in col]).filter(pl.col(\"player1_name\") == \"Jannik Sinner\")\n",
    "df_player1.shape"
   ]
  },
  {
   "cell_type": "code",
   "execution_count": 82,
   "metadata": {},
   "outputs": [
    {
     "data": {
      "text/plain": [
       "(69, 33)"
      ]
     },
     "execution_count": 82,
     "metadata": {},
     "output_type": "execute_result"
    }
   ],
   "source": [
    "df_player2 = df.select([col for col in df.columns if \"player2\" in col]).filter(pl.col(\"player2_name\") == \"Jannik Sinner\")\n",
    "df_player2.shape"
   ]
  },
  {
   "cell_type": "code",
   "execution_count": 99,
   "metadata": {},
   "outputs": [
    {
     "data": {
      "text/html": [
       "<div><style>\n",
       ".dataframe > thead > tr,\n",
       ".dataframe > tbody > tr {\n",
       "  text-align: right;\n",
       "  white-space: pre-wrap;\n",
       "}\n",
       "</style>\n",
       "<small>shape: (69, 33)</small><table border=\"1\" class=\"dataframe\"><thead><tr><th>player2_name</th><th>player2_age</th><th>player2_ranking</th><th>player2_points</th><th>player2_win_rate</th><th>player2_win_rate_3_sets</th><th>player2_win_rate_tiebreak</th><th>player2_total_matches_dure</th><th>player2_win_rate_dure</th><th>player2_total_matches_terre battue</th><th>player2_win_rate_terre battue</th><th>player2_total_matches_gazon</th><th>player2_win_rate_gazon</th><th>player2_total_matches_salle</th><th>player2_win_rate_salle</th><th>player2_total_matches_carpet</th><th>player2_win_rate_carpet</th><th>player2_total_matches_acryl</th><th>player2_win_rate_acryl</th><th>player2_first_serve_pct</th><th>player2_first_serve_won_pct</th><th>player2_second_serve_won_pct</th><th>player2_return_points_won_pct</th><th>player2_break_point_won_pct</th><th>player2_double_fautes</th><th>player2_aces</th><th>player2_avg_first_serve_pct</th><th>player2_avg_first_serve_won_pct</th><th>player2_avg_second_serve_won_pct</th><th>player2_avg_return_points_won_pct</th><th>player2_avg_break_point_won_pct</th><th>player2_avg_double_fautes</th><th>player2_avg_aces</th></tr><tr><td>str</td><td>i64</td><td>i64</td><td>i64</td><td>f64</td><td>f64</td><td>f64</td><td>i64</td><td>f64</td><td>i64</td><td>f64</td><td>i64</td><td>f64</td><td>i64</td><td>f64</td><td>i64</td><td>i64</td><td>i64</td><td>i64</td><td>f64</td><td>f64</td><td>f64</td><td>f64</td><td>f64</td><td>i64</td><td>i64</td><td>f64</td><td>f64</td><td>f64</td><td>f64</td><td>f64</td><td>f64</td><td>f64</td></tr></thead><tbody><tr><td>&quot;Jannik Sinner&quot;</td><td>23</td><td>1</td><td>11830</td><td>0.92</td><td>0.857143</td><td>1.0</td><td>26</td><td>0.923077</td><td>6</td><td>0.833333</td><td>10</td><td>0.9</td><td>8</td><td>1.0</td><td>0</td><td>0</td><td>0</td><td>0</td><td>0.62</td><td>0.7</td><td>0.64</td><td>0.35</td><td>0.5</td><td>1</td><td>12</td><td>0.612744</td><td>0.794913</td><td>0.579725</td><td>0.410508</td><td>0.410405</td><td>1.893939</td><td>7.80303</td></tr><tr><td>&quot;Jannik Sinner&quot;</td><td>23</td><td>1</td><td>11830</td><td>0.92</td><td>0.857143</td><td>1.0</td><td>26</td><td>0.923077</td><td>6</td><td>0.833333</td><td>10</td><td>0.9</td><td>8</td><td>1.0</td><td>0</td><td>0</td><td>0</td><td>0</td><td>0.55</td><td>0.66</td><td>0.53</td><td>0.34</td><td>0.33</td><td>4</td><td>6</td><td>0.612744</td><td>0.794913</td><td>0.579725</td><td>0.410508</td><td>0.410405</td><td>1.893939</td><td>7.80303</td></tr><tr><td>&quot;Jannik Sinner&quot;</td><td>23</td><td>1</td><td>11830</td><td>0.92</td><td>0.857143</td><td>1.0</td><td>26</td><td>0.923077</td><td>6</td><td>0.833333</td><td>10</td><td>0.9</td><td>8</td><td>1.0</td><td>0</td><td>0</td><td>0</td><td>0</td><td>0.56</td><td>0.74</td><td>0.46</td><td>0.41</td><td>0.6</td><td>8</td><td>7</td><td>0.612744</td><td>0.794913</td><td>0.579725</td><td>0.410508</td><td>0.410405</td><td>1.893939</td><td>7.80303</td></tr><tr><td>&quot;Jannik Sinner&quot;</td><td>23</td><td>1</td><td>11830</td><td>0.92</td><td>0.857143</td><td>1.0</td><td>26</td><td>0.923077</td><td>6</td><td>0.833333</td><td>10</td><td>0.9</td><td>8</td><td>1.0</td><td>0</td><td>0</td><td>0</td><td>0</td><td>0.59</td><td>0.77</td><td>0.59</td><td>0.38</td><td>0.33</td><td>0</td><td>6</td><td>0.612744</td><td>0.794913</td><td>0.579725</td><td>0.410508</td><td>0.410405</td><td>1.893939</td><td>7.80303</td></tr><tr><td>&quot;Jannik Sinner&quot;</td><td>23</td><td>1</td><td>11830</td><td>0.92</td><td>0.857143</td><td>1.0</td><td>26</td><td>0.923077</td><td>6</td><td>0.833333</td><td>10</td><td>0.9</td><td>8</td><td>1.0</td><td>0</td><td>0</td><td>0</td><td>0</td><td>0.59</td><td>0.77</td><td>0.59</td><td>0.38</td><td>0.33</td><td>0</td><td>6</td><td>0.612744</td><td>0.794913</td><td>0.579725</td><td>0.410508</td><td>0.410405</td><td>1.893939</td><td>7.80303</td></tr><tr><td>&hellip;</td><td>&hellip;</td><td>&hellip;</td><td>&hellip;</td><td>&hellip;</td><td>&hellip;</td><td>&hellip;</td><td>&hellip;</td><td>&hellip;</td><td>&hellip;</td><td>&hellip;</td><td>&hellip;</td><td>&hellip;</td><td>&hellip;</td><td>&hellip;</td><td>&hellip;</td><td>&hellip;</td><td>&hellip;</td><td>&hellip;</td><td>&hellip;</td><td>&hellip;</td><td>&hellip;</td><td>&hellip;</td><td>&hellip;</td><td>&hellip;</td><td>&hellip;</td><td>&hellip;</td><td>&hellip;</td><td>&hellip;</td><td>&hellip;</td><td>&hellip;</td><td>&hellip;</td><td>&hellip;</td></tr><tr><td>&quot;Jannik Sinner&quot;</td><td>23</td><td>1</td><td>11830</td><td>0.92</td><td>0.857143</td><td>1.0</td><td>26</td><td>0.923077</td><td>6</td><td>0.833333</td><td>10</td><td>0.9</td><td>8</td><td>1.0</td><td>0</td><td>0</td><td>0</td><td>0</td><td>0.58</td><td>0.79</td><td>0.49</td><td>0.39</td><td>0.8</td><td>3</td><td>16</td><td>0.612744</td><td>0.794913</td><td>0.579725</td><td>0.410508</td><td>0.410405</td><td>1.893939</td><td>7.80303</td></tr><tr><td>&quot;Jannik Sinner&quot;</td><td>23</td><td>1</td><td>11830</td><td>0.92</td><td>0.857143</td><td>1.0</td><td>26</td><td>0.923077</td><td>6</td><td>0.833333</td><td>10</td><td>0.9</td><td>8</td><td>1.0</td><td>0</td><td>0</td><td>0</td><td>0</td><td>0.61</td><td>0.78</td><td>0.51</td><td>0.47</td><td>0.5</td><td>4</td><td>6</td><td>0.612744</td><td>0.794913</td><td>0.579725</td><td>0.410508</td><td>0.410405</td><td>1.893939</td><td>7.80303</td></tr><tr><td>&quot;Jannik Sinner&quot;</td><td>23</td><td>1</td><td>11830</td><td>0.92</td><td>0.857143</td><td>1.0</td><td>26</td><td>0.923077</td><td>6</td><td>0.833333</td><td>10</td><td>0.9</td><td>8</td><td>1.0</td><td>0</td><td>0</td><td>0</td><td>0</td><td>0.76</td><td>0.79</td><td>0.5</td><td>0.47</td><td>0.71</td><td>3</td><td>8</td><td>0.612744</td><td>0.794913</td><td>0.579725</td><td>0.410508</td><td>0.410405</td><td>1.893939</td><td>7.80303</td></tr><tr><td>&quot;Jannik Sinner&quot;</td><td>23</td><td>1</td><td>11830</td><td>0.92</td><td>0.857143</td><td>1.0</td><td>26</td><td>0.923077</td><td>6</td><td>0.833333</td><td>10</td><td>0.9</td><td>8</td><td>1.0</td><td>0</td><td>0</td><td>0</td><td>0</td><td>0.55</td><td>0.75</td><td>0.5</td><td>0.5</td><td>0.53</td><td>5</td><td>11</td><td>0.612744</td><td>0.794913</td><td>0.579725</td><td>0.410508</td><td>0.410405</td><td>1.893939</td><td>7.80303</td></tr><tr><td>&quot;Jannik Sinner&quot;</td><td>23</td><td>1</td><td>11830</td><td>0.92</td><td>0.857143</td><td>1.0</td><td>26</td><td>0.923077</td><td>6</td><td>0.833333</td><td>10</td><td>0.9</td><td>8</td><td>1.0</td><td>0</td><td>0</td><td>0</td><td>0</td><td>0.59</td><td>0.73</td><td>0.45</td><td>0.43</td><td>0.38</td><td>5</td><td>12</td><td>0.612744</td><td>0.794913</td><td>0.579725</td><td>0.410508</td><td>0.410405</td><td>1.893939</td><td>7.80303</td></tr></tbody></table></div>"
      ],
      "text/plain": [
       "shape: (69, 33)\n",
       "┌───────────┬───────────┬───────────┬───────────┬───┬───────────┬───────────┬───────────┬──────────┐\n",
       "│ player2_n ┆ player2_a ┆ player2_r ┆ player2_p ┆ … ┆ player2_a ┆ player2_a ┆ player2_a ┆ player2_ │\n",
       "│ ame       ┆ ge        ┆ anking    ┆ oints     ┆   ┆ vg_return ┆ vg_break_ ┆ vg_double ┆ avg_aces │\n",
       "│ ---       ┆ ---       ┆ ---       ┆ ---       ┆   ┆ _points_w ┆ point_won ┆ _fautes   ┆ ---      │\n",
       "│ str       ┆ i64       ┆ i64       ┆ i64       ┆   ┆ on_…      ┆ _pc…      ┆ ---       ┆ f64      │\n",
       "│           ┆           ┆           ┆           ┆   ┆ ---       ┆ ---       ┆ f64       ┆          │\n",
       "│           ┆           ┆           ┆           ┆   ┆ f64       ┆ f64       ┆           ┆          │\n",
       "╞═══════════╪═══════════╪═══════════╪═══════════╪═══╪═══════════╪═══════════╪═══════════╪══════════╡\n",
       "│ Jannik    ┆ 23        ┆ 1         ┆ 11830     ┆ … ┆ 0.410508  ┆ 0.410405  ┆ 1.893939  ┆ 7.80303  │\n",
       "│ Sinner    ┆           ┆           ┆           ┆   ┆           ┆           ┆           ┆          │\n",
       "│ Jannik    ┆ 23        ┆ 1         ┆ 11830     ┆ … ┆ 0.410508  ┆ 0.410405  ┆ 1.893939  ┆ 7.80303  │\n",
       "│ Sinner    ┆           ┆           ┆           ┆   ┆           ┆           ┆           ┆          │\n",
       "│ Jannik    ┆ 23        ┆ 1         ┆ 11830     ┆ … ┆ 0.410508  ┆ 0.410405  ┆ 1.893939  ┆ 7.80303  │\n",
       "│ Sinner    ┆           ┆           ┆           ┆   ┆           ┆           ┆           ┆          │\n",
       "│ Jannik    ┆ 23        ┆ 1         ┆ 11830     ┆ … ┆ 0.410508  ┆ 0.410405  ┆ 1.893939  ┆ 7.80303  │\n",
       "│ Sinner    ┆           ┆           ┆           ┆   ┆           ┆           ┆           ┆          │\n",
       "│ Jannik    ┆ 23        ┆ 1         ┆ 11830     ┆ … ┆ 0.410508  ┆ 0.410405  ┆ 1.893939  ┆ 7.80303  │\n",
       "│ Sinner    ┆           ┆           ┆           ┆   ┆           ┆           ┆           ┆          │\n",
       "│ …         ┆ …         ┆ …         ┆ …         ┆ … ┆ …         ┆ …         ┆ …         ┆ …        │\n",
       "│ Jannik    ┆ 23        ┆ 1         ┆ 11830     ┆ … ┆ 0.410508  ┆ 0.410405  ┆ 1.893939  ┆ 7.80303  │\n",
       "│ Sinner    ┆           ┆           ┆           ┆   ┆           ┆           ┆           ┆          │\n",
       "│ Jannik    ┆ 23        ┆ 1         ┆ 11830     ┆ … ┆ 0.410508  ┆ 0.410405  ┆ 1.893939  ┆ 7.80303  │\n",
       "│ Sinner    ┆           ┆           ┆           ┆   ┆           ┆           ┆           ┆          │\n",
       "│ Jannik    ┆ 23        ┆ 1         ┆ 11830     ┆ … ┆ 0.410508  ┆ 0.410405  ┆ 1.893939  ┆ 7.80303  │\n",
       "│ Sinner    ┆           ┆           ┆           ┆   ┆           ┆           ┆           ┆          │\n",
       "│ Jannik    ┆ 23        ┆ 1         ┆ 11830     ┆ … ┆ 0.410508  ┆ 0.410405  ┆ 1.893939  ┆ 7.80303  │\n",
       "│ Sinner    ┆           ┆           ┆           ┆   ┆           ┆           ┆           ┆          │\n",
       "│ Jannik    ┆ 23        ┆ 1         ┆ 11830     ┆ … ┆ 0.410508  ┆ 0.410405  ┆ 1.893939  ┆ 7.80303  │\n",
       "│ Sinner    ┆           ┆           ┆           ┆   ┆           ┆           ┆           ┆          │\n",
       "└───────────┴───────────┴───────────┴───────────┴───┴───────────┴───────────┴───────────┴──────────┘"
      ]
     },
     "execution_count": 99,
     "metadata": {},
     "output_type": "execute_result"
    }
   ],
   "source": [
    "df_player2"
   ]
  },
  {
   "cell_type": "code",
   "execution_count": 84,
   "metadata": {},
   "outputs": [],
   "source": [
    "df_renamed = df_player2.rename({col: col.replace(\"player2\", \"player1\") for col in df_player2.columns})"
   ]
  },
  {
   "cell_type": "code",
   "execution_count": 85,
   "metadata": {},
   "outputs": [],
   "source": [
    "df_combined = df_player1.vstack(df_renamed)"
   ]
  },
  {
   "cell_type": "code",
   "execution_count": 88,
   "metadata": {},
   "outputs": [
    {
     "data": {
      "text/html": [
       "<div><style>\n",
       ".dataframe > thead > tr,\n",
       ".dataframe > tbody > tr {\n",
       "  text-align: right;\n",
       "  white-space: pre-wrap;\n",
       "}\n",
       "</style>\n",
       "<small>shape: (67, 33)</small><table border=\"1\" class=\"dataframe\"><thead><tr><th>player1_name</th><th>player1_age</th><th>player1_ranking</th><th>player1_points</th><th>player1_win_rate</th><th>player1_win_rate_3_sets</th><th>player1_win_rate_tiebreak</th><th>player1_total_matches_dure</th><th>player1_win_rate_dure</th><th>player1_total_matches_terre battue</th><th>player1_win_rate_terre battue</th><th>player1_total_matches_gazon</th><th>player1_win_rate_gazon</th><th>player1_total_matches_salle</th><th>player1_win_rate_salle</th><th>player1_total_matches_carpet</th><th>player1_win_rate_carpet</th><th>player1_total_matches_acryl</th><th>player1_win_rate_acryl</th><th>player1_first_serve_pct</th><th>player1_first_serve_won_pct</th><th>player1_second_serve_won_pct</th><th>player1_return_points_won_pct</th><th>player1_break_point_won_pct</th><th>player1_double_fautes</th><th>player1_aces</th><th>player1_avg_first_serve_pct</th><th>player1_avg_first_serve_won_pct</th><th>player1_avg_second_serve_won_pct</th><th>player1_avg_return_points_won_pct</th><th>player1_avg_break_point_won_pct</th><th>player1_avg_double_fautes</th><th>player1_avg_aces</th></tr><tr><td>str</td><td>i64</td><td>i64</td><td>i64</td><td>f64</td><td>f64</td><td>f64</td><td>i64</td><td>f64</td><td>i64</td><td>f64</td><td>i64</td><td>f64</td><td>i64</td><td>f64</td><td>i64</td><td>i64</td><td>i64</td><td>i64</td><td>f64</td><td>f64</td><td>f64</td><td>f64</td><td>f64</td><td>i64</td><td>i64</td><td>f64</td><td>f64</td><td>f64</td><td>f64</td><td>f64</td><td>f64</td><td>f64</td></tr></thead><tbody><tr><td>&quot;Jannik Sinner&quot;</td><td>23</td><td>1</td><td>11830</td><td>0.92</td><td>0.857143</td><td>1.0</td><td>26</td><td>0.923077</td><td>6</td><td>0.833333</td><td>10</td><td>0.9</td><td>8</td><td>1.0</td><td>0</td><td>0</td><td>0</td><td>0</td><td>0.67</td><td>0.71</td><td>0.47</td><td>0.49</td><td>0.46</td><td>0</td><td>3</td><td>0.612744</td><td>0.794913</td><td>0.579725</td><td>0.410508</td><td>0.410405</td><td>1.893939</td><td>7.80303</td></tr><tr><td>&quot;Jannik Sinner&quot;</td><td>23</td><td>1</td><td>11830</td><td>0.92</td><td>0.857143</td><td>1.0</td><td>26</td><td>0.923077</td><td>6</td><td>0.833333</td><td>10</td><td>0.9</td><td>8</td><td>1.0</td><td>0</td><td>0</td><td>0</td><td>0</td><td>0.61</td><td>0.76</td><td>0.65</td><td>0.29</td><td>0.0</td><td>0</td><td>8</td><td>0.612744</td><td>0.794913</td><td>0.579725</td><td>0.410508</td><td>0.410405</td><td>1.893939</td><td>7.80303</td></tr><tr><td>&quot;Jannik Sinner&quot;</td><td>23</td><td>1</td><td>11830</td><td>0.92</td><td>0.857143</td><td>1.0</td><td>26</td><td>0.923077</td><td>6</td><td>0.833333</td><td>10</td><td>0.9</td><td>8</td><td>1.0</td><td>0</td><td>0</td><td>0</td><td>0</td><td>0.65</td><td>0.81</td><td>0.61</td><td>0.36</td><td>1.0</td><td>1</td><td>8</td><td>0.612744</td><td>0.794913</td><td>0.579725</td><td>0.410508</td><td>0.410405</td><td>1.893939</td><td>7.80303</td></tr><tr><td>&quot;Jannik Sinner&quot;</td><td>23</td><td>1</td><td>11830</td><td>0.92</td><td>0.857143</td><td>1.0</td><td>26</td><td>0.923077</td><td>6</td><td>0.833333</td><td>10</td><td>0.9</td><td>8</td><td>1.0</td><td>0</td><td>0</td><td>0</td><td>0</td><td>0.6</td><td>0.88</td><td>0.56</td><td>0.37</td><td>0.5</td><td>3</td><td>7</td><td>0.612744</td><td>0.794913</td><td>0.579725</td><td>0.410508</td><td>0.410405</td><td>1.893939</td><td>7.80303</td></tr><tr><td>&quot;Jannik Sinner&quot;</td><td>23</td><td>1</td><td>11830</td><td>0.92</td><td>0.857143</td><td>1.0</td><td>26</td><td>0.923077</td><td>6</td><td>0.833333</td><td>10</td><td>0.9</td><td>8</td><td>1.0</td><td>0</td><td>0</td><td>0</td><td>0</td><td>0.68</td><td>0.82</td><td>0.67</td><td>0.42</td><td>0.5</td><td>1</td><td>1</td><td>0.612744</td><td>0.794913</td><td>0.579725</td><td>0.410508</td><td>0.410405</td><td>1.893939</td><td>7.80303</td></tr><tr><td>&hellip;</td><td>&hellip;</td><td>&hellip;</td><td>&hellip;</td><td>&hellip;</td><td>&hellip;</td><td>&hellip;</td><td>&hellip;</td><td>&hellip;</td><td>&hellip;</td><td>&hellip;</td><td>&hellip;</td><td>&hellip;</td><td>&hellip;</td><td>&hellip;</td><td>&hellip;</td><td>&hellip;</td><td>&hellip;</td><td>&hellip;</td><td>&hellip;</td><td>&hellip;</td><td>&hellip;</td><td>&hellip;</td><td>&hellip;</td><td>&hellip;</td><td>&hellip;</td><td>&hellip;</td><td>&hellip;</td><td>&hellip;</td><td>&hellip;</td><td>&hellip;</td><td>&hellip;</td><td>&hellip;</td></tr><tr><td>&quot;Jannik Sinner&quot;</td><td>23</td><td>1</td><td>11830</td><td>0.92</td><td>0.857143</td><td>1.0</td><td>26</td><td>0.923077</td><td>6</td><td>0.833333</td><td>10</td><td>0.9</td><td>8</td><td>1.0</td><td>0</td><td>0</td><td>0</td><td>0</td><td>0.58</td><td>0.8</td><td>0.47</td><td>0.43</td><td>0.31</td><td>3</td><td>4</td><td>0.612744</td><td>0.794913</td><td>0.579725</td><td>0.410508</td><td>0.410405</td><td>1.893939</td><td>7.80303</td></tr><tr><td>&quot;Jannik Sinner&quot;</td><td>23</td><td>1</td><td>11830</td><td>0.92</td><td>0.857143</td><td>1.0</td><td>26</td><td>0.923077</td><td>6</td><td>0.833333</td><td>10</td><td>0.9</td><td>8</td><td>1.0</td><td>0</td><td>0</td><td>0</td><td>0</td><td>0.51</td><td>0.74</td><td>0.61</td><td>0.39</td><td>0.4</td><td>4</td><td>9</td><td>0.612744</td><td>0.794913</td><td>0.579725</td><td>0.410508</td><td>0.410405</td><td>1.893939</td><td>7.80303</td></tr><tr><td>&quot;Jannik Sinner&quot;</td><td>23</td><td>1</td><td>11830</td><td>0.92</td><td>0.857143</td><td>1.0</td><td>26</td><td>0.923077</td><td>6</td><td>0.833333</td><td>10</td><td>0.9</td><td>8</td><td>1.0</td><td>0</td><td>0</td><td>0</td><td>0</td><td>null</td><td>null</td><td>null</td><td>null</td><td>null</td><td>null</td><td>null</td><td>0.612744</td><td>0.794913</td><td>0.579725</td><td>0.410508</td><td>0.410405</td><td>1.893939</td><td>7.80303</td></tr><tr><td>&quot;Jannik Sinner&quot;</td><td>23</td><td>1</td><td>11830</td><td>0.92</td><td>0.857143</td><td>1.0</td><td>26</td><td>0.923077</td><td>6</td><td>0.833333</td><td>10</td><td>0.9</td><td>8</td><td>1.0</td><td>0</td><td>0</td><td>0</td><td>0</td><td>0.49</td><td>0.85</td><td>0.67</td><td>0.45</td><td>0.27</td><td>2</td><td>9</td><td>0.612744</td><td>0.794913</td><td>0.579725</td><td>0.410508</td><td>0.410405</td><td>1.893939</td><td>7.80303</td></tr><tr><td>&quot;Jannik Sinner&quot;</td><td>23</td><td>1</td><td>11830</td><td>0.92</td><td>0.857143</td><td>1.0</td><td>26</td><td>0.923077</td><td>6</td><td>0.833333</td><td>10</td><td>0.9</td><td>8</td><td>1.0</td><td>0</td><td>0</td><td>0</td><td>0</td><td>0.58</td><td>0.79</td><td>0.49</td><td>0.39</td><td>0.8</td><td>3</td><td>16</td><td>0.612744</td><td>0.794913</td><td>0.579725</td><td>0.410508</td><td>0.410405</td><td>1.893939</td><td>7.80303</td></tr></tbody></table></div>"
      ],
      "text/plain": [
       "shape: (67, 33)\n",
       "┌───────────┬───────────┬───────────┬───────────┬───┬───────────┬───────────┬───────────┬──────────┐\n",
       "│ player1_n ┆ player1_a ┆ player1_r ┆ player1_p ┆ … ┆ player1_a ┆ player1_a ┆ player1_a ┆ player1_ │\n",
       "│ ame       ┆ ge        ┆ anking    ┆ oints     ┆   ┆ vg_return ┆ vg_break_ ┆ vg_double ┆ avg_aces │\n",
       "│ ---       ┆ ---       ┆ ---       ┆ ---       ┆   ┆ _points_w ┆ point_won ┆ _fautes   ┆ ---      │\n",
       "│ str       ┆ i64       ┆ i64       ┆ i64       ┆   ┆ on_…      ┆ _pc…      ┆ ---       ┆ f64      │\n",
       "│           ┆           ┆           ┆           ┆   ┆ ---       ┆ ---       ┆ f64       ┆          │\n",
       "│           ┆           ┆           ┆           ┆   ┆ f64       ┆ f64       ┆           ┆          │\n",
       "╞═══════════╪═══════════╪═══════════╪═══════════╪═══╪═══════════╪═══════════╪═══════════╪══════════╡\n",
       "│ Jannik    ┆ 23        ┆ 1         ┆ 11830     ┆ … ┆ 0.410508  ┆ 0.410405  ┆ 1.893939  ┆ 7.80303  │\n",
       "│ Sinner    ┆           ┆           ┆           ┆   ┆           ┆           ┆           ┆          │\n",
       "│ Jannik    ┆ 23        ┆ 1         ┆ 11830     ┆ … ┆ 0.410508  ┆ 0.410405  ┆ 1.893939  ┆ 7.80303  │\n",
       "│ Sinner    ┆           ┆           ┆           ┆   ┆           ┆           ┆           ┆          │\n",
       "│ Jannik    ┆ 23        ┆ 1         ┆ 11830     ┆ … ┆ 0.410508  ┆ 0.410405  ┆ 1.893939  ┆ 7.80303  │\n",
       "│ Sinner    ┆           ┆           ┆           ┆   ┆           ┆           ┆           ┆          │\n",
       "│ Jannik    ┆ 23        ┆ 1         ┆ 11830     ┆ … ┆ 0.410508  ┆ 0.410405  ┆ 1.893939  ┆ 7.80303  │\n",
       "│ Sinner    ┆           ┆           ┆           ┆   ┆           ┆           ┆           ┆          │\n",
       "│ Jannik    ┆ 23        ┆ 1         ┆ 11830     ┆ … ┆ 0.410508  ┆ 0.410405  ┆ 1.893939  ┆ 7.80303  │\n",
       "│ Sinner    ┆           ┆           ┆           ┆   ┆           ┆           ┆           ┆          │\n",
       "│ …         ┆ …         ┆ …         ┆ …         ┆ … ┆ …         ┆ …         ┆ …         ┆ …        │\n",
       "│ Jannik    ┆ 23        ┆ 1         ┆ 11830     ┆ … ┆ 0.410508  ┆ 0.410405  ┆ 1.893939  ┆ 7.80303  │\n",
       "│ Sinner    ┆           ┆           ┆           ┆   ┆           ┆           ┆           ┆          │\n",
       "│ Jannik    ┆ 23        ┆ 1         ┆ 11830     ┆ … ┆ 0.410508  ┆ 0.410405  ┆ 1.893939  ┆ 7.80303  │\n",
       "│ Sinner    ┆           ┆           ┆           ┆   ┆           ┆           ┆           ┆          │\n",
       "│ Jannik    ┆ 23        ┆ 1         ┆ 11830     ┆ … ┆ 0.410508  ┆ 0.410405  ┆ 1.893939  ┆ 7.80303  │\n",
       "│ Sinner    ┆           ┆           ┆           ┆   ┆           ┆           ┆           ┆          │\n",
       "│ Jannik    ┆ 23        ┆ 1         ┆ 11830     ┆ … ┆ 0.410508  ┆ 0.410405  ┆ 1.893939  ┆ 7.80303  │\n",
       "│ Sinner    ┆           ┆           ┆           ┆   ┆           ┆           ┆           ┆          │\n",
       "│ Jannik    ┆ 23        ┆ 1         ┆ 11830     ┆ … ┆ 0.410508  ┆ 0.410405  ┆ 1.893939  ┆ 7.80303  │\n",
       "│ Sinner    ┆           ┆           ┆           ┆   ┆           ┆           ┆           ┆          │\n",
       "└───────────┴───────────┴───────────┴───────────┴───┴───────────┴───────────┴───────────┴──────────┘"
      ]
     },
     "execution_count": 88,
     "metadata": {},
     "output_type": "execute_result"
    }
   ],
   "source": [
    "df_combined.unique()"
   ]
  },
  {
   "cell_type": "markdown",
   "metadata": {},
   "source": []
  },
  {
   "cell_type": "code",
   "execution_count": 97,
   "metadata": {},
   "outputs": [
    {
     "data": {
      "text/plain": [
       "['Jaume Antoni Munar Clar',\n",
       " 'Alex De Minaur',\n",
       " 'Alejandro Moro Canas',\n",
       " 'Arthur Rinderknech',\n",
       " 'James Kent Trotter',\n",
       " 'Leandro Riedi',\n",
       " 'Juan Manuel Cerundolo',\n",
       " 'Nicolas Moreno De Alboran',\n",
       " 'Damir Dzumhur',\n",
       " 'Sho Shimabukuro',\n",
       " 'Marton Fucsovics',\n",
       " 'Thiago Moura Monteiro',\n",
       " 'Roberto Bautista Agut',\n",
       " 'Tallon Griekspoor',\n",
       " 'Omar Jasika',\n",
       " 'Tomas Barrios Vera',\n",
       " 'Stefanos Tsitsipas',\n",
       " 'Mattia Bellucci',\n",
       " 'Yuta Shimizu',\n",
       " 'Pablo Carreno-Busta',\n",
       " 'Chun Hsin Tseng',\n",
       " 'Jesper De Jong',\n",
       " 'Murkel Alejandro Dellien Velasco',\n",
       " 'Cristian Garin',\n",
       " 'Novak Djokovic',\n",
       " 'Sebastian Baez',\n",
       " 'Cameron Norrie',\n",
       " 'Daniel Evans',\n",
       " 'Ugo Humbert',\n",
       " 'Albert Ramos-Vinolas',\n",
       " 'Brandon Nakashima',\n",
       " 'Gustavo Heide',\n",
       " 'Lucas Pouille',\n",
       " 'Daniil Medvedev',\n",
       " 'Paul Jubb',\n",
       " 'Clement Chidekh',\n",
       " 'Zachary Svajda',\n",
       " 'Frances Tiafoe',\n",
       " 'Bu Yunchaokete',\n",
       " 'Botic Van De Zandschulp',\n",
       " 'Mikhail Kukushkin',\n",
       " 'Titouan Droguet',\n",
       " 'Juncheng Shang',\n",
       " 'Alex Bolt',\n",
       " 'Tommy Paul',\n",
       " 'Mitchell Krueger',\n",
       " 'Laslo Djere',\n",
       " 'Valentin Royer',\n",
       " 'Luca Nardi',\n",
       " 'Yoshihito Nishioka',\n",
       " 'Raphael Collignon',\n",
       " 'Jakub Mensik',\n",
       " 'Dominik Koepfer',\n",
       " 'Matteo Arnaldi',\n",
       " 'Chak Lam Coleman Wong',\n",
       " 'Timofey Skatov',\n",
       " 'Aleksandar Vukic',\n",
       " 'Karen Khachanov',\n",
       " 'Vit Kopriva',\n",
       " 'Facundo Diaz Acosta',\n",
       " 'Lorenzo Sonego',\n",
       " 'Kamil Majchrzak',\n",
       " 'Nishesh Basavareddy',\n",
       " 'Rinky Hijikata',\n",
       " 'Jack Draper',\n",
       " 'Yannick Hanfmann',\n",
       " 'Henri Squire',\n",
       " 'Duje Ajdukovic',\n",
       " 'Hamad Medjedovic',\n",
       " 'Matteo Gigante',\n",
       " 'Roman Andres Burruchaga',\n",
       " 'Roman Safiullin',\n",
       " 'Miomir Kecmanovic',\n",
       " 'Casper Ruud',\n",
       " 'Maximilian Marterer',\n",
       " 'Flavio Cobolli',\n",
       " 'Roberto Carballes Baena',\n",
       " 'Gregoire Barrere',\n",
       " 'Hugo Grenier',\n",
       " 'Jerome Kym',\n",
       " 'Aleksandar Kovacevic',\n",
       " 'Alibek Kachmazov',\n",
       " 'Pavel Kotov',\n",
       " 'Jordan Thompson',\n",
       " 'Holger Rune',\n",
       " 'Adrian Mannarino',\n",
       " 'Elmer Moller',\n",
       " 'Stan Wawrinka',\n",
       " 'Grigor Dimitrov',\n",
       " 'Fabian Marozsan',\n",
       " 'Jannik Sinner',\n",
       " 'Matteo Berrettini',\n",
       " 'Sebastian Ofner',\n",
       " 'Joao Fonseca',\n",
       " 'Ben Shelton',\n",
       " \"Christopher O'Connell\",\n",
       " 'Daniel Elahi Galan',\n",
       " 'Taylor Harry Fritz',\n",
       " 'Alex Michelsen',\n",
       " 'Thiago Seyboth Wild',\n",
       " 'Alexander Bublik',\n",
       " 'Juan Pablo Ficovich',\n",
       " 'Nuno Borges',\n",
       " 'Seongchan Hong',\n",
       " 'Facundo Bagnis',\n",
       " 'Federico Coria',\n",
       " 'Andrey Rublev',\n",
       " 'Felix Auger Aliassime',\n",
       " 'Henrique Rocha',\n",
       " 'Nicolas Jarry',\n",
       " 'Mackenzie Mcdonald',\n",
       " 'Francisco Comesana',\n",
       " 'Francisco Cerundolo',\n",
       " 'Taro Daniel',\n",
       " 'Tristan Schoolkate',\n",
       " 'Luca Van Assche',\n",
       " 'Hubert Hurkacz',\n",
       " 'Tristan Boyer',\n",
       " 'Radu Albot',\n",
       " 'Pierre-Hugues Herbert',\n",
       " 'Christopher Eubanks',\n",
       " 'Terence Atmane',\n",
       " 'Dmitry Popko',\n",
       " 'Marco Trungelliti',\n",
       " 'Emil Ruusuvuori',\n",
       " 'Alejandro Tabilo',\n",
       " 'Maks Kasnikowski',\n",
       " 'Jurij Rodionov',\n",
       " 'Martin Landaluce',\n",
       " 'Rafael Nadal',\n",
       " 'Marcos Giron',\n",
       " 'Stefano Napolitano',\n",
       " 'James Duckworth',\n",
       " 'Corentin Moutet',\n",
       " 'Max Purcell',\n",
       " 'Benjamin Bonzi',\n",
       " 'Gabriel Diallo',\n",
       " 'Hugo Gaston',\n",
       " 'Pedro Martinez Portero',\n",
       " 'Kei Nishikori',\n",
       " 'Harold Mayot',\n",
       " 'Hugo Dellien',\n",
       " 'Tomas Machac',\n",
       " 'Li Tu',\n",
       " 'Nick Hardt',\n",
       " 'Lukas Klein',\n",
       " 'Fabio Fognini',\n",
       " 'Daniel Altmaier',\n",
       " 'Sebastian Korda',\n",
       " 'Marin Cilic',\n",
       " 'Gijs Brouwer',\n",
       " 'Otto Virtanen',\n",
       " 'Tomas Martin Etcheverry',\n",
       " 'Jacob Fearnley',\n",
       " 'Thanasi Kokkinakis',\n",
       " 'Alexander Ritschard',\n",
       " 'Jozef Kovalik',\n",
       " 'Vilius Gaubas',\n",
       " 'Zizou Bergs',\n",
       " 'Zhizhen Zhang',\n",
       " 'Felipe Meligeni Alves',\n",
       " 'Sumit Nagal',\n",
       " 'Billy Harris',\n",
       " 'Lloyd Harris',\n",
       " 'Federico Agustin Gomez',\n",
       " 'Brandon Holt',\n",
       " 'Adam Walton',\n",
       " 'Richard Gasquet',\n",
       " 'Alejandro Davidovich Fokina',\n",
       " 'Jaime Faria',\n",
       " 'Arthur Cazaux',\n",
       " 'Jan Choinski',\n",
       " 'Jan-Lennard Struff',\n",
       " 'Alexei Popyrin',\n",
       " 'Alexander Shevchenko',\n",
       " 'Francesco Passaro',\n",
       " 'Gael Monfils',\n",
       " 'Quentin Halys',\n",
       " 'Carlos Taberner',\n",
       " 'Luciano Darderi',\n",
       " 'Lorenzo Musetti',\n",
       " 'Carlos Alcaraz',\n",
       " 'Jiri Lehecka',\n",
       " 'Alexandre Muller',\n",
       " 'Valentin Vacherot',\n",
       " 'Marc-Andrea Huesler',\n",
       " 'Giovanni Mpetshi Perricard',\n",
       " 'Learner Tien',\n",
       " 'Arthur Fils',\n",
       " 'Borna Coric',\n",
       " 'Alexander Zverev',\n",
       " 'Yasutaka Uchiyama',\n",
       " 'August Holmgren',\n",
       " 'Thiago Agustin Tirante',\n",
       " 'David Goffin',\n",
       " 'Denis Shapovalov',\n",
       " 'Camilo Ugo Carabelli',\n",
       " 'Mariano Navone',\n",
       " 'Dusan Lajovic',\n",
       " 'Constant Lestienne']"
      ]
     },
     "execution_count": 97,
     "metadata": {},
     "output_type": "execute_result"
    }
   ],
   "source": [
    "nom_joueurs = df.select(\"player1_name\").unique().to_series().to_list()\n",
    "nom_joueurs"
   ]
  }
 ],
 "metadata": {
  "kernelspec": {
   "display_name": ".venv",
   "language": "python",
   "name": "python3"
  },
  "language_info": {
   "codemirror_mode": {
    "name": "ipython",
    "version": 3
   },
   "file_extension": ".py",
   "mimetype": "text/x-python",
   "name": "python",
   "nbconvert_exporter": "python",
   "pygments_lexer": "ipython3",
   "version": "3.13.1"
  }
 },
 "nbformat": 4,
 "nbformat_minor": 2
}
