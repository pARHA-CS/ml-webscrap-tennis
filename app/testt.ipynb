{
 "cells": [
  {
   "cell_type": "code",
   "execution_count": 1,
   "metadata": {},
   "outputs": [],
   "source": [
    "import polars as pl\n",
    "import joblib\n",
    "from sklearn.preprocessing import StandardScaler\n",
    "import numpy as np\n",
    "import os"
   ]
  },
  {
   "cell_type": "code",
   "execution_count": 5,
   "metadata": {},
   "outputs": [],
   "source": [
    "# Charger le modèle et les données\n",
    "model = joblib.load(\"../data/best_model.joblib\")\n",
    "player_data = pl.read_csv(\"../data/tennis_dataset_app.csv\")\n"
   ]
  },
  {
   "cell_type": "code",
   "execution_count": 7,
   "metadata": {},
   "outputs": [
    {
     "name": "stdout",
     "output_type": "stream",
     "text": [
      "\n",
      "Colonnes : ['player1_name', 'player1_age', 'player1_ranking', 'player1_points', 'player1_win_rate', 'player1_win_rate_3_sets', 'player1_win_rate_tiebreak', 'player1_total_matches_dure', 'player1_win_rate_dure', 'player1_total_matches_terre battue', 'player1_win_rate_terre battue', 'player1_total_matches_gazon', 'player1_win_rate_gazon', 'player1_total_matches_salle', 'player1_win_rate_salle', 'player1_total_matches_carpet', 'player1_win_rate_carpet', 'player1_total_matches_acryl', 'player1_win_rate_acryl', 'player1_avg_first_serve_pct', 'player1_avg_first_serve_won_pct', 'player1_avg_second_serve_won_pct', 'player1_avg_return_points_won_pct', 'player1_avg_break_point_won_pct', 'player1_avg_double_fautes', 'player1_avg_aces']\n"
     ]
    }
   ],
   "source": [
    "print(\"\\nColonnes :\", player_data.columns)"
   ]
  },
  {
   "cell_type": "code",
   "execution_count": 9,
   "metadata": {},
   "outputs": [
    {
     "name": "stdout",
     "output_type": "stream",
     "text": [
      "['Adam Walton', 'Adrian Mannarino', 'Albert Ramos-Vinolas', 'Alejandro Davidovich Fokina', 'Alejandro Moro Canas', 'Alejandro Tabilo', 'Aleksandar Kovacevic', 'Aleksandar Vukic', 'Alex Bolt', 'Alex De Minaur', 'Alex Michelsen', 'Alexander Bublik', 'Alexander Ritschard', 'Alexander Shevchenko', 'Alexander Zverev', 'Alexandre Muller', 'Alexei Popyrin', 'Alibek Kachmazov', 'Andrey Rublev', 'Arthur Cazaux', 'Arthur Fils', 'Arthur Rinderknech', 'August Holmgren', 'Ben Shelton', 'Benjamin Bonzi', 'Billy Harris', 'Borna Coric', 'Botic Van De Zandschulp', 'Brandon Holt', 'Brandon Nakashima', 'Bu Yunchaokete', 'Cameron Norrie', 'Camilo Ugo Carabelli', 'Carlos Alcaraz', 'Carlos Taberner', 'Casper Ruud', 'Chak Lam Coleman Wong', 'Christopher Eubanks', \"Christopher O'Connell\", 'Chun Hsin Tseng', 'Clement Chidekh', 'Constant Lestienne', 'Corentin Moutet', 'Cristian Garin', 'Damir Dzumhur', 'Daniel Altmaier', 'Daniel Elahi Galan', 'Daniel Evans', 'Daniil Medvedev', 'David Goffin', 'Denis Shapovalov', 'Dmitry Popko', 'Dominik Koepfer', 'Duje Ajdukovic', 'Dusan Lajovic', 'Elmer Moller', 'Emil Ruusuvuori', 'Fabian Marozsan', 'Fabio Fognini', 'Facundo Bagnis', 'Facundo Diaz Acosta', 'Federico Agustin Gomez', 'Federico Coria', 'Felipe Meligeni Alves', 'Felix Auger Aliassime', 'Flavio Cobolli', 'Frances Tiafoe', 'Francesco Passaro', 'Francisco Cerundolo', 'Francisco Comesana', 'Gabriel Diallo', 'Gael Monfils', 'Gijs Brouwer', 'Giovanni Mpetshi Perricard', 'Gregoire Barrere', 'Grigor Dimitrov', 'Gustavo Heide', 'Hamad Medjedovic', 'Harold Mayot', 'Henri Squire', 'Henrique Rocha', 'Holger Rune', 'Hubert Hurkacz', 'Hugo Dellien', 'Hugo Gaston', 'Hugo Grenier', 'Jack Draper', 'Jacob Fearnley', 'Jaime Faria', 'Jakub Mensik', 'James Duckworth', 'James Kent Trotter', 'Jan Choinski', 'Jan-Lennard Struff', 'Jannik Sinner', 'Jaume Antoni Munar Clar', 'Jerome Kym', 'Jesper De Jong', 'Jiri Lehecka', 'Joao Fonseca', 'Jordan Thompson', 'Jozef Kovalik', 'Juan Manuel Cerundolo', 'Juan Pablo Ficovich', 'Juncheng Shang', 'Jurij Rodionov', 'Kamil Majchrzak', 'Karen Khachanov', 'Kei Nishikori', 'Laslo Djere', 'Leandro Riedi', 'Learner Tien', 'Li Tu', 'Lloyd Harris', 'Lorenzo Musetti', 'Lorenzo Sonego', 'Luca Nardi', 'Luca Van Assche', 'Lucas Pouille', 'Luciano Darderi', 'Lukas Klein', 'Mackenzie Mcdonald', 'Maks Kasnikowski', 'Marc-Andrea Huesler', 'Marco Trungelliti', 'Marcos Giron', 'Mariano Navone', 'Marin Cilic', 'Martin Landaluce', 'Marton Fucsovics', 'Matteo Arnaldi', 'Matteo Berrettini', 'Matteo Gigante', 'Mattia Bellucci', 'Max Purcell', 'Maximilian Marterer', 'Mikhail Kukushkin', 'Miomir Kecmanovic', 'Mitchell Krueger', 'Murkel Dellien', 'Nick Hardt', 'Nicolas Jarry', 'Nicolas Moreno De Alboran', 'Nishesh Basavareddy', 'Novak Djokovic', 'Nuno Borges', 'Omar Jasika', 'Otto Virtanen', 'Pablo Carreno-Busta', 'Paul Jubb', 'Pavel Kotov', 'Pedro Martinez Portero', 'Pierre-Hugues Herbert', 'Quentin Halys', 'Radu Albot', 'Rafael Nadal', 'Raphael Collignon', 'Richard Gasquet', 'Rinky Hijikata', 'Roberto Bautista Agut', 'Roberto Carballes Baena', 'Roman Andres Burruchaga', 'Roman Safiullin', 'Sebastian Baez', 'Sebastian Korda', 'Sebastian Ofner', 'Seongchan Hong', 'Sho Shimabukuro', 'Stan Wawrinka', 'Stefano Napolitano', 'Stefanos Tsitsipas', 'Sumit Nagal', 'Tallon Griekspoor', 'Taro Daniel', 'Taylor Harry Fritz', 'Terence Atmane', 'Thanasi Kokkinakis', 'Thiago Agustin Tirante', 'Thiago Moura Monteiro', 'Thiago Seyboth Wild', 'Timofey Skatov', 'Titouan Droguet', 'Tomas Barrios Vera', 'Tomas Machac', 'Tomas Martin Etcheverry', 'Tommy Paul', 'Tristan Boyer', 'Tristan Schoolkate', 'Ugo Humbert', 'Valentin Royer', 'Valentin Vacherot', 'Vilius Gaubas', 'Vit Kopriva', 'Yannick Hanfmann', 'Yasutaka Uchiyama', 'Yoshihito Nishioka', 'Yuta Shimizu', 'Zachary Svajda', 'Zhizhen Zhang', 'Zizou Bergs']\n"
     ]
    }
   ],
   "source": [
    "players_list = sorted(player_data[\"player1_name\"].unique().to_list())\n",
    "\n",
    "print(players_list)"
   ]
  },
  {
   "cell_type": "code",
   "execution_count": 10,
   "metadata": {},
   "outputs": [
    {
     "name": "stdout",
     "output_type": "stream",
     "text": [
      "\n",
      "Joueurs sélectionnés : Adam Walton vs Adrian Mannarino\n"
     ]
    }
   ],
   "source": [
    "player1 = players_list[0]  # Premier joueur de la liste\n",
    "player2 = players_list[1]  # Deuxième joueur de la liste\n",
    "print(f\"\\nJoueurs sélectionnés : {player1} vs {player2}\")"
   ]
  },
  {
   "cell_type": "code",
   "execution_count": 11,
   "metadata": {},
   "outputs": [
    {
     "name": "stdout",
     "output_type": "stream",
     "text": [
      "[[2.50000000e+01 9.30000000e+01 6.36000000e+02 5.10204082e-01\n",
      "  4.11764706e-01 6.84210526e-01 3.20000000e+01 5.31250000e-01\n",
      "  1.00000000e+00 0.00000000e+00 9.00000000e+00 4.44444444e-01\n",
      "  7.00000000e+00 5.71428571e-01 0.00000000e+00 0.00000000e+00\n",
      "  0.00000000e+00 0.00000000e+00 6.33420064e-01 7.47603834e-01\n",
      "  5.32334385e-01 3.55411499e-01 3.75939850e-01 2.22448980e+00\n",
      "  6.42857143e+00]]\n",
      "[[3.60000000e+01 6.60000000e+01 7.79000000e+02 3.54166667e-01\n",
      "  4.61538462e-01 4.66666667e-01 2.40000000e+01 3.33333333e-01\n",
      "  5.00000000e+00 0.00000000e+00 6.00000000e+00 1.66666667e-01\n",
      "  1.30000000e+01 6.15384615e-01 0.00000000e+00 0.00000000e+00\n",
      "  0.00000000e+00 0.00000000e+00 5.94896332e-01 6.72475424e-01\n",
      "  5.11154856e-01 3.41594828e-01 3.86029412e-01 2.31914894e+00\n",
      "  4.44680851e+00]]\n"
     ]
    }
   ],
   "source": [
    "# Récupérer les données des joueurs\n",
    "player1_stats = player_data.filter(pl.col(player_data.columns[0]) == player1).select(\n",
    "    pl.col(player_data.columns[1:26])\n",
    ").to_numpy()\n",
    "\n",
    "player2_stats = player_data.filter(pl.col(player_data.columns[0]) == player2).select(\n",
    "    pl.col(player_data.columns[1:26])\n",
    ").to_numpy()\n",
    "\n",
    "\n",
    "print(player1_stats)\n",
    "\n",
    "print(player2_stats)"
   ]
  },
  {
   "cell_type": "code",
   "execution_count": 51,
   "metadata": {},
   "outputs": [
    {
     "name": "stdout",
     "output_type": "stream",
     "text": [
      "[[2.50000000e+01 9.30000000e+01 6.36000000e+02 5.10204082e-01\n",
      "  4.11764706e-01 6.84210526e-01 3.20000000e+01 5.31250000e-01\n",
      "  1.00000000e+00 0.00000000e+00 9.00000000e+00 4.44444444e-01\n",
      "  7.00000000e+00 5.71428571e-01 0.00000000e+00 0.00000000e+00\n",
      "  0.00000000e+00 0.00000000e+00 6.33420064e-01 7.47603834e-01\n",
      "  5.32334385e-01 3.55411499e-01 3.75939850e-01 2.22448980e+00\n",
      "  6.42857143e+00 3.60000000e+01 6.60000000e+01 7.79000000e+02\n",
      "  3.54166667e-01 4.61538462e-01 4.66666667e-01 2.40000000e+01\n",
      "  3.33333333e-01 5.00000000e+00 0.00000000e+00 6.00000000e+00\n",
      "  1.66666667e-01 1.30000000e+01 6.15384615e-01 0.00000000e+00\n",
      "  0.00000000e+00 0.00000000e+00 0.00000000e+00 5.94896332e-01\n",
      "  6.72475424e-01 5.11154856e-01 3.41594828e-01 3.86029412e-01\n",
      "  2.31914894e+00 4.44680851e+00]]\n"
     ]
    }
   ],
   "source": [
    "match_data = np.concatenate([player1_stats[0], player2_stats[0]]).reshape(1, -1)\n",
    "\n",
    "print(match_data)"
   ]
  },
  {
   "cell_type": "code",
   "execution_count": 21,
   "metadata": {},
   "outputs": [],
   "source": [
    "#Diff ranking\n",
    "\n",
    "ranking_player1 = match_data[0][1]  # Correspond à 9.30000000e+01\n",
    "ranking_player2 = match_data[0][26]  # Correspond à 6.60000000e+01\n",
    "\n",
    "# Calculer la différence absolue de ranking\n",
    "rank_difference = abs(ranking_player1 - ranking_player2)\n"
   ]
  },
  {
   "cell_type": "code",
   "execution_count": 22,
   "metadata": {},
   "outputs": [
    {
     "name": "stdout",
     "output_type": "stream",
     "text": [
      "93.0 66.0\n",
      "27.0\n"
     ]
    }
   ],
   "source": [
    "print(ranking_player1, ranking_player2)\n",
    "\n",
    "print(rank_difference)"
   ]
  },
  {
   "cell_type": "code",
   "execution_count": 23,
   "metadata": {},
   "outputs": [],
   "source": [
    "#points_diff\n",
    "points_player1 = match_data[0][2]  \n",
    "points_player2 = match_data[0][27]  \n",
    "\n",
    "# Calculer la différence absolue de ranking\n",
    "points_difference = abs(points_player1 - points_player2)"
   ]
  },
  {
   "cell_type": "code",
   "execution_count": 24,
   "metadata": {},
   "outputs": [
    {
     "name": "stdout",
     "output_type": "stream",
     "text": [
      "636.0 779.0 143.0\n"
     ]
    }
   ],
   "source": [
    "print(points_player1, points_player2, points_difference)"
   ]
  },
  {
   "cell_type": "code",
   "execution_count": 28,
   "metadata": {},
   "outputs": [],
   "source": [
    "#win_rate_diff\n",
    "\n",
    "win_rate_player1 = match_data[0][3]\n",
    "win_rate_player2 = match_data[0][28]\n",
    "\n",
    "win_rate_difference = abs(win_rate_player1 - win_rate_player2)"
   ]
  },
  {
   "cell_type": "code",
   "execution_count": 29,
   "metadata": {},
   "outputs": [
    {
     "name": "stdout",
     "output_type": "stream",
     "text": [
      "0.5102040816326531 0.3541666666666667 0.1560374149659864\n"
     ]
    }
   ],
   "source": [
    "print(win_rate_player1, win_rate_player2, win_rate_difference)"
   ]
  },
  {
   "cell_type": "code",
   "execution_count": 30,
   "metadata": {},
   "outputs": [],
   "source": [
    "#win_rate_diff3\n",
    "\n",
    "win_rate3_player1 = match_data[0][4]\n",
    "win_rate3_player2 = match_data[0][29]\n",
    "\n",
    "win_rate_difference3 = abs(win_rate3_player1 - win_rate3_player2)"
   ]
  },
  {
   "cell_type": "code",
   "execution_count": 31,
   "metadata": {},
   "outputs": [
    {
     "name": "stdout",
     "output_type": "stream",
     "text": [
      "0.4117647058823529 0.46153846153846156 0.04977375565610864\n"
     ]
    }
   ],
   "source": [
    "print(win_rate3_player1, win_rate3_player2, win_rate_difference3)"
   ]
  },
  {
   "cell_type": "code",
   "execution_count": 32,
   "metadata": {},
   "outputs": [],
   "source": [
    "#win_rate_tiebreak_diff\n",
    "\n",
    "win_rate_tiebreak_player1 = match_data[0][5]\n",
    "win_rate_tiebreak_player2 = match_data[0][30]\n",
    "\n",
    "win_rate_tiebreak_difference = abs(win_rate_tiebreak_player1 - win_rate_tiebreak_player2)"
   ]
  },
  {
   "cell_type": "code",
   "execution_count": 33,
   "metadata": {},
   "outputs": [
    {
     "name": "stdout",
     "output_type": "stream",
     "text": [
      "0.6842105263157895 0.4666666666666667 0.21754385964912282\n"
     ]
    }
   ],
   "source": [
    "print(win_rate_tiebreak_player1, win_rate_tiebreak_player2, win_rate_tiebreak_difference)"
   ]
  },
  {
   "cell_type": "code",
   "execution_count": 35,
   "metadata": {},
   "outputs": [],
   "source": [
    "#aces_diff\n",
    "\n",
    "aces_player1 = match_data[0][24]\n",
    "aces_player2 = match_data[0][49]\n",
    "\n",
    "aces_difference = abs(aces_player1 - aces_player2)"
   ]
  },
  {
   "cell_type": "code",
   "execution_count": 36,
   "metadata": {},
   "outputs": [
    {
     "name": "stdout",
     "output_type": "stream",
     "text": [
      "6.428571428571429 4.446808510638298 1.981762917933131\n"
     ]
    }
   ],
   "source": [
    "print(aces_player1, aces_player2, aces_difference)"
   ]
  },
  {
   "cell_type": "code",
   "execution_count": 37,
   "metadata": {},
   "outputs": [],
   "source": [
    "#double_faults_diff\n",
    "\n",
    "double_faults_player1 = match_data[0][23]\n",
    "double_faults_player2 = match_data[0][48]\n",
    "\n",
    "double_faults_difference = abs(double_faults_player1 - double_faults_player2)"
   ]
  },
  {
   "cell_type": "code",
   "execution_count": 38,
   "metadata": {},
   "outputs": [
    {
     "name": "stdout",
     "output_type": "stream",
     "text": [
      "2.2244897959183674 2.3191489361702127 0.0946591402518453\n"
     ]
    }
   ],
   "source": [
    "print(double_faults_player1, double_faults_player2, double_faults_difference)"
   ]
  },
  {
   "cell_type": "code",
   "execution_count": 42,
   "metadata": {},
   "outputs": [],
   "source": [
    "#win_rate_dure_diff\n",
    "\n",
    "win_rate_dure_player1 = match_data[0][7]\n",
    "win_rate_dure_player2 = match_data[0][32]\n",
    "\n",
    "win_rate_dure_difference = abs(win_rate_dure_player1 - win_rate_dure_player2)"
   ]
  },
  {
   "cell_type": "code",
   "execution_count": 43,
   "metadata": {},
   "outputs": [
    {
     "name": "stdout",
     "output_type": "stream",
     "text": [
      "0.53125 0.3333333333333333 0.19791666666666669\n"
     ]
    }
   ],
   "source": [
    "print(win_rate_dure_player1, win_rate_dure_player2, win_rate_dure_difference)"
   ]
  },
  {
   "cell_type": "code",
   "execution_count": 44,
   "metadata": {},
   "outputs": [],
   "source": [
    "#win_rate_terre_diff\n",
    "\n",
    "win_rate_terre_player1 = match_data[0][9]\n",
    "win_rate_terre_player2 = match_data[0][34]\n",
    "\n",
    "win_rate_terre_difference = abs(win_rate_terre_player1 - win_rate_terre_player2)"
   ]
  },
  {
   "cell_type": "code",
   "execution_count": 45,
   "metadata": {},
   "outputs": [
    {
     "name": "stdout",
     "output_type": "stream",
     "text": [
      "0.0 0.0 0.0\n"
     ]
    }
   ],
   "source": [
    "print(win_rate_terre_player1, win_rate_terre_player2, win_rate_terre_difference)"
   ]
  },
  {
   "cell_type": "code",
   "execution_count": 46,
   "metadata": {},
   "outputs": [],
   "source": [
    "#win_rate_gazon_diff\n",
    "\n",
    "win_rate_gazon_player1 = match_data[0][11]\n",
    "win_rate_gazon_player2 = match_data[0][36]\n",
    "\n",
    "win_rate_gazon_difference = abs(win_rate_gazon_player1 - win_rate_gazon_player2)"
   ]
  },
  {
   "cell_type": "code",
   "execution_count": 47,
   "metadata": {},
   "outputs": [
    {
     "name": "stdout",
     "output_type": "stream",
     "text": [
      "0.4444444444444444 0.16666666666666666 0.2777777777777778\n"
     ]
    }
   ],
   "source": [
    "print( win_rate_gazon_player1, win_rate_gazon_player2, win_rate_gazon_difference)"
   ]
  },
  {
   "cell_type": "code",
   "execution_count": 48,
   "metadata": {},
   "outputs": [],
   "source": [
    "#win_rate_salle_diff\n",
    "\n",
    "win_rate_salle_player1 = match_data[0][13]\n",
    "win_rate_salle_player2 = match_data[0][38]\n",
    "\n",
    "win_rate_salle_difference = abs(win_rate_salle_player1 - win_rate_salle_player2)"
   ]
  },
  {
   "cell_type": "code",
   "execution_count": 49,
   "metadata": {},
   "outputs": [
    {
     "name": "stdout",
     "output_type": "stream",
     "text": [
      "0.5714285714285714 0.6153846153846154 0.04395604395604402\n"
     ]
    }
   ],
   "source": [
    "print(win_rate_salle_player1, win_rate_salle_player2, win_rate_salle_difference)"
   ]
  },
  {
   "cell_type": "code",
   "execution_count": 52,
   "metadata": {},
   "outputs": [],
   "source": [
    "# Ajouter cette valeur à la fin de match_data\n",
    "additional_features = [\n",
    "    rank_difference,\n",
    "    points_difference,\n",
    "    win_rate_difference,\n",
    "    win_rate_difference3,\n",
    "    win_rate_tiebreak_difference,\n",
    "    aces_difference,\n",
    "    double_faults_difference,\n",
    "    win_rate_dure_difference,\n",
    "    win_rate_terre_difference,\n",
    "    win_rate_gazon_difference,\n",
    "    win_rate_salle_difference\n",
    "]\n",
    "\n",
    "# Ajouter ces nouvelles valeurs à la fin de match_data\n",
    "match_data_with_diff = np.append(match_data, [additional_features], axis=1)"
   ]
  },
  {
   "cell_type": "code",
   "execution_count": 53,
   "metadata": {},
   "outputs": [
    {
     "name": "stdout",
     "output_type": "stream",
     "text": [
      "[[2.50000000e+01 9.30000000e+01 6.36000000e+02 5.10204082e-01\n",
      "  4.11764706e-01 6.84210526e-01 3.20000000e+01 5.31250000e-01\n",
      "  1.00000000e+00 0.00000000e+00 9.00000000e+00 4.44444444e-01\n",
      "  7.00000000e+00 5.71428571e-01 0.00000000e+00 0.00000000e+00\n",
      "  0.00000000e+00 0.00000000e+00 6.33420064e-01 7.47603834e-01\n",
      "  5.32334385e-01 3.55411499e-01 3.75939850e-01 2.22448980e+00\n",
      "  6.42857143e+00 3.60000000e+01 6.60000000e+01 7.79000000e+02\n",
      "  3.54166667e-01 4.61538462e-01 4.66666667e-01 2.40000000e+01\n",
      "  3.33333333e-01 5.00000000e+00 0.00000000e+00 6.00000000e+00\n",
      "  1.66666667e-01 1.30000000e+01 6.15384615e-01 0.00000000e+00\n",
      "  0.00000000e+00 0.00000000e+00 0.00000000e+00 5.94896332e-01\n",
      "  6.72475424e-01 5.11154856e-01 3.41594828e-01 3.86029412e-01\n",
      "  2.31914894e+00 4.44680851e+00 2.70000000e+01 1.43000000e+02\n",
      "  1.56037415e-01 4.97737557e-02 2.17543860e-01 1.98176292e+00\n",
      "  9.46591403e-02 1.97916667e-01 0.00000000e+00 2.77777778e-01\n",
      "  4.39560440e-02]]\n"
     ]
    }
   ],
   "source": [
    "print(match_data_with_diff)"
   ]
  },
  {
   "cell_type": "code",
   "execution_count": null,
   "metadata": {},
   "outputs": [],
   "source": [
    "\n",
    "\n",
    "\n",
    "\n",
    "# Faire la prédiction\n",
    "probabilities = model.predict_proba(match_data)\n",
    "print(f\"\\nProbabilités de victoire :\")\n",
    "print(f\"{player1}: {probabilities[0][0]*100:.1f}%\")\n",
    "print(f\"{player2}: {probabilities[0][1]*100:.1f}%\")"
   ]
  }
 ],
 "metadata": {
  "kernelspec": {
   "display_name": ".venv",
   "language": "python",
   "name": "python3"
  },
  "language_info": {
   "codemirror_mode": {
    "name": "ipython",
    "version": 3
   },
   "file_extension": ".py",
   "mimetype": "text/x-python",
   "name": "python",
   "nbconvert_exporter": "python",
   "pygments_lexer": "ipython3",
   "version": "3.13.0"
  }
 },
 "nbformat": 4,
 "nbformat_minor": 2
}
