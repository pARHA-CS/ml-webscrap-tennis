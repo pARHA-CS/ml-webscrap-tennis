{
 "cells": [
  {
   "cell_type": "code",
   "execution_count": 1,
   "metadata": {},
   "outputs": [],
   "source": [
    "import polars as pl\n",
    "import joblib\n",
    "from sklearn.preprocessing import StandardScaler\n",
    "import numpy as np\n",
    "import os"
   ]
  },
  {
   "cell_type": "code",
   "execution_count": 2,
   "metadata": {},
   "outputs": [],
   "source": [
    "# Charger le modèle et les données\n",
    "model = joblib.load(\"../data/best_model.joblib\")\n",
    "player_data = pl.read_csv(\"../data/tennis_dataset_app.csv\")\n"
   ]
  },
  {
   "cell_type": "code",
   "execution_count": 3,
   "metadata": {},
   "outputs": [
    {
     "name": "stdout",
     "output_type": "stream",
     "text": [
      "Colonnes :\n",
      " ['player1_name', 'player1_age', 'player1_ranking', 'player1_points', 'player1_win_rate', 'player1_win_rate_3_sets', 'player1_win_rate_tiebreak', 'player1_total_matches_dure', 'player1_win_rate_dure', 'player1_total_matches_terre battue', 'player1_win_rate_terre battue', 'player1_total_matches_gazon', 'player1_win_rate_gazon', 'player1_total_matches_salle', 'player1_win_rate_salle', 'player1_total_matches_carpet', 'player1_win_rate_carpet', 'player1_total_matches_acryl', 'player1_win_rate_acryl', 'player1_avg_first_serve_pct', 'player1_avg_first_serve_won_pct', 'player1_avg_second_serve_won_pct', 'player1_avg_return_points_won_pct', 'player1_avg_break_point_won_pct', 'player1_avg_double_fautes', 'player1_avg_aces']\n"
     ]
    }
   ],
   "source": [
    "print(\"Colonnes :\\n\", player_data.columns)"
   ]
  },
  {
   "cell_type": "code",
   "execution_count": 4,
   "metadata": {},
   "outputs": [
    {
     "name": "stdout",
     "output_type": "stream",
     "text": [
      "['Adam Walton', 'Adrian Mannarino', 'Albert Ramos-Vinolas', 'Alejandro Davidovich Fokina', 'Alejandro Moro Canas', 'Alejandro Tabilo', 'Aleksandar Kovacevic', 'Aleksandar Vukic', 'Alex Bolt', 'Alex De Minaur', 'Alex Michelsen', 'Alexander Bublik', 'Alexander Ritschard', 'Alexander Shevchenko', 'Alexander Zverev', 'Alexandre Muller', 'Alexei Popyrin', 'Alibek Kachmazov', 'Andrey Rublev', 'Arthur Cazaux', 'Arthur Fils', 'Arthur Rinderknech', 'August Holmgren', 'Ben Shelton', 'Benjamin Bonzi', 'Billy Harris', 'Borna Coric', 'Botic Van De Zandschulp', 'Brandon Holt', 'Brandon Nakashima', 'Bu Yunchaokete', 'Cameron Norrie', 'Camilo Ugo Carabelli', 'Carlos Alcaraz', 'Carlos Taberner', 'Casper Ruud', 'Chak Lam Coleman Wong', 'Christopher Eubanks', \"Christopher O'Connell\", 'Chun Hsin Tseng', 'Clement Chidekh', 'Constant Lestienne', 'Corentin Moutet', 'Cristian Garin', 'Damir Dzumhur', 'Daniel Altmaier', 'Daniel Elahi Galan', 'Daniel Evans', 'Daniil Medvedev', 'David Goffin', 'Denis Shapovalov', 'Dmitry Popko', 'Dominik Koepfer', 'Duje Ajdukovic', 'Dusan Lajovic', 'Elmer Moller', 'Emil Ruusuvuori', 'Fabian Marozsan', 'Fabio Fognini', 'Facundo Bagnis', 'Facundo Diaz Acosta', 'Federico Agustin Gomez', 'Federico Coria', 'Felipe Meligeni Alves', 'Felix Auger Aliassime', 'Flavio Cobolli', 'Frances Tiafoe', 'Francesco Passaro', 'Francisco Cerundolo', 'Francisco Comesana', 'Gabriel Diallo', 'Gael Monfils', 'Gijs Brouwer', 'Giovanni Mpetshi Perricard', 'Gregoire Barrere', 'Grigor Dimitrov', 'Gustavo Heide', 'Hamad Medjedovic', 'Harold Mayot', 'Henri Squire', 'Henrique Rocha', 'Holger Rune', 'Hubert Hurkacz', 'Hugo Dellien', 'Hugo Gaston', 'Hugo Grenier', 'Jack Draper', 'Jacob Fearnley', 'Jaime Faria', 'Jakub Mensik', 'James Duckworth', 'James Kent Trotter', 'Jan Choinski', 'Jan-Lennard Struff', 'Jannik Sinner', 'Jaume Antoni Munar Clar', 'Jerome Kym', 'Jesper De Jong', 'Jiri Lehecka', 'Joao Fonseca', 'Jordan Thompson', 'Jozef Kovalik', 'Juan Manuel Cerundolo', 'Juan Pablo Ficovich', 'Juncheng Shang', 'Jurij Rodionov', 'Kamil Majchrzak', 'Karen Khachanov', 'Kei Nishikori', 'Laslo Djere', 'Leandro Riedi', 'Learner Tien', 'Li Tu', 'Lloyd Harris', 'Lorenzo Musetti', 'Lorenzo Sonego', 'Luca Nardi', 'Luca Van Assche', 'Lucas Pouille', 'Luciano Darderi', 'Lukas Klein', 'Mackenzie Mcdonald', 'Maks Kasnikowski', 'Marc-Andrea Huesler', 'Marco Trungelliti', 'Marcos Giron', 'Mariano Navone', 'Marin Cilic', 'Martin Landaluce', 'Marton Fucsovics', 'Matteo Arnaldi', 'Matteo Berrettini', 'Matteo Gigante', 'Mattia Bellucci', 'Max Purcell', 'Maximilian Marterer', 'Mikhail Kukushkin', 'Miomir Kecmanovic', 'Mitchell Krueger', 'Murkel Dellien', 'Nick Hardt', 'Nicolas Jarry', 'Nicolas Moreno De Alboran', 'Nishesh Basavareddy', 'Novak Djokovic', 'Nuno Borges', 'Omar Jasika', 'Otto Virtanen', 'Pablo Carreno-Busta', 'Paul Jubb', 'Pavel Kotov', 'Pedro Martinez Portero', 'Pierre-Hugues Herbert', 'Quentin Halys', 'Radu Albot', 'Rafael Nadal', 'Raphael Collignon', 'Richard Gasquet', 'Rinky Hijikata', 'Roberto Bautista Agut', 'Roberto Carballes Baena', 'Roman Andres Burruchaga', 'Roman Safiullin', 'Sebastian Baez', 'Sebastian Korda', 'Sebastian Ofner', 'Seongchan Hong', 'Sho Shimabukuro', 'Stan Wawrinka', 'Stefano Napolitano', 'Stefanos Tsitsipas', 'Sumit Nagal', 'Tallon Griekspoor', 'Taro Daniel', 'Taylor Harry Fritz', 'Terence Atmane', 'Thanasi Kokkinakis', 'Thiago Agustin Tirante', 'Thiago Moura Monteiro', 'Thiago Seyboth Wild', 'Timofey Skatov', 'Titouan Droguet', 'Tomas Barrios Vera', 'Tomas Machac', 'Tomas Martin Etcheverry', 'Tommy Paul', 'Tristan Boyer', 'Tristan Schoolkate', 'Ugo Humbert', 'Valentin Royer', 'Valentin Vacherot', 'Vilius Gaubas', 'Vit Kopriva', 'Yannick Hanfmann', 'Yasutaka Uchiyama', 'Yoshihito Nishioka', 'Yuta Shimizu', 'Zachary Svajda', 'Zhizhen Zhang', 'Zizou Bergs']\n"
     ]
    }
   ],
   "source": [
    "players_list = sorted(player_data[\"player1_name\"].unique().to_list())\n",
    "\n",
    "print(players_list)"
   ]
  },
  {
   "cell_type": "code",
   "execution_count": 5,
   "metadata": {},
   "outputs": [
    {
     "name": "stdout",
     "output_type": "stream",
     "text": [
      "\n",
      "Joueurs sélectionnés : Adam Walton vs Adrian Mannarino\n"
     ]
    }
   ],
   "source": [
    "player1 = players_list[0]  # Premier joueur de la liste\n",
    "player2 = players_list[1]  # Deuxième joueur de la liste\n",
    "print(f\"\\nJoueurs sélectionnés : {player1} vs {player2}\")"
   ]
  },
  {
   "cell_type": "code",
   "execution_count": 6,
   "metadata": {},
   "outputs": [
    {
     "name": "stdout",
     "output_type": "stream",
     "text": [
      "[[2.50000000e+01 9.30000000e+01 6.36000000e+02 5.10204082e-01\n",
      "  4.11764706e-01 6.84210526e-01 3.20000000e+01 5.31250000e-01\n",
      "  1.00000000e+00 0.00000000e+00 9.00000000e+00 4.44444444e-01\n",
      "  7.00000000e+00 5.71428571e-01 0.00000000e+00 0.00000000e+00\n",
      "  0.00000000e+00 0.00000000e+00 6.33420064e-01 7.47603834e-01\n",
      "  5.32334385e-01 3.55411499e-01 3.75939850e-01 2.22448980e+00\n",
      "  6.42857143e+00]]\n",
      "[[3.60000000e+01 6.60000000e+01 7.79000000e+02 3.54166667e-01\n",
      "  4.61538462e-01 4.66666667e-01 2.40000000e+01 3.33333333e-01\n",
      "  5.00000000e+00 0.00000000e+00 6.00000000e+00 1.66666667e-01\n",
      "  1.30000000e+01 6.15384615e-01 0.00000000e+00 0.00000000e+00\n",
      "  0.00000000e+00 0.00000000e+00 5.94896332e-01 6.72475424e-01\n",
      "  5.11154856e-01 3.41594828e-01 3.86029412e-01 2.31914894e+00\n",
      "  4.44680851e+00]]\n"
     ]
    }
   ],
   "source": [
    "# Récupérer les données des joueurs\n",
    "player1_stats = player_data.filter(pl.col(player_data.columns[0]) == player1).select(\n",
    "    pl.col(player_data.columns[1:26])\n",
    ").to_numpy()\n",
    "\n",
    "player2_stats = player_data.filter(pl.col(player_data.columns[0]) == player2).select(\n",
    "    pl.col(player_data.columns[1:26])\n",
    ").to_numpy()\n",
    "\n",
    "\n",
    "print(player1_stats)\n",
    "\n",
    "print(player2_stats)"
   ]
  },
  {
   "cell_type": "code",
   "execution_count": 7,
   "metadata": {},
   "outputs": [
    {
     "name": "stdout",
     "output_type": "stream",
     "text": [
      "[[2.50000000e+01 9.30000000e+01 6.36000000e+02 5.10204082e-01\n",
      "  4.11764706e-01 6.84210526e-01 3.20000000e+01 5.31250000e-01\n",
      "  1.00000000e+00 0.00000000e+00 9.00000000e+00 4.44444444e-01\n",
      "  7.00000000e+00 5.71428571e-01 0.00000000e+00 0.00000000e+00\n",
      "  0.00000000e+00 0.00000000e+00 6.33420064e-01 7.47603834e-01\n",
      "  5.32334385e-01 3.55411499e-01 3.75939850e-01 2.22448980e+00\n",
      "  6.42857143e+00 3.60000000e+01 6.60000000e+01 7.79000000e+02\n",
      "  3.54166667e-01 4.61538462e-01 4.66666667e-01 2.40000000e+01\n",
      "  3.33333333e-01 5.00000000e+00 0.00000000e+00 6.00000000e+00\n",
      "  1.66666667e-01 1.30000000e+01 6.15384615e-01 0.00000000e+00\n",
      "  0.00000000e+00 0.00000000e+00 0.00000000e+00 5.94896332e-01\n",
      "  6.72475424e-01 5.11154856e-01 3.41594828e-01 3.86029412e-01\n",
      "  2.31914894e+00 4.44680851e+00]]\n"
     ]
    }
   ],
   "source": [
    "match_data = np.concatenate([player1_stats[0], player2_stats[0]]).reshape(1, -1)\n",
    "\n",
    "print(match_data)"
   ]
  },
  {
   "cell_type": "code",
   "execution_count": 8,
   "metadata": {},
   "outputs": [],
   "source": [
    "#Diff ranking\n",
    "ranking_player1 = match_data[0][1]  # Correspond à 9.30000000e+01\n",
    "ranking_player2 = match_data[0][26]  # Correspond à 6.60000000e+01\n",
    "\n",
    "# Calculer la différence absolue de ranking\n",
    "rank_difference = abs(ranking_player1 - ranking_player2)\n"
   ]
  },
  {
   "cell_type": "code",
   "execution_count": 9,
   "metadata": {},
   "outputs": [
    {
     "name": "stdout",
     "output_type": "stream",
     "text": [
      "93.0 66.0\n",
      "27.0\n"
     ]
    }
   ],
   "source": [
    "print(ranking_player1, ranking_player2)\n",
    "\n",
    "print(rank_difference)"
   ]
  },
  {
   "cell_type": "code",
   "execution_count": 10,
   "metadata": {},
   "outputs": [],
   "source": [
    "#points_diff\n",
    "points_player1 = match_data[0][2]  \n",
    "points_player2 = match_data[0][27]  \n",
    "\n",
    "# Calculer la différence absolue de ranking\n",
    "points_difference = abs(points_player1 - points_player2)"
   ]
  },
  {
   "cell_type": "code",
   "execution_count": 11,
   "metadata": {},
   "outputs": [
    {
     "name": "stdout",
     "output_type": "stream",
     "text": [
      "636.0 779.0 143.0\n"
     ]
    }
   ],
   "source": [
    "print(points_player1, points_player2, points_difference)"
   ]
  },
  {
   "cell_type": "code",
   "execution_count": 12,
   "metadata": {},
   "outputs": [],
   "source": [
    "#win_rate_diff\n",
    "\n",
    "win_rate_player1 = match_data[0][3]\n",
    "win_rate_player2 = match_data[0][28]\n",
    "\n",
    "win_rate_difference = abs(win_rate_player1 - win_rate_player2)"
   ]
  },
  {
   "cell_type": "code",
   "execution_count": 13,
   "metadata": {},
   "outputs": [
    {
     "name": "stdout",
     "output_type": "stream",
     "text": [
      "0.5102040816326531 0.3541666666666667 0.1560374149659864\n"
     ]
    }
   ],
   "source": [
    "print(win_rate_player1, win_rate_player2, win_rate_difference)"
   ]
  },
  {
   "cell_type": "code",
   "execution_count": 14,
   "metadata": {},
   "outputs": [],
   "source": [
    "#win_rate_diff3\n",
    "\n",
    "win_rate3_player1 = match_data[0][4]\n",
    "win_rate3_player2 = match_data[0][29]\n",
    "\n",
    "win_rate_difference3 = abs(win_rate3_player1 - win_rate3_player2)"
   ]
  },
  {
   "cell_type": "code",
   "execution_count": 15,
   "metadata": {},
   "outputs": [
    {
     "name": "stdout",
     "output_type": "stream",
     "text": [
      "0.4117647058823529 0.46153846153846156 0.04977375565610864\n"
     ]
    }
   ],
   "source": [
    "print(win_rate3_player1, win_rate3_player2, win_rate_difference3)"
   ]
  },
  {
   "cell_type": "code",
   "execution_count": 16,
   "metadata": {},
   "outputs": [],
   "source": [
    "#win_rate_tiebreak_diff\n",
    "\n",
    "win_rate_tiebreak_player1 = match_data[0][5]\n",
    "win_rate_tiebreak_player2 = match_data[0][30]\n",
    "\n",
    "win_rate_tiebreak_difference = abs(win_rate_tiebreak_player1 - win_rate_tiebreak_player2)"
   ]
  },
  {
   "cell_type": "code",
   "execution_count": 17,
   "metadata": {},
   "outputs": [
    {
     "name": "stdout",
     "output_type": "stream",
     "text": [
      "0.6842105263157895 0.4666666666666667 0.21754385964912282\n"
     ]
    }
   ],
   "source": [
    "print(win_rate_tiebreak_player1, win_rate_tiebreak_player2, win_rate_tiebreak_difference)"
   ]
  },
  {
   "cell_type": "code",
   "execution_count": 18,
   "metadata": {},
   "outputs": [],
   "source": [
    "#aces_diff\n",
    "\n",
    "aces_player1 = match_data[0][24]\n",
    "aces_player2 = match_data[0][49]\n",
    "\n",
    "aces_difference = abs(aces_player1 - aces_player2)"
   ]
  },
  {
   "cell_type": "code",
   "execution_count": 19,
   "metadata": {},
   "outputs": [
    {
     "name": "stdout",
     "output_type": "stream",
     "text": [
      "6.428571428571429 4.446808510638298 1.981762917933131\n"
     ]
    }
   ],
   "source": [
    "print(aces_player1, aces_player2, aces_difference)"
   ]
  },
  {
   "cell_type": "code",
   "execution_count": 20,
   "metadata": {},
   "outputs": [],
   "source": [
    "#double_faults_diff\n",
    "\n",
    "double_faults_player1 = match_data[0][23]\n",
    "double_faults_player2 = match_data[0][48]\n",
    "\n",
    "double_faults_difference = abs(double_faults_player1 - double_faults_player2)"
   ]
  },
  {
   "cell_type": "code",
   "execution_count": 21,
   "metadata": {},
   "outputs": [
    {
     "name": "stdout",
     "output_type": "stream",
     "text": [
      "2.2244897959183674 2.3191489361702127 0.0946591402518453\n"
     ]
    }
   ],
   "source": [
    "print(double_faults_player1, double_faults_player2, double_faults_difference)"
   ]
  },
  {
   "cell_type": "code",
   "execution_count": 22,
   "metadata": {},
   "outputs": [],
   "source": [
    "#win_rate_dure_diff\n",
    "\n",
    "win_rate_dure_player1 = match_data[0][7]\n",
    "win_rate_dure_player2 = match_data[0][32]\n",
    "\n",
    "win_rate_dure_difference = abs(win_rate_dure_player1 - win_rate_dure_player2)"
   ]
  },
  {
   "cell_type": "code",
   "execution_count": 23,
   "metadata": {},
   "outputs": [
    {
     "name": "stdout",
     "output_type": "stream",
     "text": [
      "0.53125 0.3333333333333333 0.19791666666666669\n"
     ]
    }
   ],
   "source": [
    "print(win_rate_dure_player1, win_rate_dure_player2, win_rate_dure_difference)"
   ]
  },
  {
   "cell_type": "code",
   "execution_count": 24,
   "metadata": {},
   "outputs": [],
   "source": [
    "#win_rate_terre_diff\n",
    "\n",
    "win_rate_terre_player1 = match_data[0][9]\n",
    "win_rate_terre_player2 = match_data[0][34]\n",
    "\n",
    "win_rate_terre_difference = abs(win_rate_terre_player1 - win_rate_terre_player2)"
   ]
  },
  {
   "cell_type": "code",
   "execution_count": 25,
   "metadata": {},
   "outputs": [
    {
     "name": "stdout",
     "output_type": "stream",
     "text": [
      "0.0 0.0 0.0\n"
     ]
    }
   ],
   "source": [
    "print(win_rate_terre_player1, win_rate_terre_player2, win_rate_terre_difference)"
   ]
  },
  {
   "cell_type": "code",
   "execution_count": 26,
   "metadata": {},
   "outputs": [],
   "source": [
    "#win_rate_gazon_diff\n",
    "\n",
    "win_rate_gazon_player1 = match_data[0][11]\n",
    "win_rate_gazon_player2 = match_data[0][36]\n",
    "\n",
    "win_rate_gazon_difference = abs(win_rate_gazon_player1 - win_rate_gazon_player2)"
   ]
  },
  {
   "cell_type": "code",
   "execution_count": 27,
   "metadata": {},
   "outputs": [
    {
     "name": "stdout",
     "output_type": "stream",
     "text": [
      "0.4444444444444444 0.16666666666666666 0.2777777777777778\n"
     ]
    }
   ],
   "source": [
    "print( win_rate_gazon_player1, win_rate_gazon_player2, win_rate_gazon_difference)"
   ]
  },
  {
   "cell_type": "code",
   "execution_count": 28,
   "metadata": {},
   "outputs": [],
   "source": [
    "#win_rate_salle_diff\n",
    "\n",
    "win_rate_salle_player1 = match_data[0][13]\n",
    "win_rate_salle_player2 = match_data[0][38]\n",
    "\n",
    "win_rate_salle_difference = abs(win_rate_salle_player1 - win_rate_salle_player2)"
   ]
  },
  {
   "cell_type": "code",
   "execution_count": 29,
   "metadata": {},
   "outputs": [
    {
     "name": "stdout",
     "output_type": "stream",
     "text": [
      "0.5714285714285714 0.6153846153846154 0.04395604395604402\n"
     ]
    }
   ],
   "source": [
    "print(win_rate_salle_player1, win_rate_salle_player2, win_rate_salle_difference)"
   ]
  },
  {
   "cell_type": "code",
   "execution_count": 30,
   "metadata": {},
   "outputs": [],
   "source": [
    "# Ajouter cette valeur à la fin de match_data\n",
    "additional_features = [\n",
    "    rank_difference,\n",
    "    points_difference,\n",
    "    win_rate_difference,\n",
    "    win_rate_difference3,\n",
    "    win_rate_tiebreak_difference,\n",
    "    aces_difference,\n",
    "    double_faults_difference,\n",
    "    win_rate_dure_difference,\n",
    "    win_rate_terre_difference,\n",
    "    win_rate_gazon_difference,\n",
    "    win_rate_salle_difference\n",
    "]\n",
    "\n",
    "# Ajouter ces nouvelles valeurs à la fin de match_data\n",
    "match_data_with_diff = np.append(match_data, [additional_features], axis=1)"
   ]
  },
  {
   "cell_type": "code",
   "execution_count": 31,
   "metadata": {},
   "outputs": [
    {
     "name": "stdout",
     "output_type": "stream",
     "text": [
      "[[2.50000000e+01 9.30000000e+01 6.36000000e+02 5.10204082e-01\n",
      "  4.11764706e-01 6.84210526e-01 3.20000000e+01 5.31250000e-01\n",
      "  1.00000000e+00 0.00000000e+00 9.00000000e+00 4.44444444e-01\n",
      "  7.00000000e+00 5.71428571e-01 0.00000000e+00 0.00000000e+00\n",
      "  0.00000000e+00 0.00000000e+00 6.33420064e-01 7.47603834e-01\n",
      "  5.32334385e-01 3.55411499e-01 3.75939850e-01 2.22448980e+00\n",
      "  6.42857143e+00 3.60000000e+01 6.60000000e+01 7.79000000e+02\n",
      "  3.54166667e-01 4.61538462e-01 4.66666667e-01 2.40000000e+01\n",
      "  3.33333333e-01 5.00000000e+00 0.00000000e+00 6.00000000e+00\n",
      "  1.66666667e-01 1.30000000e+01 6.15384615e-01 0.00000000e+00\n",
      "  0.00000000e+00 0.00000000e+00 0.00000000e+00 5.94896332e-01\n",
      "  6.72475424e-01 5.11154856e-01 3.41594828e-01 3.86029412e-01\n",
      "  2.31914894e+00 4.44680851e+00 2.70000000e+01 1.43000000e+02\n",
      "  1.56037415e-01 4.97737557e-02 2.17543860e-01 1.98176292e+00\n",
      "  9.46591403e-02 1.97916667e-01 0.00000000e+00 2.77777778e-01\n",
      "  4.39560440e-02]]\n"
     ]
    }
   ],
   "source": [
    "print(match_data_with_diff)"
   ]
  },
  {
   "cell_type": "code",
   "execution_count": 32,
   "metadata": {},
   "outputs": [
    {
     "ename": "ValueError",
     "evalue": "X has 50 features, but RandomForestClassifier is expecting 66 features as input.",
     "output_type": "error",
     "traceback": [
      "\u001b[1;31m---------------------------------------------------------------------------\u001b[0m",
      "\u001b[1;31mValueError\u001b[0m                                Traceback (most recent call last)",
      "Cell \u001b[1;32mIn[32], line 2\u001b[0m\n\u001b[0;32m      1\u001b[0m \u001b[38;5;66;03m# Faire la prédiction\u001b[39;00m\n\u001b[1;32m----> 2\u001b[0m probabilities \u001b[38;5;241m=\u001b[39m \u001b[43mmodel\u001b[49m\u001b[38;5;241;43m.\u001b[39;49m\u001b[43mpredict_proba\u001b[49m\u001b[43m(\u001b[49m\u001b[43mmatch_data\u001b[49m\u001b[43m)\u001b[49m\n\u001b[0;32m      3\u001b[0m \u001b[38;5;28mprint\u001b[39m(\u001b[38;5;124mf\u001b[39m\u001b[38;5;124m\"\u001b[39m\u001b[38;5;130;01m\\n\u001b[39;00m\u001b[38;5;124mProbabilités de victoire :\u001b[39m\u001b[38;5;124m\"\u001b[39m)\n\u001b[0;32m      4\u001b[0m \u001b[38;5;28mprint\u001b[39m(\u001b[38;5;124mf\u001b[39m\u001b[38;5;124m\"\u001b[39m\u001b[38;5;132;01m{\u001b[39;00mplayer1\u001b[38;5;132;01m}\u001b[39;00m\u001b[38;5;124m: \u001b[39m\u001b[38;5;132;01m{\u001b[39;00mprobabilities[\u001b[38;5;241m0\u001b[39m][\u001b[38;5;241m0\u001b[39m]\u001b[38;5;241m*\u001b[39m\u001b[38;5;241m100\u001b[39m\u001b[38;5;132;01m:\u001b[39;00m\u001b[38;5;124m.1f\u001b[39m\u001b[38;5;132;01m}\u001b[39;00m\u001b[38;5;124m%\u001b[39m\u001b[38;5;124m\"\u001b[39m)\n",
      "File \u001b[1;32md:\\Cours_M2\\webscraping\\ml-webscrap-tennis\\.venv\\Lib\\site-packages\\sklearn\\ensemble\\_forest.py:946\u001b[0m, in \u001b[0;36mForestClassifier.predict_proba\u001b[1;34m(self, X)\u001b[0m\n\u001b[0;32m    944\u001b[0m check_is_fitted(\u001b[38;5;28mself\u001b[39m)\n\u001b[0;32m    945\u001b[0m \u001b[38;5;66;03m# Check data\u001b[39;00m\n\u001b[1;32m--> 946\u001b[0m X \u001b[38;5;241m=\u001b[39m \u001b[38;5;28;43mself\u001b[39;49m\u001b[38;5;241;43m.\u001b[39;49m\u001b[43m_validate_X_predict\u001b[49m\u001b[43m(\u001b[49m\u001b[43mX\u001b[49m\u001b[43m)\u001b[49m\n\u001b[0;32m    948\u001b[0m \u001b[38;5;66;03m# Assign chunk of trees to jobs\u001b[39;00m\n\u001b[0;32m    949\u001b[0m n_jobs, _, _ \u001b[38;5;241m=\u001b[39m _partition_estimators(\u001b[38;5;28mself\u001b[39m\u001b[38;5;241m.\u001b[39mn_estimators, \u001b[38;5;28mself\u001b[39m\u001b[38;5;241m.\u001b[39mn_jobs)\n",
      "File \u001b[1;32md:\\Cours_M2\\webscraping\\ml-webscrap-tennis\\.venv\\Lib\\site-packages\\sklearn\\ensemble\\_forest.py:641\u001b[0m, in \u001b[0;36mBaseForest._validate_X_predict\u001b[1;34m(self, X)\u001b[0m\n\u001b[0;32m    638\u001b[0m \u001b[38;5;28;01melse\u001b[39;00m:\n\u001b[0;32m    639\u001b[0m     force_all_finite \u001b[38;5;241m=\u001b[39m \u001b[38;5;28;01mTrue\u001b[39;00m\n\u001b[1;32m--> 641\u001b[0m X \u001b[38;5;241m=\u001b[39m \u001b[38;5;28;43mself\u001b[39;49m\u001b[38;5;241;43m.\u001b[39;49m\u001b[43m_validate_data\u001b[49m\u001b[43m(\u001b[49m\n\u001b[0;32m    642\u001b[0m \u001b[43m    \u001b[49m\u001b[43mX\u001b[49m\u001b[43m,\u001b[49m\n\u001b[0;32m    643\u001b[0m \u001b[43m    \u001b[49m\u001b[43mdtype\u001b[49m\u001b[38;5;241;43m=\u001b[39;49m\u001b[43mDTYPE\u001b[49m\u001b[43m,\u001b[49m\n\u001b[0;32m    644\u001b[0m \u001b[43m    \u001b[49m\u001b[43maccept_sparse\u001b[49m\u001b[38;5;241;43m=\u001b[39;49m\u001b[38;5;124;43m\"\u001b[39;49m\u001b[38;5;124;43mcsr\u001b[39;49m\u001b[38;5;124;43m\"\u001b[39;49m\u001b[43m,\u001b[49m\n\u001b[0;32m    645\u001b[0m \u001b[43m    \u001b[49m\u001b[43mreset\u001b[49m\u001b[38;5;241;43m=\u001b[39;49m\u001b[38;5;28;43;01mFalse\u001b[39;49;00m\u001b[43m,\u001b[49m\n\u001b[0;32m    646\u001b[0m \u001b[43m    \u001b[49m\u001b[43mforce_all_finite\u001b[49m\u001b[38;5;241;43m=\u001b[39;49m\u001b[43mforce_all_finite\u001b[49m\u001b[43m,\u001b[49m\n\u001b[0;32m    647\u001b[0m \u001b[43m\u001b[49m\u001b[43m)\u001b[49m\n\u001b[0;32m    648\u001b[0m \u001b[38;5;28;01mif\u001b[39;00m issparse(X) \u001b[38;5;129;01mand\u001b[39;00m (X\u001b[38;5;241m.\u001b[39mindices\u001b[38;5;241m.\u001b[39mdtype \u001b[38;5;241m!=\u001b[39m np\u001b[38;5;241m.\u001b[39mintc \u001b[38;5;129;01mor\u001b[39;00m X\u001b[38;5;241m.\u001b[39mindptr\u001b[38;5;241m.\u001b[39mdtype \u001b[38;5;241m!=\u001b[39m np\u001b[38;5;241m.\u001b[39mintc):\n\u001b[0;32m    649\u001b[0m     \u001b[38;5;28;01mraise\u001b[39;00m \u001b[38;5;167;01mValueError\u001b[39;00m(\u001b[38;5;124m\"\u001b[39m\u001b[38;5;124mNo support for np.int64 index based sparse matrices\u001b[39m\u001b[38;5;124m\"\u001b[39m)\n",
      "File \u001b[1;32md:\\Cours_M2\\webscraping\\ml-webscrap-tennis\\.venv\\Lib\\site-packages\\sklearn\\base.py:654\u001b[0m, in \u001b[0;36mBaseEstimator._validate_data\u001b[1;34m(self, X, y, reset, validate_separately, cast_to_ndarray, **check_params)\u001b[0m\n\u001b[0;32m    651\u001b[0m     out \u001b[38;5;241m=\u001b[39m X, y\n\u001b[0;32m    653\u001b[0m \u001b[38;5;28;01mif\u001b[39;00m \u001b[38;5;129;01mnot\u001b[39;00m no_val_X \u001b[38;5;129;01mand\u001b[39;00m check_params\u001b[38;5;241m.\u001b[39mget(\u001b[38;5;124m\"\u001b[39m\u001b[38;5;124mensure_2d\u001b[39m\u001b[38;5;124m\"\u001b[39m, \u001b[38;5;28;01mTrue\u001b[39;00m):\n\u001b[1;32m--> 654\u001b[0m     \u001b[38;5;28;43mself\u001b[39;49m\u001b[38;5;241;43m.\u001b[39;49m\u001b[43m_check_n_features\u001b[49m\u001b[43m(\u001b[49m\u001b[43mX\u001b[49m\u001b[43m,\u001b[49m\u001b[43m \u001b[49m\u001b[43mreset\u001b[49m\u001b[38;5;241;43m=\u001b[39;49m\u001b[43mreset\u001b[49m\u001b[43m)\u001b[49m\n\u001b[0;32m    656\u001b[0m \u001b[38;5;28;01mreturn\u001b[39;00m out\n",
      "File \u001b[1;32md:\\Cours_M2\\webscraping\\ml-webscrap-tennis\\.venv\\Lib\\site-packages\\sklearn\\base.py:443\u001b[0m, in \u001b[0;36mBaseEstimator._check_n_features\u001b[1;34m(self, X, reset)\u001b[0m\n\u001b[0;32m    440\u001b[0m     \u001b[38;5;28;01mreturn\u001b[39;00m\n\u001b[0;32m    442\u001b[0m \u001b[38;5;28;01mif\u001b[39;00m n_features \u001b[38;5;241m!=\u001b[39m \u001b[38;5;28mself\u001b[39m\u001b[38;5;241m.\u001b[39mn_features_in_:\n\u001b[1;32m--> 443\u001b[0m     \u001b[38;5;28;01mraise\u001b[39;00m \u001b[38;5;167;01mValueError\u001b[39;00m(\n\u001b[0;32m    444\u001b[0m         \u001b[38;5;124mf\u001b[39m\u001b[38;5;124m\"\u001b[39m\u001b[38;5;124mX has \u001b[39m\u001b[38;5;132;01m{\u001b[39;00mn_features\u001b[38;5;132;01m}\u001b[39;00m\u001b[38;5;124m features, but \u001b[39m\u001b[38;5;132;01m{\u001b[39;00m\u001b[38;5;28mself\u001b[39m\u001b[38;5;241m.\u001b[39m\u001b[38;5;18m__class__\u001b[39m\u001b[38;5;241m.\u001b[39m\u001b[38;5;18m__name__\u001b[39m\u001b[38;5;132;01m}\u001b[39;00m\u001b[38;5;124m \u001b[39m\u001b[38;5;124m\"\u001b[39m\n\u001b[0;32m    445\u001b[0m         \u001b[38;5;124mf\u001b[39m\u001b[38;5;124m\"\u001b[39m\u001b[38;5;124mis expecting \u001b[39m\u001b[38;5;132;01m{\u001b[39;00m\u001b[38;5;28mself\u001b[39m\u001b[38;5;241m.\u001b[39mn_features_in_\u001b[38;5;132;01m}\u001b[39;00m\u001b[38;5;124m features as input.\u001b[39m\u001b[38;5;124m\"\u001b[39m\n\u001b[0;32m    446\u001b[0m     )\n",
      "\u001b[1;31mValueError\u001b[0m: X has 50 features, but RandomForestClassifier is expecting 66 features as input."
     ]
    }
   ],
   "source": [
    "\n",
    "\n",
    "\n",
    "\n",
    "# Faire la prédiction\n",
    "probabilities = model.predict_proba(match_data)\n",
    "print(f\"\\nProbabilités de victoire :\")\n",
    "print(f\"{player1}: {probabilities[0][0]*100:.1f}%\")\n",
    "print(f\"{player2}: {probabilities[0][1]*100:.1f}%\")"
   ]
  }
 ],
 "metadata": {
  "kernelspec": {
   "display_name": ".venv",
   "language": "python",
   "name": "python3"
  },
  "language_info": {
   "codemirror_mode": {
    "name": "ipython",
    "version": 3
   },
   "file_extension": ".py",
   "mimetype": "text/x-python",
   "name": "python",
   "nbconvert_exporter": "python",
   "pygments_lexer": "ipython3",
   "version": "3.13.1"
  }
 },
 "nbformat": 4,
 "nbformat_minor": 2
}
